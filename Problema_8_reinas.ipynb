{
  "nbformat": 4,
  "nbformat_minor": 0,
  "metadata": {
    "colab": {
      "name": "Problema_8_reinas.ipynb",
      "provenance": [],
      "authorship_tag": "ABX9TyPtrSon+nwJLTtCrmOB9wVP",
      "include_colab_link": true
    },
    "kernelspec": {
      "name": "python3",
      "display_name": "Python 3"
    }
  },
  "cells": [
    {
      "cell_type": "markdown",
      "metadata": {
        "id": "view-in-github",
        "colab_type": "text"
      },
      "source": [
        "<a href=\"https://colab.research.google.com/github/Armandot1998/Pyton-Jupyter-Notebook/blob/master/Problema_8_reinas.ipynb\" target=\"_parent\"><img src=\"https://colab.research.google.com/assets/colab-badge.svg\" alt=\"Open In Colab\"/></a>"
      ]
    },
    {
      "cell_type": "code",
      "metadata": {
        "id": "bHd6yF9IsVRH",
        "colab_type": "code",
        "colab": {
          "base_uri": "https://localhost:8080/",
          "height": 187
        },
        "outputId": "59a09d0c-f76b-4d1a-c695-8715faf39ebd"
      },
      "source": [
        "# Para el agoritmo de las 8 reinas necesitamos declarar una función\n",
        "def solve(n):\n",
        "       #preparar una tabla\n",
        "       board = [[0 for x in range(n)] for x in range(n)]\n",
        "       #establecer posiciones iniciales\n",
        "       place_queen(board, 0, 0)\n",
        "\n",
        "def place_queen(board, row, column):\n",
        "       #colocar una reina que satisfaga todas las condiciones\n",
        "       #caso base\n",
        "       if row > len(board)-1:\n",
        "           print(board)\n",
        "       #verifique cada columna de la fila actual si es seguro colocar una reina\n",
        "       while column < len(board):\n",
        "           if is_safe(board, row, column):\n",
        "               #colocar una reina\n",
        "               board[row][column] = 1\n",
        "               #coloca la próxima reina con un tablero actualizado\n",
        "               return place_queen(board, row+1, 0)\n",
        "           else:\n",
        "               column += 1\n",
        "       #no hay columna que satisfaga las condiciones. Retractarse\n",
        "       for c in range(len(board)):\n",
        "           if board[row-1][c] == 1:\n",
        "               #eliminar esta reina\n",
        "               board[row-1][c] = 0\n",
        "               #volver a la fila anterior y comenzar desde la última columna sin marcar\n",
        "               return place_queen(board, row-1, c+1)\n",
        "\n",
        "def is_safe(board, row, column):\n",
        "       \"\"\" if no other queens threaten a queen at (row, queen) return True \"\"\"\n",
        "       queens = []\n",
        "       for r in range(len(board)):\n",
        "           for c in range(len(board)):\n",
        "               if board[r][c] == 1:\n",
        "                   queen = (r,c)\n",
        "                   queens.append(queen)\n",
        "       for queen in queens:\n",
        "           qr, qc = queen\n",
        "           #verificar si la posición está en la misma columna o fila\n",
        "           if row == qr or column == qc:\n",
        "               return False\n",
        "           #comprobar diagonales\n",
        "           if (row + column) == (qr+qc) or (column-row) == (qc-qr):\n",
        "               return False\n",
        "       return True\n",
        "\n",
        "solve(5)"
      ],
      "execution_count": 24,
      "outputs": [
        {
          "output_type": "stream",
          "text": [
            "[[1, 0, 0, 0, 0], [0, 0, 1, 0, 0], [0, 0, 0, 0, 1], [0, 1, 0, 0, 0], [0, 0, 0, 1, 0]]\n",
            "[[1, 0, 0, 0, 0], [0, 0, 0, 1, 0], [0, 1, 0, 0, 0], [0, 0, 0, 0, 1], [0, 0, 1, 0, 0]]\n",
            "[[0, 1, 0, 0, 0], [0, 0, 0, 1, 0], [1, 0, 0, 0, 0], [0, 0, 1, 0, 0], [0, 0, 0, 0, 1]]\n",
            "[[0, 1, 0, 0, 0], [0, 0, 0, 0, 1], [0, 0, 1, 0, 0], [1, 0, 0, 0, 0], [0, 0, 0, 1, 0]]\n",
            "[[0, 0, 1, 0, 0], [1, 0, 0, 0, 0], [0, 0, 0, 1, 0], [0, 1, 0, 0, 0], [0, 0, 0, 0, 1]]\n",
            "[[0, 0, 1, 0, 0], [0, 0, 0, 0, 1], [0, 1, 0, 0, 0], [0, 0, 0, 1, 0], [1, 0, 0, 0, 0]]\n",
            "[[0, 0, 0, 1, 0], [1, 0, 0, 0, 0], [0, 0, 1, 0, 0], [0, 0, 0, 0, 1], [0, 1, 0, 0, 0]]\n",
            "[[0, 0, 0, 1, 0], [0, 1, 0, 0, 0], [0, 0, 0, 0, 1], [0, 0, 1, 0, 0], [1, 0, 0, 0, 0]]\n",
            "[[0, 0, 0, 0, 1], [0, 1, 0, 0, 0], [0, 0, 0, 1, 0], [1, 0, 0, 0, 0], [0, 0, 1, 0, 0]]\n",
            "[[0, 0, 0, 0, 1], [0, 0, 1, 0, 0], [1, 0, 0, 0, 0], [0, 0, 0, 1, 0], [0, 1, 0, 0, 0]]\n"
          ],
          "name": "stdout"
        }
      ]
    }
  ]
}