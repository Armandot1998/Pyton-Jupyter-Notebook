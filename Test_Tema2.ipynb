{
 "cells": [
  {
   "cell_type": "markdown",
   "metadata": {
    "colab_type": "text",
    "id": "view-in-github"
   },
   "source": [
    "<a href=\"https://colab.research.google.com/github/Armandot1998/Pyton-Jupyter-Notebook/blob/master/Test_Tema_2.ipynb\" target=\"_parent\"><img src=\"https://colab.research.google.com/assets/colab-badge.svg\" alt=\"Open In Colab\"/></a>"
   ]
  },
  {
   "cell_type": "markdown",
   "metadata": {
    "colab_type": "text",
    "id": "XDiwjo0uDo8X"
   },
   "source": [
    "**1. Una libreria de Python es:**                                           \n",
    "- Una agrupación de funcionalidades.\n",
    "\n",
    "**2. Nmpy es una librería útil para:**\n",
    "- Cálculo matricial\n",
    "\n",
    "**3. Pandas es:**\n",
    "- Una librería para facilitar el tratamiento de datos\n",
    "\n",
    "**4. El proceso de trabajo de un data science:**\n",
    "- Comienza planteando una necesidad, oportunidad o problemática de negocio\n",
    "\n",
    "**5. Para mostrar los valores concretos de las dimensiones de un vector con Numpy llamamos a:**\n",
    "- shape()\n",
    "\n",
    "**6. Para llamar a la transpuesta de la matriz x con Numpy, ejecutamos:**\n",
    "- x.T.\n",
    "\n",
    "**7. Para obtener con Pandas un resumen rápido de la estructura e información contenida en un DataFrame llamamos a la función:**\n",
    "- describe()\n",
    "\n",
    "**8. La función iloc() de panda:**\n",
    "- Nos permite acceder a los valores a travéz de la posición del índice\n",
    "\n",
    "**9. La sentencia df[df.A > 0]:**\n",
    "- Muesstra solo las filas de df que en su columna A tiene una valor mayor que 0\n",
    "\n",
    "**10. Para hacer el join con Pandas, empleamos:**\n",
    "- join()\n"
   ]
  }
 ],
 "metadata": {
  "colab": {
   "authorship_tag": "ABX9TyMmBuvKXCmiQkCPL9Xtx3Ys",
   "include_colab_link": true,
   "name": "Test_Tema_2.ipynb",
   "provenance": []
  },
  "kernelspec": {
   "display_name": "Python 3",
   "language": "python",
   "name": "python3"
  },
  "language_info": {
   "codemirror_mode": {
    "name": "ipython",
    "version": 3
   },
   "file_extension": ".py",
   "mimetype": "text/x-python",
   "name": "python",
   "nbconvert_exporter": "python",
   "pygments_lexer": "ipython3",
   "version": "3.7.6"
  }
 },
 "nbformat": 4,
 "nbformat_minor": 1
}
