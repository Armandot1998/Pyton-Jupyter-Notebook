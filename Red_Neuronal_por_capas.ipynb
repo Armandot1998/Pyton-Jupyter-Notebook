{
  "nbformat": 4,
  "nbformat_minor": 0,
  "metadata": {
    "colab": {
      "name": "Red_Neuronal_por capas.ipynb",
      "provenance": [],
      "collapsed_sections": [],
      "authorship_tag": "ABX9TyMU2Ya+2zn9Bl6Nt4Q7az1B",
      "include_colab_link": true
    },
    "kernelspec": {
      "name": "python3",
      "display_name": "Python 3"
    }
  },
  "cells": [
    {
      "cell_type": "markdown",
      "metadata": {
        "id": "view-in-github",
        "colab_type": "text"
      },
      "source": [
        "<a href=\"https://colab.research.google.com/github/Armandot1998/Pyton-Jupyter-Notebook/blob/master/Red_Neuronal_por_capas.ipynb\" target=\"_parent\"><img src=\"https://colab.research.google.com/assets/colab-badge.svg\" alt=\"Open In Colab\"/></a>"
      ]
    },
    {
      "cell_type": "code",
      "metadata": {
        "id": "7wF3mxRhVki5",
        "colab_type": "code",
        "colab": {}
      },
      "source": [
        "import numpy as np\n",
        "import scipy as sc\n",
        "import matplotlib.pyplot as plt\n",
        "\n",
        "from sklearn.datasets import make_circles"
      ],
      "execution_count": null,
      "outputs": []
    },
    {
      "cell_type": "code",
      "metadata": {
        "id": "pO-Wuv5WWYur",
        "colab_type": "code",
        "colab": {
          "base_uri": "https://localhost:8080/",
          "height": 265
        },
        "outputId": "8b21bd86-4a30-4334-c3f8-a5fa5fd10d9c"
      },
      "source": [
        "# create el dataset\n",
        "n = 500\n",
        "p = 2\n",
        "\n",
        "X, Y = make_circles(n_samples = n, factor = 0.5, noise=0.05)\n",
        "\n",
        "plt.scatter(X[Y == 0, 0 ], X[Y == 0, 1], c=\"skyblue\")\n",
        "plt.scatter(X[Y == 1, 0 ], X[Y == 1, 1], c=\"salmon\")\n",
        "plt.axis(\"equal\")\n",
        "plt.show()\n",
        "\n"
      ],
      "execution_count": null,
      "outputs": [
        {
          "output_type": "display_data",
          "data": {
            "image/png": "[encoded data removed]",
            "text/plain": [
              "<Figure size 432x288 with 1 Axes>"
            ]
          },
          "metadata": {
            "tags": [],
            "needs_background": "light"
          }
        }
      ]
    },
    {
      "cell_type": "code",
      "metadata": {
        "id": "G6IB9nhKZd2y",
        "colab_type": "code",
        "colab": {}
      },
      "source": [
        "# clase de la capa de la red\n",
        "\n",
        "class neural_layer():\n",
        "\n",
        "  def __init__(self, n_conn, n_neur, act_f):\n",
        "    self.act_f = act_f\n",
        "    self.b = np.random.rand(1, n_neur)      * 2 - 1\n",
        "    self.b = np.random.rand(n_conn, n_neur) * 2 - 1"
      ],
      "execution_count": null,
      "outputs": []
    },
    {
      "cell_type": "code",
      "metadata": {
        "id": "dWqdh8pOaxer",
        "colab_type": "code",
        "colab": {
          "base_uri": "https://localhost:8080/",
          "height": 282
        },
        "outputId": "21b55fce-431b-4938-9eea-dd82a039d1f0"
      },
      "source": [
        "sigm = (lambda x: 1/(2 + np.e ** (-x)),\n",
        "        #la derivada de la fiuncion sigmoide\n",
        "                    lambda x: x * (1 - x))\n",
        "# la funcion relu es el maximo entre 0 y x, cuyo diminio positivo es decir todos los valores menoes a 0 dan 0\n",
        "relu = lambda x: np.maximum(0, x)\n",
        "\n",
        "_x = np.linspace(-5, 5, 100)\n",
        "# para acceder a la funcion sigmoide tenemos que especificar el indice \n",
        "#plt.plot(_x, relu(_x))\n",
        "\n",
        "plt.plot(_x, sigm[0](_x))"
      ],
      "execution_count": null,
      "outputs": [
        {
          "output_type": "execute_result",
          "data": {
            "text/plain": [
              "[<matplotlib.lines.Line2D at 0x7fc5235b62b0>]"
            ]
          },
          "metadata": {
            "tags": []
          },
          "execution_count": 31
        },
        {
          "output_type": "display_data",
          "data": {
            "image/png": "[encoded data removed]",
            "text/plain": [
              "<Figure size 432x288 with 1 Axes>"
            ]
          },
          "metadata": {
            "tags": [],
            "needs_background": "light"
          }
        }
      ]
    },
    {
      "cell_type": "code",
      "metadata": {
        "id": "fUToaWG-eRYX",
        "colab_type": "code",
        "colab": {
          "base_uri": "https://localhost:8080/",
          "height": 119
        },
        "outputId": "5d66d48d-8a6a-4dbf-9558-edd32eb20746"
      },
      "source": [
        "l0 = neural_layer(p, 4, sigm)\n",
        "l1 = neural_layer(4, 8, sigm)\n",
        "# ..\n",
        "\n",
        "# hiperparametro\n",
        "def create_nn(topology, act_f):\n",
        "\n",
        "  nn = []\n",
        "\n",
        "  for l, layer in enumerate(topology[:-1]):\n",
        "    nn.append(neural_layer(topology[l], topology[l+1], act_f))\n",
        "\n",
        "  return nn  \n",
        "\n",
        "\n",
        "# la estructura que nuestra red neuronal soporta\n",
        "# y el numero de capas\n",
        "# hasta ahorita la red neuronal no hace nada aun"
      ],
      "execution_count": null,
      "outputs": [
        {
          "output_type": "execute_result",
          "data": {
            "text/plain": [
              "[<__main__.neural_layer at 0x7fc52261fbe0>,\n",
              " <__main__.neural_layer at 0x7fc52261ffd0>,\n",
              " <__main__.neural_layer at 0x7fc52261f4a8>,\n",
              " <__main__.neural_layer at 0x7fc52261fac8>,\n",
              " <__main__.neural_layer at 0x7fc52261f5c0>,\n",
              " <__main__.neural_layer at 0x7fc52261f0b8>]"
            ]
          },
          "metadata": {
            "tags": []
          },
          "execution_count": 43
        }
      ]
    },
    {
      "cell_type": "code",
      "metadata": {
        "id": "MvvrVJVfgiVB",
        "colab_type": "code",
        "colab": {}
      },
      "source": [
        "topology = [p, 4, 8, 16, 8, 4, 1]\n",
        "\n",
        "neural_net = create_nn(topology, sigm)\n",
        "\n",
        "# funcionde coste\n",
        "# si en el algoritmo de back propagation se necesita la derivada del valor de coste \n",
        "#lo adelantamos # el error cuadratico medio\n",
        "l2_cost = (lambda Yp, Yr: np.mean((Yp - yr) ** 2), \n",
        "           lambda Yp, yr: (yp - Yr)) \n",
        "\n",
        "def train(neural_net, X, Y, l2_cost, lr=0.5):\n",
        "  # Forward pass\n",
        "  # tomar nuestro vector de entrada y pasarlo capa por capa, ejecutando las opereciones que se realizan en cada una de las neuronas \n",
        "  # las que son de 2 tipos suma ponderada: multiplicabamos el valor de entrada X * W + bayas y pasarla a la funciond e activacion\n",
        "  out = [(None, X)]\n",
        "\n",
        "  for l, layer in enumerate(neural_net):\n",
        "\n",
        "    z = out[-1][1] @ neural_net[1].W + neural_net[1].b\n",
        "    a = neural_net[1].act_f[0](z)\n",
        "\n",
        "    out.append((z, a))\n",
        "\n",
        "  print(out[-1][1])\n",
        "\n",
        "\n",
        "\n",
        "\n",
        " "
      ],
      "execution_count": null,
      "outputs": []
    },
    {
      "cell_type": "code",
      "metadata": {
        "id": "ir0WNpuEu1aQ",
        "colab_type": "code",
        "colab": {}
      },
      "source": [
        ""
      ],
      "execution_count": null,
      "outputs": []
    }
  ]
}