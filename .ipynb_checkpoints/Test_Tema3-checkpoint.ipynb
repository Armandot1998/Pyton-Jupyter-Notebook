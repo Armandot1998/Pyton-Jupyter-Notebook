{
 "cells": [
  {
   "cell_type": "markdown",
   "metadata": {
    "colab_type": "text",
    "id": "view-in-github"
   },
   "source": [
    "<a href=\"https://colab.research.google.com/github/Armandot1998/Pyton-Jupyter-Notebook/blob/master/Test_Tema_3.ipynb\" target=\"_parent\"><img src=\"https://colab.research.google.com/assets/colab-badge.svg\" alt=\"Open In Colab\"/></a>"
   ]
  },
  {
   "cell_type": "markdown",
   "metadata": {
    "colab_type": "text",
    "id": "OJU85OCtKcbo"
   },
   "source": [
    "**1. Los gráfos de computación:**                                           \n",
    "- Facilitan la ejecución de subtareas en entornos distribuidos.\n",
    "\n",
    "**2. En el siguiente código add_op es:**\n",
    "\n",
    " ![Ejemplo](https://scontent.fuio5-1.fna.fbcdn.net/v/t1.0-9/106911393_742790116494583_8254601662525673727_n.jpg?_nc_cat=104&_nc_sid=8024bb&_nc_ohc=WR9GAR6SaR4AX96XvqQ&_nc_ht=scontent.fuio5-1.fna&oh=d999cd95ab7806f8eac2ac401b39e27f&oe=5F27FE10)\n",
    "- Un tensor definido por la operación tf.add() con valor 5.\n",
    "\n",
    "**3. En el siguiente código mul_op_2:**\n",
    "\n",
    " ![Ejemplo](https://scontent.fuio5-1.fna.fbcdn.net/v/t1.0-9/106911393_742790116494583_8254601662525673727_n.jpg?_nc_cat=104&_nc_sid=8024bb&_nc_ohc=WR9GAR6SaR4AX96XvqQ&_nc_ht=scontent.fuio5-1.fna&oh=d999cd95ab7806f8eac2ac401b39e27f&oe=5F27FE10)\n",
    "- No es utilizado en el resto del grafo y, por tanto, es incorrecto.\n",
    "\n",
    "**4. En el siguiente z:**\n",
    "\n",
    " ![Ejemplo](https://scontent.fuio5-1.fna.fbcdn.net/v/t1.0-9/106911393_742790116494583_8254601662525673727_n.jpg?_nc_cat=104&_nc_sid=8024bb&_nc_ohc=WR9GAR6SaR4AX96XvqQ&_nc_ht=scontent.fuio5-1.fna&oh=d999cd95ab7806f8eac2ac401b39e27f&oe=5F27FE10)\n",
    "- Es un objeto de tipo tf.Session.run().\n",
    "\n",
    "**5. Selecciona todas las sentencias verdaderas sobre grafos de computación estáticos y dinámicos**\n",
    "- Un grafo de computación estático necesita ser definido antes de evaluarlo con datos.\n",
    "- Los grafos de computación dinámicos permiten la utilización de sentencias de control como IF/ELSE de manera sencilla, ya que las instrucciones son evaluadas al momento.\n",
    "\n",
    "**6. TensorFlow:**\n",
    "- Tiene una interfaz en Python, pero los cálculos numéricos se hacen en C++. \n",
    "- Utiliza C++ para los cálculos númericos en vez de Python por su mayor velocidad de cómputo.\n",
    "\n",
    "**7. Marca todos los frameworks que utilizan grafos de computación**\n",
    "- TensorFlow.\n",
    "- Pytorch.\n",
    "- Theano.\n",
    "\n",
    "**8. Marca Todas las respuestas correctas acerca de Keras**\n",
    "- Es una librería de alto nivel que defina una interfaz limpia y sencilla para el entrenamiento de redes neuronales.\n",
    "\n",
    "**9. Cuando un modelo con TensorFlow es definido, hemos visto que se añade un\n",
    "optimizador que minimiza una loss function. Como sabemos, esto implica que es\n",
    "necesario obtener los gradientes que tienen que ser utilizados durante el\n",
    "entrenamiento. ¿Cómo afecta esto al grafo de computación que se calcula para el\n",
    "entrenamiento del modelo? (marca la respuesta correcta):**\n",
    "- Al definir el optimizador como parte del modelo, TensorFlow calcula las\n",
    "operaciones de gradientes necesarias a partir del grafo actual y las añade a este,\n",
    "de modo que es posible evaluar los gradientes y aplicar gradient descent\n",
    "durante la ejecución.\n",
    "\n",
    "**10. En un modelo secuencial con Keras (marca la respuesta correcta):**\n",
    "- Las distintas capas se van añadiendo una detrás de otra y el modelo se\n",
    "compila con un optimizador.\n",
    "\n"
   ]
  }
 ],
 "metadata": {
  "colab": {
   "authorship_tag": "ABX9TyOolKULuwYD4Gt4zhc+qEkC",
   "include_colab_link": true,
   "name": "Test_Tema_3.ipynb",
   "provenance": []
  },
  "kernelspec": {
   "display_name": "Python 3",
   "language": "python",
   "name": "python3"
  },
  "language_info": {
   "codemirror_mode": {
    "name": "ipython",
    "version": 3
   },
   "file_extension": ".py",
   "mimetype": "text/x-python",
   "name": "python",
   "nbconvert_exporter": "python",
   "pygments_lexer": "ipython3",
   "version": "3.7.6"
  }
 },
 "nbformat": 4,
 "nbformat_minor": 1
}
