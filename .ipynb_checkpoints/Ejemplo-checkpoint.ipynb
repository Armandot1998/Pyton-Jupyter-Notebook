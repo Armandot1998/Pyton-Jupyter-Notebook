{
 "cells": [
  {
   "cell_type": "markdown",
   "metadata": {},
   "source": [
    "# Ejemplos practicos de Python\n"
   ]
  },
  {
   "cell_type": "code",
   "execution_count": 6,
   "metadata": {},
   "outputs": [
    {
     "name": "stdout",
     "output_type": "stream",
     "text": [
      "Hola mundo xd\n"
     ]
    }
   ],
   "source": [
    "# Comentario de una linea\n",
    "\"\"\" Comentario \n",
    "de varias\n",
    "lineas \"\"\"\n",
    "\n",
    "print(\"Hola mundo xd\")"
   ]
  },
  {
   "cell_type": "code",
   "execution_count": 5,
   "metadata": {},
   "outputs": [
    {
     "name": "stdout",
     "output_type": "stream",
     "text": [
      "Año de nacimiento 1998\n"
     ]
    }
   ],
   "source": [
    "# Imprimir constantes \n",
    "# Mostrando el año de nacimiento con el uso de una constante\n",
    "\n",
    "print(\"Año de nacimiento \" + str(1998))"
   ]
  },
  {
   "cell_type": "code",
   "execution_count": 17,
   "metadata": {},
   "outputs": [
    {
     "name": "stdout",
     "output_type": "stream",
     "text": [
      "texto 1 texto 2\n"
     ]
    }
   ],
   "source": [
    "# Concatenando texto\n",
    "# Utilizamos el simbolo + para concatenar\n",
    "\n",
    "print(\"texto 1\" + \" \" + \"texto 2\")"
   ]
  },
  {
   "cell_type": "markdown",
   "metadata": {},
   "source": [
    "## 1. Variables"
   ]
  },
  {
   "cell_type": "code",
   "execution_count": 18,
   "metadata": {},
   "outputs": [
    {
     "name": "stdout",
     "output_type": "stream",
     "text": [
      "Variable numérica: 100\n",
      "Variable string: Holap\n"
     ]
    }
   ],
   "source": [
    "# Variable numérica\n",
    "\n",
    "variable_numerica = 100 \n",
    "\n",
    "# Variable (String)\n",
    "\n",
    "variable_string = \"Holap\"\n",
    "\n",
    "# Mostramos los valores de las 2 variables delcaradas anteriormente\n",
    "# Utilizamos el simbolo + para concatenar\n",
    "\n",
    "print(\"Variable numérica: \" + str(variable_numerica))\n",
    "print(\"Variable string: \" + variable_string )"
   ]
  },
  {
   "cell_type": "code",
   "execution_count": 23,
   "metadata": {},
   "outputs": [
    {
     "name": "stdout",
     "output_type": "stream",
     "text": [
      "variable con mayuscula :100\n",
      "variable con minuscula :200\n"
     ]
    }
   ],
   "source": [
    "# Los nombres de las variables son sensibles a las mayusculas y minusculas\n",
    "\n",
    "Variable = 100\n",
    "variable = 200\n",
    "\n",
    "print(\"variable con mayuscula :\" + str(Variable)) \n",
    "print(\"variable con minuscula :\" + str(variable)) "
   ]
  },
  {
   "cell_type": "markdown",
   "metadata": {},
   "source": [
    "## Tipos de variables"
   ]
  },
  {
   "cell_type": "code",
   "execution_count": 26,
   "metadata": {},
   "outputs": [
    {
     "name": "stdout",
     "output_type": "stream",
     "text": [
      "<class 'str'>\n",
      "<class 'int'>\n"
     ]
    }
   ],
   "source": [
    "#declaramos 2 variables de diferentes tipos\n",
    "\n",
    "variable_tipo_tring = \"Carlos\"\n",
    "variable_tipo_numeric = 150\n",
    "\n",
    "# Para saber de que tipo es una variable lo hacemos de la siguiente manera\n",
    "\n",
    "print(type(variable_tipo_tring))\n",
    "print(type(variable_tipo_numeric))"
   ]
  },
  {
   "cell_type": "markdown",
   "metadata": {},
   "source": [
    "## Conversiones de tipos de variables"
   ]
  },
  {
   "cell_type": "code",
   "execution_count": 1,
   "metadata": {},
   "outputs": [
    {
     "name": "stdout",
     "output_type": "stream",
     "text": [
      "3.45\n",
      "String: 3.45\n",
      "<class 'float'>\n",
      "<class 'str'>\n",
      "3\n",
      "3.45\n",
      "5\n"
     ]
    }
   ],
   "source": [
    "# Declaramos variables\n",
    "numero_real = 3.45\n",
    "\n",
    "# Procedemos a realizar las conversiones de tipos de variables\n",
    "\n",
    "print(numero_real) \n",
    "print(\"String: \" + str(numero_real))\n",
    "print(type(numero_real))\n",
    "print(type(str(numero_real)))\n",
    "print(int(numero_real))\n",
    "print(float(str(numero_real)))\n",
    "print(int(\"5\"))\n",
    "\n"
   ]
  },
  {
   "cell_type": "markdown",
   "metadata": {},
   "source": [
    "## Tipos de datos complejos"
   ]
  },
  {
   "cell_type": "code",
   "execution_count": null,
   "metadata": {},
   "outputs": [],
   "source": [
    "# Acceso a elementos de una cadena mediante la posición \n",
    "\n",
    "cadena = \"Esto es una cadena\"\n",
    "\n",
    "# Imprime la quinta posición de la cadena de texto declarada anteriormente\n",
    "# Tomando en cuneta la posicion 0  \n",
    "# Matematicamente sería x = 5\n",
    "\n",
    "print(cadena[5])\n",
    "\n",
    "# Imprime un rango definido de la cadena de texto declarada anteriormente\n",
    "# Tomando en cuenta la posicion de partida en este caso 5 pero llegando solo a la posiicon inferior a la 9 posición\n",
    "# Matematicamente sería 5 <= x < 9\n",
    "\n",
    "print(cadena[5:9])\n",
    "\n",
    "# Imprime la cadena de caracteres con un limite y tomando en cuenta el mismo\n",
    "# Matematicamente sería x <= 6\n",
    "\n",
    "print(cadena[:6])\n",
    "\n",
    "# Imprime la cadena de caracteres a partir de la posocion establecida en este caso 6\n",
    "# Matematicamente sería x >= 6\n",
    "\n",
    "print(cadena[6:])"
   ]
  }
 ],
 "metadata": {
  "kernelspec": {
   "display_name": "Python 3",
   "language": "python",
   "name": "python3"
  },
  "language_info": {
   "codemirror_mode": {
    "name": "ipython",
    "version": 3
   },
   "file_extension": ".py",
   "mimetype": "text/x-python",
   "name": "python",
   "nbconvert_exporter": "python",
   "pygments_lexer": "ipython3",
   "version": "3.7.6"
  }
 },
 "nbformat": 4,
 "nbformat_minor": 4
}
