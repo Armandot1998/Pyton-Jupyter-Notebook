{
 "cells": [
  {
   "cell_type": "markdown",
   "metadata": {},
   "source": [
    "# Ejemplos practicos de Python\n"
   ]
  },
  {
   "cell_type": "code",
   "execution_count": 6,
   "metadata": {},
   "outputs": [
    {
     "name": "stdout",
     "output_type": "stream",
     "text": [
      "Hola mundo xd\n"
     ]
    }
   ],
   "source": [
    "# Comentario de una linea\n",
    "\"\"\" Comentario \n",
    "de varias\n",
    "lineas \"\"\"\n",
    "\n",
    "print(\"Hola mundo xd\")"
   ]
  },
  {
   "cell_type": "code",
   "execution_count": 5,
   "metadata": {},
   "outputs": [
    {
     "name": "stdout",
     "output_type": "stream",
     "text": [
      "Año de nacimiento 1998\n"
     ]
    }
   ],
   "source": [
    "# Imprimir constantes \n",
    "# Mostrando el año de nacimiento con el uso de una constante\n",
    "\n",
    "print(\"Año de nacimiento \" + str(1998))"
   ]
  },
  {
   "cell_type": "code",
   "execution_count": 17,
   "metadata": {},
   "outputs": [
    {
     "name": "stdout",
     "output_type": "stream",
     "text": [
      "texto 1 texto 2\n"
     ]
    }
   ],
   "source": [
    "# Concatenando texto\n",
    "# Utilizamos el simbolo + para concatenar\n",
    "\n",
    "print(\"texto 1\" + \" \" + \"texto 2\")"
   ]
  },
  {
   "cell_type": "markdown",
   "metadata": {},
   "source": [
    "## 1. Variables"
   ]
  },
  {
   "cell_type": "code",
   "execution_count": 18,
   "metadata": {},
   "outputs": [
    {
     "name": "stdout",
     "output_type": "stream",
     "text": [
      "Variable numérica: 100\n",
      "Variable string: Holap\n"
     ]
    }
   ],
   "source": [
    "# Variable numérica\n",
    "\n",
    "variable_numerica = 100 \n",
    "\n",
    "# Variable (String)\n",
    "\n",
    "variable_string = \"Holap\"\n",
    "\n",
    "# Mostramos los valores de las 2 variables delcaradas anteriormente\n",
    "# Utilizamos el simbolo + para concatenar\n",
    "\n",
    "print(\"Variable numérica: \" + str(variable_numerica))\n",
    "print(\"Variable string: \" + variable_string )"
   ]
  },
  {
   "cell_type": "code",
   "execution_count": 23,
   "metadata": {},
   "outputs": [
    {
     "name": "stdout",
     "output_type": "stream",
     "text": [
      "variable con mayuscula :100\n",
      "variable con minuscula :200\n"
     ]
    }
   ],
   "source": [
    "# Los nombres de las variables son sensibles a las mayusculas y minusculas\n",
    "\n",
    "Variable = 100\n",
    "variable = 200\n",
    "\n",
    "print(\"variable con mayuscula :\" + str(Variable)) \n",
    "print(\"variable con minuscula :\" + str(variable)) "
   ]
  },
  {
   "cell_type": "markdown",
   "metadata": {},
   "source": [
    "### Tipos de variables"
   ]
  },
  {
   "cell_type": "code",
   "execution_count": 26,
   "metadata": {},
   "outputs": [
    {
     "name": "stdout",
     "output_type": "stream",
     "text": [
      "<class 'str'>\n",
      "<class 'int'>\n"
     ]
    }
   ],
   "source": [
    "#declaramos 2 variables de diferentes tipos\n",
    "\n",
    "variable_tipo_tring = \"Carlos\"\n",
    "variable_tipo_numeric = 150\n",
    "\n",
    "# Para saber de que tipo es una variable lo hacemos de la siguiente manera\n",
    "\n",
    "print(type(variable_tipo_tring))\n",
    "print(type(variable_tipo_numeric))"
   ]
  },
  {
   "cell_type": "markdown",
   "metadata": {},
   "source": [
    "### Conversiones de tipos de variables"
   ]
  },
  {
   "cell_type": "code",
   "execution_count": 1,
   "metadata": {},
   "outputs": [
    {
     "name": "stdout",
     "output_type": "stream",
     "text": [
      "3.45\n",
      "String: 3.45\n",
      "<class 'float'>\n",
      "<class 'str'>\n",
      "3\n",
      "3.45\n",
      "5\n"
     ]
    }
   ],
   "source": [
    "# Declaramos variables\n",
    "numero_real = 3.45\n",
    "\n",
    "# Procedemos a realizar las conversiones de tipos de variables\n",
    "\n",
    "print(numero_real) \n",
    "print(\"String: \" + str(numero_real))\n",
    "print(type(numero_real))\n",
    "print(type(str(numero_real)))\n",
    "print(int(numero_real))\n",
    "print(float(str(numero_real)))\n",
    "print(int(\"5\"))\n",
    "\n"
   ]
  },
  {
   "cell_type": "markdown",
   "metadata": {},
   "source": [
    "### Tipos de datos complejos"
   ]
  },
  {
   "cell_type": "code",
   "execution_count": null,
   "metadata": {},
   "outputs": [],
   "source": [
    "# Acceso a elementos de una cadena mediante la posición \n",
    "\n",
    "cadena = \"Esto es una cadena\"\n",
    "\n",
    "# Imprime la quinta posición de la cadena de texto declarada anteriormente\n",
    "# Tomando en cuneta la posicion 0  \n",
    "# Matematicamente sería x = 5\n",
    "\n",
    "print(cadena[5])\n",
    "\n",
    "# Imprime un rango definido de la cadena de texto declarada anteriormente\n",
    "# Tomando en cuenta la posicion de partida en este caso 5 pero llegando solo a la posiicon inferior a la 9 posición\n",
    "# Matematicamente sería 5 <= x < 9\n",
    "\n",
    "print(cadena[5:9])\n",
    "\n",
    "# Imprime la cadena de caracteres con un limite y tomando en cuenta el mismo\n",
    "# Matematicamente sería x <= 6\n",
    "\n",
    "print(cadena[:6])\n",
    "\n",
    "# Imprime la cadena de caracteres a partir de la posocion establecida en este caso 6\n",
    "# Matematicamente sería x >= 6\n",
    "\n",
    "print(cadena[6:])"
   ]
  },
  {
   "cell_type": "markdown",
   "metadata": {},
   "source": [
    "### Conjuntos "
   ]
  },
  {
   "cell_type": "code",
   "execution_count": 7,
   "metadata": {},
   "outputs": [
    {
     "name": "stdout",
     "output_type": "stream",
     "text": [
      "{'amarillo', 'blanco', 'rojo', 'azul', 'verde'}\n",
      "<class 'set'>\n",
      "amarillo\n",
      "amarillo\n",
      "{'blanco', 'rojo', 'azul', 'verde'}\n",
      "{'blanco', 'rojo', 'azul', 'verde'}\n"
     ]
    }
   ],
   "source": [
    "# declaramos una variable que contenga un conjunto\n",
    "\n",
    "colores = {'amarillo', 'azul', 'verde', 'rojo', 'blanco'}\n",
    "\n",
    "# Imprimimos el conjunto que contiene la variable colores\n",
    "\n",
    "print(colores)\n",
    "\n",
    "# Imprimimos el tipo de dato de la variable colores\n",
    "\n",
    "print(type(colores))\n",
    "\n",
    "# Elementos del conjunto colores\n",
    "\n",
    "print(next(iter(colores)))\n",
    "print(colores.pop())\n",
    "print(colores)\n",
    "\n",
    "# Amarillo queda fuera de la lista\n",
    "\n",
    "colores.add(\"blanco\")\n",
    "\n",
    "# Comprovamos que un conjunto no puede poseer elementos repetidos\n",
    "\n",
    "print(colores)"
   ]
  },
  {
   "cell_type": "code",
   "execution_count": 18,
   "metadata": {},
   "outputs": [
    {
     "name": "stdout",
     "output_type": "stream",
     "text": [
      "<class 'list'>\n",
      "{'amarillo', 'blanco', 'rojo', 'azul', 'verde'}\n",
      "<class 'set'>\n",
      "False\n",
      "['amarillo', 'azul', 'verde', 'rojo', 'blanco', 'morado']\n",
      "5\n"
     ]
    }
   ],
   "source": [
    "# Trabajaremos con la lista colores \n",
    "\n",
    "colores = ['amarillo', 'azul', 'verde', 'rojo', 'blanco']\n",
    "\n",
    "# Consultamos el tipo de la variable colores \n",
    "\n",
    "print(type(colores))\n",
    "\n",
    "# asignamos una variable a la lista colores\n",
    "\n",
    "album = set(colores)\n",
    "\n",
    "# Imprimimos el contenido y el tipo de variable asignada la lista colores \n",
    "\n",
    "print(album)\n",
    "print(type(album))\n",
    "\n",
    "# Condiciones \n",
    "\n",
    "exclusivo = 'negro' in album\n",
    "print(exclusivo)\n",
    "\n",
    "# Escribiendo la lista seguida de un punto \"colores.\" luego presionando \"Tab\" obtenemos opciones para nuestra lista\n",
    "# Esocgemos la opcioin \"insert\", para agregar un nuevo color a la lista\n",
    "\n",
    "colores.insert(len(colores), \"morado\")\n",
    "print(colores)\n",
    "\n",
    "# El orden del elemento agregado a la lista es el siquiente \n",
    "\n",
    "print(colores.index(\"morado\"))\n"
   ]
  },
  {
   "cell_type": "markdown",
   "metadata": {},
   "source": [
    "### Tuplas"
   ]
  },
  {
   "cell_type": "code",
   "execution_count": 26,
   "metadata": {},
   "outputs": [
    {
     "name": "stdout",
     "output_type": "stream",
     "text": [
      "['amarillo', 'azul', 'rojo', 'verde', 'blanco']\n",
      "['morado', 'azul', 'rojo', 'verde', 'blanco']\n",
      "{'amarillo', 'blanco', 'rojo', 'azul', 'verde'}\n"
     ]
    },
    {
     "ename": "TypeError",
     "evalue": "'set' object does not support item assignment",
     "output_type": "error",
     "traceback": [
      "\u001b[1;31m---------------------------------------------------------------------------\u001b[0m",
      "\u001b[1;31mTypeError\u001b[0m                                 Traceback (most recent call last)",
      "\u001b[1;32m<ipython-input-26-a9de3694ba3c>\u001b[0m in \u001b[0;36m<module>\u001b[1;34m\u001b[0m\n\u001b[0;32m     11\u001b[0m \u001b[0mtupla\u001b[0m \u001b[1;33m=\u001b[0m \u001b[1;33m{\u001b[0m\u001b[1;34m'amarillo'\u001b[0m\u001b[1;33m,\u001b[0m \u001b[1;34m'azul'\u001b[0m\u001b[1;33m,\u001b[0m \u001b[1;34m'rojo'\u001b[0m\u001b[1;33m,\u001b[0m \u001b[1;34m'verde'\u001b[0m\u001b[1;33m,\u001b[0m \u001b[1;34m'blanco'\u001b[0m\u001b[1;33m}\u001b[0m\u001b[1;33m\u001b[0m\u001b[1;33m\u001b[0m\u001b[0m\n\u001b[0;32m     12\u001b[0m \u001b[0mprint\u001b[0m\u001b[1;33m(\u001b[0m\u001b[0mtupla\u001b[0m\u001b[1;33m)\u001b[0m\u001b[1;33m\u001b[0m\u001b[1;33m\u001b[0m\u001b[0m\n\u001b[1;32m---> 13\u001b[1;33m \u001b[0mtupla\u001b[0m\u001b[1;33m[\u001b[0m\u001b[1;36m0\u001b[0m\u001b[1;33m]\u001b[0m \u001b[1;33m=\u001b[0m \u001b[1;34m'morado'\u001b[0m\u001b[1;33m\u001b[0m\u001b[1;33m\u001b[0m\u001b[0m\n\u001b[0m\u001b[0;32m     14\u001b[0m \u001b[0mprint\u001b[0m\u001b[1;33m(\u001b[0m\u001b[0mtupla\u001b[0m\u001b[1;33m)\u001b[0m\u001b[1;33m\u001b[0m\u001b[1;33m\u001b[0m\u001b[0m\n",
      "\u001b[1;31mTypeError\u001b[0m: 'set' object does not support item assignment"
     ]
    }
   ],
   "source": [
    "# Una tupla es una lista inmutable\n",
    "\n",
    "# Esta lista no es una tupla, ya que se puede cambiar o remplazar un dato especifico de la lista\n",
    "\n",
    "no_tupla = ['amarillo', 'azul', 'rojo', 'verde', 'blanco']\n",
    "print(no_tupla)\n",
    "no_tupla[0] = 'morado'\n",
    "print(no_tupla)\n",
    "\n",
    "# Un ejemplo de tupla seria el siguiente en donde no se puede modificar o remplazar nungun dato de la lista\n",
    "\n",
    "tupla = {'amarillo', 'azul', 'rojo', 'verde', 'blanco'}\n",
    "print(tupla)\n",
    "tupla[0] = 'morado'\n",
    "print(tupla)"
   ]
  },
  {
   "cell_type": "markdown",
   "metadata": {},
   "source": [
    "### Diccionario"
   ]
  },
  {
   "cell_type": "code",
   "execution_count": 34,
   "metadata": {},
   "outputs": [
    {
     "name": "stdout",
     "output_type": "stream",
     "text": [
      "{'nombres': ['Armando', 'Telmo'], 'apellidos': ['Cajilema', 'Cuji'], 'edad': 21}\n",
      "['Armando', 'Telmo']\n",
      "['Cajilema', 'Cuji']\n",
      "21\n",
      "Cajilema\n",
      "nombres : ['Armando', 'Telmo']\n",
      "apellidos : ['Cajilema', 'Cuji']\n",
      "edad : 21\n"
     ]
    }
   ],
   "source": [
    "# Declaramos una variable DNI de tipo diccionario \n",
    "\n",
    "DNI = {'nombres':['Armando', 'Telmo'], 'apellidos':['Cajilema', 'Cuji'], 'edad': 21}\n",
    "print(DNI)\n",
    "\n",
    "# Imprimimos los valores especificando cuales\n",
    "\n",
    "print(DNI['nombres'])\n",
    "print(DNI['apellidos'])\n",
    "print(DNI['edad'])\n",
    "\n",
    "# Recorremos en modo lista\n",
    "\n",
    "print(DNI['apellidos'][0])\n",
    "\n",
    "# Recorremos todo el arreglo\n",
    "\n",
    "for key in DNI:\n",
    "    print(key, \":\", DNI[key])"
   ]
  },
  {
   "cell_type": "markdown",
   "metadata": {},
   "source": [
    "### Metodos de los diccionarios\n"
   ]
  },
  {
   "cell_type": "code",
   "execution_count": 35,
   "metadata": {},
   "outputs": [
    {
     "name": "stdout",
     "output_type": "stream",
     "text": [
      "{'nombres': ['Armando', 'Telmo'], 'apellidos': ['Cajilema', 'Cuji'], 'edad': 21}\n",
      "['Armando', 'Telmo']\n",
      "['Cajilema', 'Cuji']\n",
      "21\n",
      "Cajilema\n",
      "nombres : ['Armando', 'Telmo']\n",
      "apellidos : ['Cajilema', 'Cuji']\n",
      "edad : 21\n"
     ]
    }
   ],
   "source": [
    "# Declaramos una variable DNI de tipo diccionario \n",
    "\n",
    "DNI = {'nombres':['Armando', 'Telmo'], 'apellidos':['Cajilema', 'Cuji'], 'edad': 21}\n",
    "print(DNI)\n",
    "\n",
    "# Imprimimos los valores especificando cuales\n",
    "\n",
    "print(DNI['nombres'])\n",
    "print(DNI['apellidos'])\n",
    "print(DNI['edad'])\n",
    "\n",
    "# Recorremos en modo lista\n",
    "\n",
    "print(DNI['apellidos'][0])\n",
    "\n",
    "# Recorremos todo el arreglo\n",
    "\n",
    "for key in DNI:\n",
    "    print(key, \":\", DNI[key])"
   ]
  },
  {
   "cell_type": "markdown",
   "metadata": {},
   "source": [
    "## 2. Condiciones, bucles y funciones en Python"
   ]
  },
  {
   "cell_type": "markdown",
   "metadata": {},
   "source": [
    "### Condiciones"
   ]
  },
  {
   "cell_type": "code",
   "execution_count": 41,
   "metadata": {},
   "outputs": [
    {
     "name": "stdout",
     "output_type": "stream",
     "text": [
      "El número es impar\n",
      "El número es par\n"
     ]
    }
   ],
   "source": [
    "# a continuacion tenemos una instruccion condiciones\n",
    "\n",
    "numero = 7\n",
    "\n",
    "# El % representa un modulo o resto de una division \n",
    "# El operador módulo no hace otra cosa que devolver el resto de la división entre los dos operandos. \n",
    "# En el ejemplo, 7 / 2 sería 3, con 1 de resto, luego el módulo es 1.\n",
    "\n",
    "if (numero % 2 == 0): \n",
    "    print(\"El número es par\")\n",
    "else: \n",
    "    print(\"El número es impar\")\n",
    "    \n",
    "# Otra forma es la siguiente, pero en este caso sumaremos uno al numero para que nos de un resultado diferente a 0 en el modulo\n",
    "\n",
    "numero2 = numero + 1\n",
    "\n",
    "print(\"El número es par\") if (numero2 % 2 == 0) else print(\"El número es impar\")\n"
   ]
  },
  {
   "cell_type": "markdown",
   "metadata": {},
   "source": [
    "### Bucles simple"
   ]
  },
  {
   "cell_type": "code",
   "execution_count": 44,
   "metadata": {},
   "outputs": [
    {
     "name": "stdout",
     "output_type": "stream",
     "text": [
      "Número 0\n",
      "Número 1\n",
      "Número 2\n",
      "Número 3\n",
      "Número 4\n",
      "Número 5\n",
      "Número 6\n",
      "Número 7\n",
      "Número 8\n",
      "Número 9\n"
     ]
    }
   ],
   "source": [
    "# Los realizamos de la siguiente manera\n",
    "\n",
    "for valor in range(10):\n",
    "    print(\"Número \" + str(valor))"
   ]
  },
  {
   "cell_type": "markdown",
   "metadata": {},
   "source": [
    "### Bucle con While"
   ]
  },
  {
   "cell_type": "code",
   "execution_count": 46,
   "metadata": {},
   "outputs": [
    {
     "name": "stdout",
     "output_type": "stream",
     "text": [
      "Número 0\n",
      "Número 1\n",
      "Número 2\n",
      "Número 3\n",
      "Número 4\n",
      "Número 5\n",
      "Número 6\n",
      "Número 7\n",
      "Número 8\n",
      "Número 9\n"
     ]
    }
   ],
   "source": [
    "# Los realizamos de la siguiente manera\n",
    "\n",
    "valor = 0 \n",
    "while (valor < 10): \n",
    "    print(\"Número \" + str(valor))\n",
    "    valor = valor + 1\n",
    "    \n",
    "# fin del bucle"
   ]
  },
  {
   "cell_type": "markdown",
   "metadata": {},
   "source": [
    "### Funciones \n"
   ]
  },
  {
   "cell_type": "code",
   "execution_count": 57,
   "metadata": {},
   "outputs": [
    {
     "name": "stdout",
     "output_type": "stream",
     "text": [
      "El número 7 es impar\n",
      "El número 8 es par\n"
     ]
    }
   ],
   "source": [
    "# Creamos una función para saber si un número es par o impar, con un parametro de entrada\n",
    "\n",
    "def es_par(digito):\n",
    "    \n",
    "    if (digito % 2 == 0):\n",
    "        print(\"El número \" + str(digito) + \" es par\")\n",
    "    else:\n",
    "        print(\"El número \" + str(digito) + \" es impar\")\n",
    "\n",
    "    # Fin de la función\n",
    "\n",
    "# Utilizamos la funcion \"es_par\" enviando un dígito como parámetro\n",
    "    \n",
    "es_par(7)\n",
    "es_par(8)"
   ]
  },
  {
   "cell_type": "code",
   "execution_count": 85,
   "metadata": {},
   "outputs": [
    {
     "name": "stdout",
     "output_type": "stream",
     "text": [
      "9 | 16\n"
     ]
    }
   ],
   "source": [
    "# Creamos una función para multiplicarlo por 2 si es un número par y sumar 2 si es un numero impar\n",
    "\n",
    "def resultado(digito):\n",
    "    \n",
    "    if (digito % 2 == 0):\n",
    "        return(digito * 2)\n",
    "    else:\n",
    "        \n",
    "        return(digito + 2)\n",
    "\n",
    "    # Fin de la función\n",
    "\n",
    "# Utilizamos la funcion \"es_par\" enviando un dígito como parámetro\n",
    "    \n",
    "prueba1 = resultado(7)\n",
    "prueba2 = resultado(8)\n",
    "\n",
    "\n",
    "print(str(prueba1)+ \" | \" + str(prueba2))"
   ]
  },
  {
   "cell_type": "code",
   "execution_count": 84,
   "metadata": {},
   "outputs": [
    {
     "name": "stdout",
     "output_type": "stream",
     "text": [
      "(7, 9) | (8, 16)\n"
     ]
    }
   ],
   "source": [
    "# Creamos una función para multiplicarlo por 2 si es un número par y sumar 2 si es un numero impar\n",
    "# pero ahora tambien mostramos el número que ingresa \n",
    "\n",
    "def resultado(digito):\n",
    "    \n",
    "    if (digito % 2 == 0):\n",
    "        digito2 = digito * 2\n",
    "        return(digito, digito2)\n",
    "    else:\n",
    "        digito2 = digito + 2\n",
    "        return(digito, digito2)\n",
    "\n",
    "    # Fin de la función\n",
    "\n",
    "# Utilizamos la funcion \"resultado\" enviando un dígito como parámetro, y guardamos la respuesta de la función en una varible \n",
    "    \n",
    "prueba1 = resultado(7)\n",
    "prueba2 = resultado(8)\n",
    "\n",
    "\n",
    "print(str(prueba1)+ \" | \" + str(prueba2))"
   ]
  },
  {
   "cell_type": "markdown",
   "metadata": {},
   "source": [
    "## 3. Objetos en Python"
   ]
  },
  {
   "cell_type": "code",
   "execution_count": 94,
   "metadata": {},
   "outputs": [
    {
     "name": "stdout",
     "output_type": "stream",
     "text": [
      "Rectangulo de testeo\n",
      "220\n"
     ]
    }
   ],
   "source": [
    "# Clase rectangulo\n",
    "\n",
    "class Rectangulo:\n",
    "    def __init__(self, b, h):\n",
    "        self.b = b\n",
    "        self.h = h\n",
    "    descripcion = \"Esto es un triangulo\"\n",
    "    autor = \"anonimo\"\n",
    "    \n",
    "    def area(self):\n",
    "        area = self.b * self.h\n",
    "        return(area) \n",
    "    \n",
    "    def perimetro(self):\n",
    "        perimetro = self.b * 2 + self.h * 2\n",
    "        return(perimetro)\n",
    "    \n",
    "    def descripcion(self, text):\n",
    "        self.descripcion = text\n",
    "        \n",
    "    def nombreAutor(self, text):\n",
    "        self.autor = text\n",
    "        \n",
    "    def cambioDimensiones(self, scale):\n",
    "        self.b = self.b * scale\n",
    "        self.h = self.h * scale\n",
    "        \n",
    "# Creamos los objetos correspondientes \n",
    "\n",
    "rectangulo1 = Rectangulo(90, 35)\n",
    "rectangulo2 = Rectangulo(20, 11)\n",
    "\n",
    "# Describiendo al rectangulo\n",
    "\n",
    "rectangulo1.descripcion(\"Rectangulo de testeo\")\n",
    "print(rectangulo1.descripcion)\n",
    "print(rectangulo2.area())\n",
    "\n"
   ]
  },
  {
   "cell_type": "markdown",
   "metadata": {},
   "source": [
    "## 4. Introduccion a la visualización con Python"
   ]
  },
  {
   "cell_type": "code",
   "execution_count": 109,
   "metadata": {},
   "outputs": [
    {
     "data": {
      "image/png": "[encoded data removed]",
      "text/plain": [
       "<Figure size 432x288 with 1 Axes>"
      ]
     },
     "metadata": {
      "needs_background": "light"
     },
     "output_type": "display_data"
    }
   ],
   "source": [
    "# Una grafica simple \n",
    "\"\"\"\n",
    "Cabe recalcar que el paquete matplotlib fue preciamente instalado mediante\n",
    " \"conda install -c conda-forge matplotlib\" o se piede importar de la siguiente forma\n",
    " \n",
    "import matplotlib\n",
    "import numpy as np\n",
    "import matplotlib.pyplot as plt\n",
    "\n",
    "\"\"\" \n",
    "\n",
    "\n",
    "N_points = 100\n",
    "x = np.random.randn(N_points)\n",
    "y = .4 * x\n",
    "plt.plot(x, y)\n",
    "plt.grid()"
   ]
  },
  {
   "cell_type": "code",
   "execution_count": 111,
   "metadata": {},
   "outputs": [
    {
     "data": {
      "image/png": "[encoded data removed]",
      "text/plain": [
       "<Figure size 432x288 with 1 Axes>"
      ]
     },
     "metadata": {
      "needs_background": "light"
     },
     "output_type": "display_data"
    }
   ],
   "source": [
    "# Algo mas complejo seria lo siguiente\n",
    "\n",
    "np.random.seed(19680801)\n",
    "\n",
    "# example data\n",
    "mu = 100  # mean of distribution\n",
    "sigma = 15  # standard deviation of distribution\n",
    "x = mu + sigma * np.random.randn(437)\n",
    "\n",
    "num_bins = 50\n",
    "\n",
    "fig, ax = plt.subplots()\n",
    "\n",
    "# the histogram of the data\n",
    "n, bins, patches = ax.hist(x, num_bins, density=True)\n",
    "\n",
    "# add a 'best fit' line\n",
    "y = ((1 / (np.sqrt(2 * np.pi) * sigma)) *\n",
    "     np.exp(-0.5 * (1 / sigma * (bins - mu))**2))\n",
    "ax.plot(bins, y, '--')\n",
    "ax.set_xlabel('Smarts')\n",
    "ax.set_ylabel('Probability density')\n",
    "ax.set_title(r'Histogram of IQ: $\\mu=100$, $\\sigma=15$')\n",
    "\n",
    "# Tweak spacing to prevent clipping of ylabel\n",
    "fig.tight_layout()\n",
    "plt.show()"
   ]
  },
  {
   "cell_type": "code",
   "execution_count": null,
   "metadata": {},
   "outputs": [],
   "source": []
  }
 ],
 "metadata": {
  "kernelspec": {
   "display_name": "Python 3",
   "language": "python",
   "name": "python3"
  },
  "language_info": {
   "codemirror_mode": {
    "name": "ipython",
    "version": 3
   },
   "file_extension": ".py",
   "mimetype": "text/x-python",
   "name": "python",
   "nbconvert_exporter": "python",
   "pygments_lexer": "ipython3",
   "version": "3.7.6"
  }
 },
 "nbformat": 4,
 "nbformat_minor": 4
}
