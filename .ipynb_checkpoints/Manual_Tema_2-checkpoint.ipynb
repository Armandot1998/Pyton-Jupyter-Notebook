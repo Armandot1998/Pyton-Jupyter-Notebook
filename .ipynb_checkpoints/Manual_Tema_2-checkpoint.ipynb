{
 "cells": [
  {
   "cell_type": "markdown",
   "metadata": {},
   "source": [
    "# Trabajo con Numpy"
   ]
  },
  {
   "cell_type": "code",
   "execution_count": 2,
   "metadata": {},
   "outputs": [
    {
     "name": "stdout",
     "output_type": "stream",
     "text": [
      "numpy version:  1.18.1\n"
     ]
    }
   ],
   "source": [
    "# Importamos la librería de Numpy\n",
    "import numpy as np\n",
    "\n",
    "# Consultamos la version que tenemos instalada \n",
    "print('numpy version: ', np.__version__)"
   ]
  },
  {
   "cell_type": "code",
   "execution_count": 3,
   "metadata": {},
   "outputs": [
    {
     "name": "stdout",
     "output_type": "stream",
     "text": [
      "Rows:003 ; cols:003\n",
      "[[ 0  1  2  3]\n",
      " [ 4  5  6  7]\n",
      " [ 8  9 10 11]]\n"
     ]
    }
   ],
   "source": [
    "# Declaramos un arreglo\n",
    "\n",
    "a = np.array([[0, 1, 2, 3], [4, 5, 6, 7], [8, 9, 10, 11]])\n",
    "\n",
    "# Con valores numéricos del 0 al 11 en cada fila\n",
    "\n",
    "rows, cols = np.shape(a)\n",
    "\n",
    "print ('Rows:{0:03d} ; cols:{0:03d}'.format(rows, cols))\n",
    "\n",
    "print(a)"
   ]
  },
  {
   "cell_type": "markdown",
   "metadata": {},
   "source": [
    "### Agregando valores complejos"
   ]
  },
  {
   "cell_type": "code",
   "execution_count": 7,
   "metadata": {},
   "outputs": [
    {
     "name": "stdout",
     "output_type": "stream",
     "text": [
      "Rows:003 ; cols:003\n",
      "[[1.+0.j 2.+0.j]\n",
      " [9.+0.j 0.+0.j]\n",
      " [4.+0.j 5.+0.j]]\n"
     ]
    }
   ],
   "source": [
    "# Declaramos un arreglo con números naturales\n",
    "# Pero los convertimos en numero complejos\n",
    "\n",
    "b = np.array([[1, 2], [9, 0], [4, 5]], dtype = np.complex64)\n",
    "\n",
    "print ('Rows:{0:03d} ; cols:{0:03d}'.format(rows, cols))\n",
    "\n",
    "print(b)"
   ]
  },
  {
   "cell_type": "markdown",
   "metadata": {},
   "source": [
    "### Inicializar vectores de dimensión "
   ]
  },
  {
   "cell_type": "code",
   "execution_count": 15,
   "metadata": {},
   "outputs": [
    {
     "data": {
      "text/plain": [
       "array([[0., 0., 0., 0.],\n",
       "       [0., 0., 0., 0.],\n",
       "       [0., 0., 0., 0.],\n",
       "       [0., 0., 0., 0.]])"
      ]
     },
     "execution_count": 15,
     "metadata": {},
     "output_type": "execute_result"
    }
   ],
   "source": [
    "# Inicializando un vector con variables inciales de 0 \n",
    "np.zeros((4, 4))\n"
   ]
  },
  {
   "cell_type": "code",
   "execution_count": 16,
   "metadata": {},
   "outputs": [
    {
     "data": {
      "text/plain": [
       "array([[0.+0.j, 0.+0.j],\n",
       "       [0.+0.j, 0.+0.j],\n",
       "       [0.+0.j, 0.+0.j]], dtype=complex64)"
      ]
     },
     "execution_count": 16,
     "metadata": {},
     "output_type": "execute_result"
    }
   ],
   "source": [
    "# Devuelve una matriz de ceros con la misma forma y tipo que una matriz determinada. \n",
    "np.zeros_like(b)\n"
   ]
  },
  {
   "cell_type": "code",
   "execution_count": 14,
   "metadata": {},
   "outputs": [
    {
     "data": {
      "text/plain": [
       "array([[0.00e+000, 0.00e+000, 0.00e+000],\n",
       "       [0.00e+000, 0.00e+000, 6.66e-321],\n",
       "       [0.00e+000, 0.00e+000, 0.00e+000]])"
      ]
     },
     "execution_count": 14,
     "metadata": {},
     "output_type": "execute_result"
    }
   ],
   "source": [
    "# Devuelve una nueva matriz de formas y tipos dados, sin inicializar entradas.\n",
    "np.empty((3, 3))\n"
   ]
  },
  {
   "cell_type": "code",
   "execution_count": 17,
   "metadata": {},
   "outputs": [
    {
     "data": {
      "text/plain": [
       "array([[1., 0., 0.],\n",
       "       [0., 1., 0.],\n",
       "       [0., 0., 1.]])"
      ]
     },
     "execution_count": 17,
     "metadata": {},
     "output_type": "execute_result"
    }
   ],
   "source": [
    "# Devuelve una matriz 2-D con unos en la diagonal y ceros en otro lugar.\n",
    "np.eye(3)\n"
   ]
  },
  {
   "cell_type": "code",
   "execution_count": 32,
   "metadata": {},
   "outputs": [
    {
     "data": {
      "text/plain": [
       "array([[0, 0, 0, 0, 0],\n",
       "       [0, 1, 0, 0, 0],\n",
       "       [0, 0, 2, 0, 0],\n",
       "       [0, 0, 0, 3, 0],\n",
       "       [0, 0, 0, 0, 4]])"
      ]
     },
     "execution_count": 32,
     "metadata": {},
     "output_type": "execute_result"
    }
   ],
   "source": [
    "# np.diag(): Se utiliza esta función para extraer una diagonal y desea escribir en la matriz resultante; \n",
    "# si devuelve una copia o una vista depende de qué versión de numpy esté usando.\n",
    "\n",
    "# np.arange(): Devuelve valores espaciados uniformemente dentro de un intervalo dado.\n",
    "x = np.arange(5)\n",
    "\n",
    "np.diag(x)\n"
   ]
  },
  {
   "cell_type": "code",
   "execution_count": 25,
   "metadata": {},
   "outputs": [
    {
     "data": {
      "text/plain": [
       "array([0, 1, 2, 3, 4])"
      ]
     },
     "execution_count": 25,
     "metadata": {},
     "output_type": "execute_result"
    }
   ],
   "source": [
    "# Devuelve valores espaciados uniformemente dentro de un intervalo dado.\n",
    "np.arange(5)\n"
   ]
  },
  {
   "cell_type": "code",
   "execution_count": 31,
   "metadata": {},
   "outputs": [
    {
     "data": {
      "text/plain": [
       "array([[1, 0, 1, 0],\n",
       "       [0, 1, 0, 1],\n",
       "       [1, 0, 1, 0],\n",
       "       [0, 1, 0, 1]])"
      ]
     },
     "execution_count": 31,
     "metadata": {},
     "output_type": "execute_result"
    }
   ],
   "source": [
    "# np.tile(): Construye una matriz repitiendo A el número de veces dado por repeticiones.\n",
    "x = np.array([[1, 0], [0, 1]])\n",
    "\n",
    "np.tile(x, (2, 2))\n"
   ]
  },
  {
   "cell_type": "code",
   "execution_count": 38,
   "metadata": {},
   "outputs": [
    {
     "name": "stdout",
     "output_type": "stream",
     "text": [
      "[[0 1 2]\n",
      " [3 4 5]\n",
      " [6 7 8]]\n"
     ]
    }
   ],
   "source": [
    "# np.arage(): Devuelve valores espaciados uniformemente dentro de un intervalo dado.\n",
    "# np.reshape(): Da una nueva forma a una matriz sin cambiar sus datos.\n",
    "x = np.arange(9).reshape(3, 3)\n",
    "\n",
    "print(x)"
   ]
  },
  {
   "cell_type": "code",
   "execution_count": 44,
   "metadata": {},
   "outputs": [
    {
     "name": "stdout",
     "output_type": "stream",
     "text": [
      "[[ 0  1  2]\n",
      " [10 11 12]\n",
      " [20 21 22]\n",
      " [30 31 32]]\n"
     ]
    }
   ],
   "source": [
    "# No es necesario especificar los valores del vector uno a uno, ta,bien es posible generarlos\n",
    "b = np.array([[10*j+i for i in range(3)] for j in range(4)])\n",
    "\n",
    "print(b)"
   ]
  },
  {
   "cell_type": "code",
   "execution_count": 49,
   "metadata": {},
   "outputs": [
    {
     "name": "stdout",
     "output_type": "stream",
     "text": [
      "[ 0.  3.  6.  9. 12. 15.]\n",
      "[[ 0.]\n",
      " [ 3.]\n",
      " [ 6.]\n",
      " [ 9.]\n",
      " [12.]\n",
      " [15.]]\n"
     ]
    }
   ],
   "source": [
    "# Añadir una nueva dimensión o convertir un vector fila en column\n",
    "\n",
    "# np.linspace(): Devuelve números espaciados uniformemente en un intervalo especificado\n",
    "# calculadas a lo largo del intervalo [ inicio , detención ],\n",
    "# el punto final del intervalo puede excluirse opcionalmente.\n",
    "\n",
    "d = np.linspace(0, 15, 6)\n",
    "\n",
    "print(d)\n",
    "\n",
    "print(d[:, np.newaxis])"
   ]
  },
  {
   "cell_type": "code",
   "execution_count": 50,
   "metadata": {},
   "outputs": [
    {
     "name": "stdout",
     "output_type": "stream",
     "text": [
      "[[0 0 0 0 0]\n",
      " [1 1 1 1 1]\n",
      " [2 2 2 2 2]\n",
      " [3 3 3 3 3]\n",
      " [4 4 4 4 4]]\n",
      "---\n",
      "[[0 1 2 3 4]\n",
      " [0 1 2 3 4]\n",
      " [0 1 2 3 4]\n",
      " [0 1 2 3 4]\n",
      " [0 1 2 3 4]]\n"
     ]
    }
   ],
   "source": [
    "# np.mgrid(): devuelve una malla de malla densa (o desarrollada) cuando se indexa,\n",
    "# de modo que cada argumento devuelto tiene la misma forma. \n",
    "# Las dimensiones y el número de las matrices de salida son iguales al número de dimensiones de indexación. \n",
    "# Si la longitud del paso no es un número complejo, entonces la parada no es inclusiva.\n",
    "\n",
    "x, y = np.mgrid[0:5, 0:5] \n",
    "\n",
    "print(x)\n",
    "\n",
    "print(\"---\")\n",
    "\n",
    "print(y)"
   ]
  },
  {
   "cell_type": "code",
   "execution_count": 57,
   "metadata": {},
   "outputs": [
    {
     "name": "stdout",
     "output_type": "stream",
     "text": [
      "[[0.8794274  0.         0.         0.         0.         0.        ]\n",
      " [0.92523878 0.         0.         0.         0.         0.        ]\n",
      " [0.         0.         0.         0.         0.         0.        ]\n",
      " [0.         0.         0.         0.98149701 0.901075   0.        ]\n",
      " [0.9577774  0.90323881 0.         0.         0.         0.        ]]\n",
      "  (0, 0)\t0.879427401022772\n",
      "  (1, 0)\t0.9252387771426219\n",
      "  (3, 3)\t0.9814970130117243\n",
      "  (3, 4)\t0.9010749973495815\n",
      "  (4, 0)\t0.9577774040855614\n",
      "  (4, 1)\t0.9032388059069186\n"
     ]
    }
   ],
   "source": [
    "from scipy import sparse\n",
    "\n",
    "# np.random.random(): devuelve flotaciones aleatorias en el intervalo medio abierto [0.0, 1.0).\n",
    "# Los resultados son de la distribución \"uniforme continuo\" durante el intervalo establecido.\n",
    "# Para muestrear Unif [a, b), b> a, multiplique la salida de random_samplepor (ba) y agregue a\n",
    "# ( b  -  a )  *  random_sample ()  +  a\n",
    "\n",
    "x = np.random.random((5, 6))\n",
    "\n",
    "x[x < 0.85] = 0\n",
    "\n",
    "print(x)\n",
    "\n",
    "x_csr = sparse.csr_matrix(x)\n",
    "\n",
    "print(x_csr)"
   ]
  },
  {
   "cell_type": "code",
   "execution_count": 59,
   "metadata": {},
   "outputs": [
    {
     "name": "stdout",
     "output_type": "stream",
     "text": [
      "[[0.8794274  0.         0.         0.         0.         0.        ]\n",
      " [0.92523878 0.         0.         0.         0.         0.        ]\n",
      " [0.         0.         0.         0.         0.         0.        ]\n",
      " [0.         0.         0.         0.98149701 0.901075   0.        ]\n",
      " [0.9577774  0.90323881 0.         0.         0.         0.        ]]\n"
     ]
    }
   ],
   "source": [
    "# toarray(): convertirá en un arreglo definido la enterior expresión\n",
    "print(x_csr.toarray())\n"
   ]
  },
  {
   "cell_type": "code",
   "execution_count": 60,
   "metadata": {},
   "outputs": [
    {
     "data": {
      "text/plain": [
       "array([[0.92961609, 0.31637555, 0.18391881, 0.20456028, 0.56772503],\n",
       "       [0.5955447 , 0.96451452, 0.6531771 , 0.74890664, 0.65356987],\n",
       "       [0.74771481, 0.96130674, 0.0083883 , 0.10644438, 0.29870371],\n",
       "       [0.65641118, 0.80981255, 0.87217591, 0.9646476 , 0.72368535]])"
      ]
     },
     "execution_count": 60,
     "metadata": {},
     "output_type": "execute_result"
    }
   ],
   "source": [
    "# Numpy permite la generación de número aleatorios en base a una semilla previamente especificada \n",
    "np.random.seed(12345)\n",
    "\n",
    "np.random.rand(4, 5)\n"
   ]
  },
  {
   "cell_type": "code",
   "execution_count": 64,
   "metadata": {},
   "outputs": [
    {
     "data": {
      "text/plain": [
       "array([[ 1.34974221,  0.06987669,  0.24667411, -0.0118616 ],\n",
       "       [ 1.00481159,  1.32719461, -0.91926156, -1.54910644],\n",
       "       [ 0.0221846 ,  0.75836315, -0.66052433,  0.86258008],\n",
       "       [-0.0100319 ,  0.05000936,  0.67021559,  0.85296503]])"
      ]
     },
     "execution_count": 64,
     "metadata": {},
     "output_type": "execute_result"
    }
   ],
   "source": [
    "np.random.randn(4, 4)"
   ]
  },
  {
   "cell_type": "code",
   "execution_count": 67,
   "metadata": {},
   "outputs": [
    {
     "data": {
      "text/plain": [
       "array([1, 7, 1, 1])"
      ]
     },
     "execution_count": 67,
     "metadata": {},
     "output_type": "execute_result"
    }
   ],
   "source": [
    "# De la siguiente forma podemos hacer una tranformación del tipo de valor que se encuentra dentro del arreglo\n",
    "a = np.array([1,7, 1.2, 1.6])\n",
    "\n",
    "b = a.astype(int)\n",
    "\n",
    "b"
   ]
  },
  {
   "cell_type": "code",
   "execution_count": 71,
   "metadata": {},
   "outputs": [
    {
     "name": "stdout",
     "output_type": "stream",
     "text": [
      "[1 2 2 2 4 4 4]\n"
     ]
    }
   ],
   "source": [
    "# Realizamos un aproximación a los valores tipo fload del arreglo a\n",
    "a = np.array([1.2, 1.5, 1.6, 2.5, 3.5, 4.5, 4.5])\n",
    "\n",
    "b = np.around(a)\n",
    "\n",
    "c = np.around(a).astype(int)\n",
    "\n",
    "# El resultado será mostrado con los valores con tipo de dato entero\n",
    "print(c)"
   ]
  },
  {
   "cell_type": "code",
   "execution_count": 74,
   "metadata": {},
   "outputs": [
    {
     "data": {
      "text/plain": [
       "array([[ 1.,  2.,  3.],\n",
       "       [11., 12., 13.],\n",
       "       [21., 22., 23.],\n",
       "       [31., 32., 33.]])"
      ]
     },
     "execution_count": 74,
     "metadata": {},
     "output_type": "execute_result"
    }
   ],
   "source": [
    "# importamos la array de numpy\n",
    "from numpy import array\n",
    "\n",
    "# Declaramos 2 arreglos diferente dentro de 2 variables\n",
    "a = array([1.0, 2.0, 3.0])\n",
    "\n",
    "b = array([2.0, 2.0, 2.0])\n",
    "\n",
    "a = b\n",
    "\n",
    "from numpy import array\n",
    "\n",
    "a = array([[0.0, 0.0, 0.0,],\n",
    "           [10.0, 10.0, 10.0],\n",
    "           [20.0, 20.0, 20.0],\n",
    "           [30.0, 30.0, 30.0]])\n",
    "\n",
    "b = array([1.0, 2.0, 3.0])\n",
    "\n",
    "# De esta manera obtendremos la suma de arreglos a y b\n",
    "a + b\n",
    "\n"
   ]
  },
  {
   "cell_type": "code",
   "execution_count": 75,
   "metadata": {},
   "outputs": [
    {
     "name": "stdout",
     "output_type": "stream",
     "text": [
      "[[0.8794274  0.92523878 0.         0.         0.9577774 ]\n",
      " [0.         0.         0.         0.         0.90323881]\n",
      " [0.         0.         0.         0.         0.        ]\n",
      " [0.         0.         0.         0.98149701 0.        ]\n",
      " [0.         0.         0.         0.901075   0.        ]\n",
      " [0.         0.         0.         0.         0.        ]]\n"
     ]
    }
   ],
   "source": [
    "# Matris transpuesta\n",
    "print(x.T)\n",
    "# try x.min(), x.max(), x.mean(), x.cumsum()\n"
   ]
  },
  {
   "cell_type": "code",
   "execution_count": 82,
   "metadata": {},
   "outputs": [
    {
     "data": {
      "text/plain": [
       "0.0"
      ]
     },
     "execution_count": 82,
     "metadata": {},
     "output_type": "execute_result"
    }
   ],
   "source": [
    "# La min(): función devuelve el elemento con el valor más bajo o el elemento con el valor más bajo en un iterable,\n",
    "# en este caso  del arreglo\n",
    "\n",
    "x.min()\n"
   ]
  },
  {
   "cell_type": "code",
   "execution_count": 79,
   "metadata": {},
   "outputs": [
    {
     "data": {
      "text/plain": [
       "0.9814970130117243"
      ]
     },
     "execution_count": 79,
     "metadata": {},
     "output_type": "execute_result"
    }
   ],
   "source": [
    "# La función max(): La max()función devuelve el elemento con el valor más alto o el elemento con el valor más alto en un iterable,\n",
    "# en este caso  del arreglo\n",
    "\n",
    "x.max()\n"
   ]
  },
  {
   "cell_type": "code",
   "execution_count": 80,
   "metadata": {},
   "outputs": [
    {
     "data": {
      "text/plain": [
       "0.1849418132839727"
      ]
     },
     "execution_count": 80,
     "metadata": {},
     "output_type": "execute_result"
    }
   ],
   "source": [
    "# La función mean(): devuelve el promedio de los elementos de la matriz. El promedio se toma sobre la matriz aplanada por defecto, \n",
    "# de lo contrario sobre el eje especificado\n",
    "\n",
    "x.mean()\n"
   ]
  },
  {
   "cell_type": "code",
   "execution_count": 81,
   "metadata": {},
   "outputs": [
    {
     "data": {
      "text/plain": [
       "array([0.8794274 , 0.8794274 , 0.8794274 , 0.8794274 , 0.8794274 ,\n",
       "       0.8794274 , 1.80466618, 1.80466618, 1.80466618, 1.80466618,\n",
       "       1.80466618, 1.80466618, 1.80466618, 1.80466618, 1.80466618,\n",
       "       1.80466618, 1.80466618, 1.80466618, 1.80466618, 1.80466618,\n",
       "       1.80466618, 2.78616319, 3.68723819, 3.68723819, 4.64501559,\n",
       "       5.5482544 , 5.5482544 , 5.5482544 , 5.5482544 , 5.5482544 ])"
      ]
     },
     "execution_count": 81,
     "metadata": {},
     "output_type": "execute_result"
    }
   ],
   "source": [
    "# La función cumsum(): devuelve la suma acumulativa de los elementos a lo largo de un eje dado.\n",
    "\n",
    "x.cumsum()\n"
   ]
  },
  {
   "cell_type": "code",
   "execution_count": 84,
   "metadata": {},
   "outputs": [
    {
     "name": "stdout",
     "output_type": "stream",
     "text": [
      "[[4.39713701 0.         0.         0.         0.         0.        ]\n",
      " [4.62619389 0.         0.         0.         0.         0.        ]\n",
      " [0.         0.         0.         0.         0.         0.        ]\n",
      " [0.         0.         0.         4.90748507 4.50537499 0.        ]\n",
      " [4.78888702 4.51619403 0.         0.         0.         0.        ]]\n"
     ]
    }
   ],
   "source": [
    "# Multiplicamos la matriz por el valor de 5\n",
    "\n",
    "print(x * 5)\n"
   ]
  },
  {
   "cell_type": "code",
   "execution_count": 85,
   "metadata": {},
   "outputs": [
    {
     "name": "stdout",
     "output_type": "stream",
     "text": [
      "[[3.8794274  3.         3.         3.         3.         3.        ]\n",
      " [3.92523878 3.         3.         3.         3.         3.        ]\n",
      " [3.         3.         3.         3.         3.         3.        ]\n",
      " [3.         3.         3.         3.98149701 3.901075   3.        ]\n",
      " [3.9577774  3.90323881 3.         3.         3.         3.        ]]\n"
     ]
    }
   ],
   "source": [
    "# Sumamos a la matriz el valor de 3 \n",
    "\n",
    "print(x + 3)\n"
   ]
  },
  {
   "cell_type": "code",
   "execution_count": 91,
   "metadata": {},
   "outputs": [
    {
     "name": "stdout",
     "output_type": "stream",
     "text": [
      "[[0.8794274  0.         0.         0.         0.         0.        ]\n",
      " [0.92523878 0.         0.         0.         0.         0.        ]\n",
      " [0.         0.         0.         0.         0.         0.        ]\n",
      " [0.         0.         0.         0.98149701 0.901075   0.        ]\n",
      " [0.9577774  0.90323881 0.         0.         0.         0.        ]] [[0.8794274  0.92523878 0.         0.         0.9577774 ]\n",
      " [0.         0.         0.         0.         0.90323881]\n",
      " [0.         0.         0.         0.         0.        ]\n",
      " [0.         0.         0.         0.98149701 0.        ]\n",
      " [0.         0.         0.         0.901075   0.        ]\n",
      " [0.         0.         0.         0.         0.        ]]\n",
      "[[0.77339255 0.81368033 0.         0.         0.84229569]\n",
      " [0.81368033 0.85606679 0.         0.         0.88617279]\n",
      " [0.         0.         0.         0.         0.        ]\n",
      " [0.         0.         0.         1.77527254 0.        ]\n",
      " [0.84229569 0.88617279 0.         0.         1.7331779 ]]\n"
     ]
    }
   ],
   "source": [
    "# x.T La matriz transpuesta.\n",
    "\n",
    "print(x, x.T)\n",
    "\n",
    "#  Producto de puntos de dos matrices.\n",
    "\n",
    "print(np.dot(x, x.T))\n"
   ]
  },
  {
   "cell_type": "code",
   "execution_count": 92,
   "metadata": {},
   "outputs": [
    {
     "data": {
      "text/plain": [
       "-2.0"
      ]
     },
     "execution_count": 92,
     "metadata": {},
     "output_type": "execute_result"
    }
   ],
   "source": [
    "# Para el cálculo del determinante y de la matriz inversa hay que acudir a una librería SciPy\n",
    "from scipy import linalg\n",
    "\n",
    "arr = np.array([[1, 2], [3,4]])\n",
    "\n",
    "linalg.det(arr)\n"
   ]
  },
  {
   "cell_type": "code",
   "execution_count": 93,
   "metadata": {},
   "outputs": [
    {
     "name": "stdout",
     "output_type": "stream",
     "text": [
      "[[-2.   1. ]\n",
      " [ 1.5 -0.5]]\n"
     ]
    }
   ],
   "source": [
    "# Las funciones de álgebra lineal de NumPy se basan en BLAS y LAPACK para proporcionar implementaciones eficientes\n",
    "# de bajo nivel de algoritmos de álgebra lineal estándar. NumPy puede proporcionar esas bibliotecas utilizando versiones\n",
    "# C de un subconjunto de sus implementaciones de referencia, pero, cuando sea posible, se prefieren las bibliotecas altamente\n",
    "# optimizadas que aprovechan la funcionalidad del procesador especializado. Ejemplos de tales bibliotecas son OpenBLAS ,\n",
    "# MKL (TM) y ATLAS. Debido a que esas bibliotecas son multiproceso y dependen del procesador, es posible que se necesiten \n",
    "# variables ambientales y paquetes externos como threadpoolctl para controlar el número de subprocesos\n",
    "# o especificar la arquitectura del procesador.\n",
    "\n",
    "print(linalg.inv(arr))\n"
   ]
  },
  {
   "cell_type": "code",
   "execution_count": null,
   "metadata": {},
   "outputs": [],
   "source": [
    "print(b[0, 0])\n",
    "print(b[-1, -1])\n",
    "print(b[:, 1])"
   ]
  },
  {
   "cell_type": "code",
   "execution_count": 97,
   "metadata": {},
   "outputs": [],
   "source": [
    "# Declaramos un arreglo genereado atravez de un for\n",
    "\n",
    "a = np.array([[10*j+i for i in range(6)] for j in range(6)])\n"
   ]
  },
  {
   "cell_type": "code",
   "execution_count": 98,
   "metadata": {},
   "outputs": [
    {
     "name": "stdout",
     "output_type": "stream",
     "text": [
      "[[ 0  1  2  3  4  5]\n",
      " [10 11 12 13 14 15]\n",
      " [20 21 22 23 24 25]\n",
      " [30 31 32 33 34 35]\n",
      " [40 41 42 43 44 45]\n",
      " [50 51 52 53 54 55]]\n"
     ]
    }
   ],
   "source": [
    "# Imprimimos el arreglo generado anteriormente\n",
    "\n",
    "print(a)\n"
   ]
  },
  {
   "cell_type": "code",
   "execution_count": 99,
   "metadata": {},
   "outputs": [
    {
     "name": "stdout",
     "output_type": "stream",
     "text": [
      "[3 4]\n"
     ]
    }
   ],
   "source": [
    "# Imprimimos el arreglo fila 0 con indice 3 al 5\n",
    "\n",
    "print(a[0, 3:5])\n"
   ]
  },
  {
   "cell_type": "code",
   "execution_count": 100,
   "metadata": {},
   "outputs": [
    {
     "name": "stdout",
     "output_type": "stream",
     "text": [
      "[[44 45]\n",
      " [54 55]]\n"
     ]
    }
   ],
   "source": [
    "#Imprimimos el arreglo fila 4 con indice del 4 en adelante\n",
    "\n",
    "print(a[4:, 4:])\n"
   ]
  },
  {
   "cell_type": "code",
   "execution_count": 101,
   "metadata": {},
   "outputs": [
    {
     "name": "stdout",
     "output_type": "stream",
     "text": [
      "[ 2 12 22 32 42 52]\n"
     ]
    }
   ],
   "source": [
    "# Imprimimos el arreglo columna 2 y sin limites (toda la columna)\n",
    "\n",
    "print(a[:, 2])\n"
   ]
  },
  {
   "cell_type": "code",
   "execution_count": 102,
   "metadata": {},
   "outputs": [
    {
     "name": "stdout",
     "output_type": "stream",
     "text": [
      "[[20 22 24]\n",
      " [40 42 44]]\n"
     ]
    }
   ],
   "source": [
    "# Imprimimos el arreglo columna 2 y sin limites (toda la columna)\n",
    "\n",
    "print(a[2::2, ::2])\n"
   ]
  },
  {
   "cell_type": "code",
   "execution_count": 104,
   "metadata": {},
   "outputs": [
    {
     "name": "stdout",
     "output_type": "stream",
     "text": [
      "[[ 0  1  2  3  4  5]\n",
      " [10 11 12 13 14 15]\n",
      " [20 21 22 23 24 25]\n",
      " [30 31 32 33 34 35]\n",
      " [40 41 42 43 44 45]\n",
      " [50 51 52 53 54 55]]\n"
     ]
    }
   ],
   "source": [
    "# a la hora de copiar una matriz con todos sus atributos, se puede ejecutar la siguiente instrucción:\n",
    "\n",
    "c = np.array(a, copy=True)\n",
    "\n",
    "# Imprimimos el arreglo copiado\n",
    "\n",
    "print(c)"
   ]
  },
  {
   "cell_type": "code",
   "execution_count": null,
   "metadata": {},
   "outputs": [],
   "source": []
  }
 ],
 "metadata": {
  "kernelspec": {
   "display_name": "Python 3",
   "language": "python",
   "name": "python3"
  },
  "language_info": {
   "codemirror_mode": {
    "name": "ipython",
    "version": 3
   },
   "file_extension": ".py",
   "mimetype": "text/x-python",
   "name": "python",
   "nbconvert_exporter": "python",
   "pygments_lexer": "ipython3",
   "version": "3.7.6"
  }
 },
 "nbformat": 4,
 "nbformat_minor": 4
}
