{
  "nbformat": 4,
  "nbformat_minor": 0,
  "metadata": {
    "colab": {
      "name": "Problema_moneda.ipynb",
      "provenance": [],
      "authorship_tag": "ABX9TyM7+xCvDFWYY5fDpYJWctAj",
      "include_colab_link": true
    },
    "kernelspec": {
      "name": "python3",
      "display_name": "Python 3"
    }
  },
  "cells": [
    {
      "cell_type": "markdown",
      "metadata": {
        "id": "view-in-github",
        "colab_type": "text"
      },
      "source": [
        "<a href=\"https://colab.research.google.com/github/Armandot1998/Pyton-Jupyter-Notebook/blob/master/Problema_moneda.ipynb\" target=\"_parent\"><img src=\"https://colab.research.google.com/assets/colab-badge.svg\" alt=\"Open In Colab\"/></a>"
      ]
    },
    {
      "cell_type": "code",
      "metadata": {
        "id": "nD1X7_469Vz4",
        "colab_type": "code",
        "colab": {}
      },
      "source": [
        "def dpMakeChange(coinValueList,change,minCoins):\n",
        "            # Resuelva el problema por cada número de centavos menos que el objetivo\n",
        "      for cents in range(change+1):\n",
        "\n",
        "         # En el peor de los casos, toma todos los centavos, así que haga que la solución base\n",
        "         coinCount = cents\n",
        "\n",
        "         # Pruebe todos los valores de monedas inferiores al número actual de centavos\n",
        "         for j in [c for c in coinValueList if c <= cents]:\n",
        "\n",
        "               # Vea si una solución al número actual de centavos menos el valor\n",
        "               # de la moneda actual, con una moneda más agregada es la mejor\n",
        "               # solución hasta ahora\n",
        "               if minCoins[cents-j] + 1 < coinCount:\n",
        "                  coinCount = minCoins[cents-j]+1\n",
        "\n",
        "           # Recuerde la solución para la cantidad actual de centavos\n",
        "         minCoins[cents] = coinCount\n",
        "\n",
        "      # Para cuando estamos aquí, hemos construido la solución al problema general,\n",
        "      # así que devuélvelo\n",
        "      return minCoins[change]\n",
        "\n",
        "     "
      ],
      "execution_count": 2,
      "outputs": []
    }
  ]
}