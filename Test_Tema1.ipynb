{
 "cells": [
  {
   "cell_type": "markdown",
   "metadata": {},
   "source": [
    "# Conteste el siguiente test "
   ]
  },
  {
   "cell_type": "markdown",
   "metadata": {},
   "source": [
    "## 1. Python es un lenguaje:\n",
    "\n",
    "### D. Interpretado y gratuito\n",
    "\n",
    "## 2. Respecto a Python 2,x, Python 3.x:\n",
    "\n",
    "### B. Es más eficiente y reusable\n",
    "\n",
    "## 3. Para trabajar con Python:\n",
    "\n",
    "### D. Todas las anteriores\n",
    "\n",
    "## 4. A la hora de trabajar con Jupyter:\n",
    "\n",
    "### C. Debemos salvar continuamente el notebook manualmente para no perder los cambios introducidos\n",
    "\n",
    "## 5. A la hora de programar con Python:\n",
    "\n",
    "### D. Hay unas guias de estilo que son recomendadas seguir de cara a tener un código de calidad, reusable y facilitar su comprensión\n",
    "\n",
    "## 6. Los comentarios en Python:\n",
    "\n",
    "### A. Son importantes y necesarios de cara para facilitar la comprensión del código\n",
    "\n",
    "## 7. Respecto a los conjuntos podemos decir que:\n",
    "\n",
    "### D. No admiten elementos repetidos\n",
    "\n",
    "## 8. Una tupla:\n",
    "\n",
    "### D. Es una lista inmutable\n",
    "\n",
    "## 9. Matplotlib:\n",
    "\n",
    "### C. Es una libreria de visualización \n",
    "\n",
    "## 10. Para dibujar un histograma en Python, llamamos a la función:\n",
    "\n",
    "### A. Plothistograms()\n",
    "\n",
    "\n"
   ]
  },
  {
   "cell_type": "code",
   "execution_count": null,
   "metadata": {},
   "outputs": [],
   "source": []
  }
 ],
 "metadata": {
  "kernelspec": {
   "display_name": "Python 3",
   "language": "python",
   "name": "python3"
  },
  "language_info": {
   "codemirror_mode": {
    "name": "ipython",
    "version": 3
   },
   "file_extension": ".py",
   "mimetype": "text/x-python",
   "name": "python",
   "nbconvert_exporter": "python",
   "pygments_lexer": "ipython3",
   "version": "3.7.6"
  }
 },
 "nbformat": 4,
 "nbformat_minor": 4
}
