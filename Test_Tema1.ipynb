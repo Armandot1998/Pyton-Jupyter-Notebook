{
 "cells": [
  {
   "cell_type": "markdown",
   "metadata": {},
   "source": [
    "**1. Python es un lenguaje:**                                           \n",
    "- Interpretado y gratuito\n",
    "\n",
    "**2. Respecto a Python 2.x, Python 3.x:**\n",
    "- Es más eficiente y reusable.\n",
    "\n",
    "**3. Para trabajar con Python:**\n",
    "- Podemos trabajar mediante consola.\n",
    "- Podemos trabajar mediante entornos de desarrollo como Spyder.\n",
    "- Podemos trabajar mediante notebooks.  \n",
    "\n",
    "**4. A la hora de trabajar con Jupyter:**\n",
    "- Debemos salvar continuamente el notebook manualmente para no perder\n",
    "los cambios introducidos.\n",
    "\n",
    "**5. A la hora de programar con Python:**\n",
    "- Hay unas guías de estilo que son recomendables seguir de cara a tener un\n",
    "código de calidad, reusable y facilitar su comprensión. \n",
    "\n",
    "**6. Los comentarios en Python:**\n",
    "-  Son importantes y necesarios de cara a facilitar la comprensión del código.\n",
    "\n",
    "**7.Respecto a los conjuntos podemos decir que:**\n",
    "-  No admiten elementos repetidos\n",
    "\n",
    "**8. Una tupla:**\n",
    "- Es una lista inmutable. \n",
    "\n",
    "**9. Matplotlib:**\n",
    "- Es una librería de visualización\n",
    "\n",
    "**10. Para dibujar un histograma en Python, llamamos a la función:**\n",
    "- plotHistogram()."
   ]
  },
  {
   "cell_type": "code",
   "execution_count": null,
   "metadata": {},
   "outputs": [],
   "source": []
  }
 ],
 "metadata": {
  "kernelspec": {
   "display_name": "Python 3",
   "language": "python",
   "name": "python3"
  },
  "language_info": {
   "codemirror_mode": {
    "name": "ipython",
    "version": 3
   },
   "file_extension": ".py",
   "mimetype": "text/x-python",
   "name": "python",
   "nbconvert_exporter": "python",
   "pygments_lexer": "ipython3",
   "version": "3.7.6"
  }
 },
 "nbformat": 4,
 "nbformat_minor": 4
}
