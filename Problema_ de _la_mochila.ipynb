{
 "cells": [
  {
   "cell_type": "markdown",
   "metadata": {},
   "source": [
    "# El problema de la mochila "
   ]
  },
  {
   "cell_type": "code",
   "execution_count": 8,
   "metadata": {},
   "outputs": [
    {
     "name": "stdout",
     "output_type": "stream",
     "text": [
      "Paquete 9 Peso :230 valor :591\n",
      "Paquete 3 Peso :153 valor :200\n",
      "Paquete 4 Peso :50 valor :160\n",
      "Paquete 2 Peso :9 valor :160\n",
      "Paquete 1 Peso :9 valor :150\n",
      "Paquete 11 Peso :110 valor :70\n",
      "Paquete 7 Peso :27 valor :60\n",
      "Paquete 5 Peso :15 valor :60\n",
      "Paquete 6 Peso :66 valor :45\n",
      "Paquete 8 Peso :39 valor :40\n",
      "Paquete 12 Peso :32 valor :30\n",
      " \n",
      "Peso total paquetes: 740\n",
      "Valor total paquetes: 1566\n"
     ]
    }
   ],
   "source": [
    "from itertools import takewhile\n",
    "\n",
    "#Paquetes: \"Nombre del paquete\", Kilos, Precio\n",
    "PAQUETES = (\n",
    "    (\"Paquete 1\", 9, 150), (\"Paquete 2\", 9, 160), (\"Paquete 3\", 153, 200), (\"Paquete 4\", 50, 160),\n",
    "    (\"Paquete 5\", 15, 60), (\"Paquete 6\", 66, 45), (\"Paquete 7\", 27, 60), (\"Paquete 8\", 39, 40),\n",
    "    (\"Paquete 9\", 230, 591), (\"Paquete 10\", 520, 10), (\"Paquete 11\", 110, 70), (\"Paquete 12\", 32, 30))\n",
    "\n",
    "def proceso_valor(item):\n",
    "    nombre, peso, valor = item\n",
    "    return float(valor)\n",
    "\n",
    "def proceso_peso(item):\n",
    "    nombre, peso, valor = item\n",
    "    proceso_peso.peso_maximo -= peso\n",
    "    return proceso_peso.peso_maximo >= 0    \n",
    "\n",
    "#carga máxima del camión\n",
    "proceso_peso.peso_maximo = 750\n",
    "\n",
    "\n",
    "carga_lista = list(takewhile(proceso_peso, reversed(sorted(PAQUETES, key=proceso_valor))))\n",
    "\n",
    "sumacarga = 0\n",
    "sumavalor = 0\n",
    "\n",
    "for item in carga_lista:\n",
    "    print (item[0] + ' Peso :%i' % item[1] + ' valor :%i' % item[2])\n",
    "    sumacarga = sumacarga + item[1]\n",
    "    sumavalor = sumavalor + item[2]\n",
    "\n",
    "print (' ')\n",
    "print ('Peso total paquetes: %i' % sumacarga)\n",
    "print ('Valor total paquetes: %i' % sumavalor)"
   ]
  },
  {
   "cell_type": "code",
   "execution_count": 3,
   "metadata": {},
   "outputs": [
    {
     "data": {
      "text/plain": [
       "[('Paquete 1', 9, 150),\n",
       " ('Paquete 2', 9, 160),\n",
       " ('Paquete 4', 50, 160),\n",
       " ('Paquete 5', 15, 60),\n",
       " ('Paquete 6', 66, 45),\n",
       " ('Paquete 7', 27, 60),\n",
       " ('Paquete 8', 39, 40)]"
      ]
     },
     "execution_count": 3,
     "metadata": {},
     "output_type": "execute_result"
    }
   ],
   "source": [
    "# modificacion por fureza bruta\n",
    "\n",
    "from operator import itemgetter\n",
    "\n",
    "#Paquetes: \"Nombre del paquete\", Kilos, Precio\n",
    "PAQUETES = (\n",
    "    (\"Paquete 1\", 9, 150), (\"Paquete 2\", 9, 160), (\"Paquete 3\", 153, 200), (\"Paquete 4\", 50, 160),\n",
    "    (\"Paquete 5\", 15, 60), (\"Paquete 6\", 66, 45), (\"Paquete 7\", 27, 60), (\"Paquete 8\", 39, 40),\n",
    "    (\"Paquete 9\", 230, 591), (\"Paquete 10\", 520, 10), (\"Paquete 11\", 110, 70), (\"Paquete 12\", 32, 30))\n",
    "\n",
    "#carga máxima del camión\n",
    "PESOMAXIMO = 230\n",
    "\n",
    "# Útiles para acceso al peso y valores (irían mejor definiendo una clase)\n",
    "get_peso = itemgetter(1)\n",
    "get_valor = itemgetter(2)\n",
    "\n",
    "def total_peso(paquetes):\n",
    "    return sum(get_peso(x) for x in paquetes)\n",
    "\n",
    "def total_valor(paquetes):\n",
    "    return sum(get_valor(x) for x in paquetes)\n",
    "\n",
    "# Obtención de todas las combinaciones posibles\n",
    "# Función recursiva\n",
    "def combinaciones(paquetes, peso_maximo):\n",
    "    paqs = [ p for p in paquetes if get_peso(p) <= peso_maximo ]\n",
    "    resultado = []\n",
    "    for p in paqs:\n",
    "        res = combinaciones([x for x in paqs if x!=p], peso_maximo - get_peso(p))\n",
    "        if len(res) == 0:\n",
    "            resultado.append([p])\n",
    "        else:\n",
    "            resultado.extend([[p]+x for x in res])\n",
    "    return resultado\n",
    "\n",
    "# solución\n",
    "max(combinaciones(PAQUETES, PESOMAXIMO), key=total_valor)"
   ]
  },
  {
   "cell_type": "code",
   "execution_count": null,
   "metadata": {},
   "outputs": [],
   "source": []
  }
 ],
 "metadata": {
  "kernelspec": {
   "display_name": "Python 3",
   "language": "python",
   "name": "python3"
  },
  "language_info": {
   "codemirror_mode": {
    "name": "ipython",
    "version": 3
   },
   "file_extension": ".py",
   "mimetype": "text/x-python",
   "name": "python",
   "nbconvert_exporter": "python",
   "pygments_lexer": "ipython3",
   "version": "3.7.6"
  }
 },
 "nbformat": 4,
 "nbformat_minor": 4
}
