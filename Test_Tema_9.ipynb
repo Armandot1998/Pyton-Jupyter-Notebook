{
  "nbformat": 4,
  "nbformat_minor": 0,
  "metadata": {
    "colab": {
      "name": "Test_Tema_9.ipynb",
      "provenance": [],
      "authorship_tag": "ABX9TyOxbcDAq0y1B9nuC/rGjhqh",
      "include_colab_link": true
    },
    "kernelspec": {
      "name": "python3",
      "display_name": "Python 3"
    }
  },
  "cells": [
    {
      "cell_type": "markdown",
      "metadata": {
        "id": "view-in-github",
        "colab_type": "text"
      },
      "source": [
        "<a href=\"https://colab.research.google.com/github/Armandot1998/Pyton-Jupyter-Notebook/blob/master/Test_Tema_9.ipynb\" target=\"_parent\"><img src=\"https://colab.research.google.com/assets/colab-badge.svg\" alt=\"Open In Colab\"/></a>"
      ]
    },
    {
      "cell_type": "markdown",
      "metadata": {
        "id": "0Vzgtd7dSJfY",
        "colab_type": "text"
      },
      "source": [
        "**1. Heurística proviene del término griego heurískein que significa:**                                           \n",
        "- Hallar e inventar\n",
        "\n",
        "**2. Una solución factible ante un problema dado es una solución que:**\n",
        "- . Satisface las restricciones inicialmente planteadas.\n",
        "\n",
        "**3. El pseudocódigo es:**\n",
        "- Lenguaje para especificar algoritmos constituido mediante un conjunto de\n",
        "reglas básicas además de términos y palabras procedentes del lenguaje natural. \n",
        "\n",
        "**4. El funcionamiento de un algoritmo se puede evaluar usando (señala todas las que\n",
        "procedan):**\n",
        "- Una traza.\n",
        "- Una verificación formal.\n",
        "- Calculando el tiempo (minutos o segundos) que tarda en ejecutarse.\n",
        "\n",
        "**5. El estudio de la eficiencia tiene como objetivo estimar (señala todas las que procedan):**\n",
        "- Si el algoritmo proporciona soluciones óptimas.\n",
        "- Una estimación matemática del tiempo de procesamiento en función del\n",
        "tamaño de los datos de entrada.\n",
        "- Una estimación matemática del espacio físico (memoria) que requerirá la\n",
        "implementación del algoritmo en función del tamaño de los datos de entrada.\n",
        "\n",
        "**6. El principio de invarianza dice que:**\n",
        "- . Dos implementaciones distintas de un mismo algoritmo no deben diferir en\n",
        "su eficiencia en más que una constante multiplicativa.\n",
        "\n",
        "**7. Los algoritmos voraces o búsqueda voraz:**\n",
        "- No tienen por qué garantizar que se proporciona una solución óptima.\n",
        "\n",
        "**8. Una diferencia entre divide y vencerás y programación dinámica es:**\n",
        "- Divide y vencerás es recursivo y programación dinámica es iterativo\n",
        "\n",
        "**9. En un juego de información completa y suma nula (señala todaslas que procedan):**\n",
        "- Cada jugador conoce las jugadas que se hicieron y todas las que se pueden\n",
        "hacer en cada momento.\n",
        "\n",
        "**10. En el algoritmo minimax:**\n",
        "- El primer jugador suele ser MAX.\n",
        "\n"
      ]
    }
  ]
}