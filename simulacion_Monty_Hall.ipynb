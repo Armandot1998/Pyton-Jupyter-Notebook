{
 "cells": [
  {
   "cell_type": "code",
   "execution_count": 1,
   "metadata": {},
   "outputs": [
    {
     "name": "stdout",
     "output_type": "stream",
     "text": [
      "Gano  329  sin cambiar de puerta.\n",
      "Gano  671  cambiando de puerta.\n",
      "Veces que gano + veces que perdio sin cambiar de puerta  1000\n",
      "Veces que gano + veces que perdio cambiando de puerta  1000\n",
      "La suma de ganadas cambiando de puerta  329  mas  las ganadas sin cambiar de puerta 671 es =  1000 Que es igual al numero de ciclos\n"
     ]
    }
   ],
   "source": [
    "# Las tres puertas *-\n",
    "import random\n",
    "\n",
    "w=0; # Veces que ganas sin cambiar de puerta\n",
    "wc=0 # Veces que gana Cambiando de puerta\n",
    "vps=0 # Veces que Pierde sin cambiar de puerta\n",
    "vpc=0 # Veces que Pierde Vambiando de puerta\n",
    "\n",
    "for i in range(1000):\n",
    "    pe=random.randrange(1,4)\n",
    "    pp=random.randrange(1,4)\n",
    "    \n",
    "    if pe == pp:\n",
    "        w=w+1\n",
    "    else:\n",
    "        vps =vps+1\n",
    "       \n",
    "    if pe == 1 and pp==1:\n",
    "        vpc=vpc+1\n",
    "    \n",
    "    if pe == 2 and pp==2:\n",
    "        vpc=vpc+1\n",
    "    \n",
    "    if pe == 3 and pp==3:\n",
    "        vpc=vpc+1\n",
    "\n",
    "    if pe == 2 and pp==1:\n",
    "        wc=wc+1\n",
    "    \n",
    "    if pe == 3 and pp==1:\n",
    "        wc=wc+1   \n",
    "        \n",
    "    if pe == 1 and pp==2:\n",
    "        wc=wc+1\n",
    "    \n",
    "    if pe == 3 and pp==2:\n",
    "        wc=wc+1\n",
    "     \n",
    "    if pe == 1 and pp==3:\n",
    "        wc=wc+1\n",
    "    \n",
    "    if pe == 2 and pp==3:\n",
    "        wc=wc+1\n",
    "\n",
    "print(\"Gano \",w, \" sin cambiar de puerta.\")\n",
    "print(\"Gano \",wc, \" cambiando de puerta.\")\n",
    "print(\"Veces que gano + veces que perdio sin cambiar de puerta \",w + vps)\n",
    "print(\"Veces que gano + veces que perdio cambiando de puerta \",wc + vpc)\n",
    "\n",
    "# Adeas se puede demosrar que la simulacion es conrecta en la suenguie linea.\n",
    "\n",
    "print('La suma de ganadas cambiando de puerta ',w,' mas  las ganadas sin cambiar de puerta',wc ,'es = ',w+wc,'Que es igual al numero de ciclos')"
   ]
  },
  {
   "cell_type": "code",
   "execution_count": null,
   "metadata": {},
   "outputs": [],
   "source": []
  }
 ],
 "metadata": {
  "kernelspec": {
   "display_name": "Python 3",
   "language": "python",
   "name": "python3"
  },
  "language_info": {
   "codemirror_mode": {
    "name": "ipython",
    "version": 3
   },
   "file_extension": ".py",
   "mimetype": "text/x-python",
   "name": "python",
   "nbconvert_exporter": "python",
   "pygments_lexer": "ipython3",
   "version": "3.7.6"
  }
 },
 "nbformat": 4,
 "nbformat_minor": 4
}
