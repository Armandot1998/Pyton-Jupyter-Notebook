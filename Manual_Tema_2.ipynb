{
 "cells": [
  {
   "cell_type": "markdown",
   "metadata": {},
   "source": [
    "# Trabajo con Numpy"
   ]
  },
  {
   "cell_type": "code",
   "execution_count": 2,
   "metadata": {},
   "outputs": [
    {
     "name": "stdout",
     "output_type": "stream",
     "text": [
      "numpy version:  1.18.1\n"
     ]
    }
   ],
   "source": [
    "# Importamos la librería de Numpy\n",
    "import numpy as np\n",
    "\n",
    "# Consultamos la version que tenemos instalada \n",
    "print('numpy version: ', np.__version__)"
   ]
  },
  {
   "cell_type": "code",
   "execution_count": 3,
   "metadata": {},
   "outputs": [
    {
     "name": "stdout",
     "output_type": "stream",
     "text": [
      "Rows:003 ; cols:003\n",
      "[[ 0  1  2  3]\n",
      " [ 4  5  6  7]\n",
      " [ 8  9 10 11]]\n"
     ]
    }
   ],
   "source": [
    "# Declaramos un arreglo\n",
    "\n",
    "a = np.array([[0, 1, 2, 3], [4, 5, 6, 7], [8, 9, 10, 11]])\n",
    "\n",
    "# Con valores numéricos del 0 al 11 en cada fila\n",
    "\n",
    "rows, cols = np.shape(a)\n",
    "\n",
    "print ('Rows:{0:03d} ; cols:{0:03d}'.format(rows, cols))\n",
    "\n",
    "print(a)"
   ]
  },
  {
   "cell_type": "markdown",
   "metadata": {},
   "source": [
    "### Agregando valores complejos"
   ]
  },
  {
   "cell_type": "code",
   "execution_count": 7,
   "metadata": {},
   "outputs": [
    {
     "name": "stdout",
     "output_type": "stream",
     "text": [
      "Rows:003 ; cols:003\n",
      "[[1.+0.j 2.+0.j]\n",
      " [9.+0.j 0.+0.j]\n",
      " [4.+0.j 5.+0.j]]\n"
     ]
    }
   ],
   "source": [
    "# Declaramos un arreglo con números naturales\n",
    "# Pero los convertimos en numero complejos\n",
    "\n",
    "b = np.array([[1, 2], [9, 0], [4, 5]], dtype = np.complex64)\n",
    "\n",
    "print ('Rows:{0:03d} ; cols:{0:03d}'.format(rows, cols))\n",
    "\n",
    "print(b)"
   ]
  },
  {
   "cell_type": "markdown",
   "metadata": {},
   "source": [
    "### Inicializar vectores de dimensión "
   ]
  },
  {
   "cell_type": "code",
   "execution_count": 15,
   "metadata": {},
   "outputs": [
    {
     "data": {
      "text/plain": [
       "array([[0., 0., 0., 0.],\n",
       "       [0., 0., 0., 0.],\n",
       "       [0., 0., 0., 0.],\n",
       "       [0., 0., 0., 0.]])"
      ]
     },
     "execution_count": 15,
     "metadata": {},
     "output_type": "execute_result"
    }
   ],
   "source": [
    "# Inicializando un vector con variables inciales de 0 \n",
    "np.zeros((4, 4))\n"
   ]
  },
  {
   "cell_type": "code",
   "execution_count": 16,
   "metadata": {},
   "outputs": [
    {
     "data": {
      "text/plain": [
       "array([[0.+0.j, 0.+0.j],\n",
       "       [0.+0.j, 0.+0.j],\n",
       "       [0.+0.j, 0.+0.j]], dtype=complex64)"
      ]
     },
     "execution_count": 16,
     "metadata": {},
     "output_type": "execute_result"
    }
   ],
   "source": [
    "# Devuelve una matriz de ceros con la misma forma y tipo que una matriz determinada. \n",
    "np.zeros_like(b)\n"
   ]
  },
  {
   "cell_type": "code",
   "execution_count": 14,
   "metadata": {},
   "outputs": [
    {
     "data": {
      "text/plain": [
       "array([[0.00e+000, 0.00e+000, 0.00e+000],\n",
       "       [0.00e+000, 0.00e+000, 6.66e-321],\n",
       "       [0.00e+000, 0.00e+000, 0.00e+000]])"
      ]
     },
     "execution_count": 14,
     "metadata": {},
     "output_type": "execute_result"
    }
   ],
   "source": [
    "# Devuelve una nueva matriz de formas y tipos dados, sin inicializar entradas.\n",
    "np.empty((3, 3))\n"
   ]
  },
  {
   "cell_type": "code",
   "execution_count": 17,
   "metadata": {},
   "outputs": [
    {
     "data": {
      "text/plain": [
       "array([[1., 0., 0.],\n",
       "       [0., 1., 0.],\n",
       "       [0., 0., 1.]])"
      ]
     },
     "execution_count": 17,
     "metadata": {},
     "output_type": "execute_result"
    }
   ],
   "source": [
    "# Devuelve una matriz 2-D con unos en la diagonal y ceros en otro lugar.\n",
    "np.eye(3)\n"
   ]
  },
  {
   "cell_type": "code",
   "execution_count": 32,
   "metadata": {},
   "outputs": [
    {
     "data": {
      "text/plain": [
       "array([[0, 0, 0, 0, 0],\n",
       "       [0, 1, 0, 0, 0],\n",
       "       [0, 0, 2, 0, 0],\n",
       "       [0, 0, 0, 3, 0],\n",
       "       [0, 0, 0, 0, 4]])"
      ]
     },
     "execution_count": 32,
     "metadata": {},
     "output_type": "execute_result"
    }
   ],
   "source": [
    "# np.diag(): Se utiliza esta función para extraer una diagonal y desea escribir en la matriz resultante; \n",
    "# si devuelve una copia o una vista depende de qué versión de numpy esté usando.\n",
    "\n",
    "# np.arange(): Devuelve valores espaciados uniformemente dentro de un intervalo dado.\n",
    "x = np.arange(5)\n",
    "\n",
    "np.diag(x)\n"
   ]
  },
  {
   "cell_type": "code",
   "execution_count": 25,
   "metadata": {},
   "outputs": [
    {
     "data": {
      "text/plain": [
       "array([0, 1, 2, 3, 4])"
      ]
     },
     "execution_count": 25,
     "metadata": {},
     "output_type": "execute_result"
    }
   ],
   "source": [
    "# Devuelve valores espaciados uniformemente dentro de un intervalo dado.\n",
    "np.arange(5)\n"
   ]
  },
  {
   "cell_type": "code",
   "execution_count": 31,
   "metadata": {},
   "outputs": [
    {
     "data": {
      "text/plain": [
       "array([[1, 0, 1, 0],\n",
       "       [0, 1, 0, 1],\n",
       "       [1, 0, 1, 0],\n",
       "       [0, 1, 0, 1]])"
      ]
     },
     "execution_count": 31,
     "metadata": {},
     "output_type": "execute_result"
    }
   ],
   "source": [
    "# np.tile(): Construye una matriz repitiendo A el número de veces dado por repeticiones.\n",
    "x = np.array([[1, 0], [0, 1]])\n",
    "\n",
    "np.tile(x, (2, 2))\n"
   ]
  },
  {
   "cell_type": "code",
   "execution_count": 38,
   "metadata": {},
   "outputs": [
    {
     "name": "stdout",
     "output_type": "stream",
     "text": [
      "[[0 1 2]\n",
      " [3 4 5]\n",
      " [6 7 8]]\n"
     ]
    }
   ],
   "source": [
    "# np.arage(): Devuelve valores espaciados uniformemente dentro de un intervalo dado.\n",
    "# np.reshape(): Da una nueva forma a una matriz sin cambiar sus datos.\n",
    "x = np.arange(9).reshape(3, 3)\n",
    "\n",
    "print(x)"
   ]
  },
  {
   "cell_type": "code",
   "execution_count": 44,
   "metadata": {},
   "outputs": [
    {
     "name": "stdout",
     "output_type": "stream",
     "text": [
      "[[ 0  1  2]\n",
      " [10 11 12]\n",
      " [20 21 22]\n",
      " [30 31 32]]\n"
     ]
    }
   ],
   "source": [
    "# No es necesario especificar los valores del vector uno a uno, ta,bien es posible generarlos\n",
    "b = np.array([[10*j+i for i in range(3)] for j in range(4)])\n",
    "\n",
    "print(b)"
   ]
  },
  {
   "cell_type": "code",
   "execution_count": 49,
   "metadata": {},
   "outputs": [
    {
     "name": "stdout",
     "output_type": "stream",
     "text": [
      "[ 0.  3.  6.  9. 12. 15.]\n",
      "[[ 0.]\n",
      " [ 3.]\n",
      " [ 6.]\n",
      " [ 9.]\n",
      " [12.]\n",
      " [15.]]\n"
     ]
    }
   ],
   "source": [
    "# Añadir una nueva dimensión o convertir un vector fila en column\n",
    "\n",
    "# np.linspace(): Devuelve números espaciados uniformemente en un intervalo especificado\n",
    "# calculadas a lo largo del intervalo [ inicio , detención ],\n",
    "# el punto final del intervalo puede excluirse opcionalmente.\n",
    "\n",
    "d = np.linspace(0, 15, 6)\n",
    "\n",
    "print(d)\n",
    "\n",
    "print(d[:, np.newaxis])"
   ]
  },
  {
   "cell_type": "code",
   "execution_count": 50,
   "metadata": {},
   "outputs": [
    {
     "name": "stdout",
     "output_type": "stream",
     "text": [
      "[[0 0 0 0 0]\n",
      " [1 1 1 1 1]\n",
      " [2 2 2 2 2]\n",
      " [3 3 3 3 3]\n",
      " [4 4 4 4 4]]\n",
      "---\n",
      "[[0 1 2 3 4]\n",
      " [0 1 2 3 4]\n",
      " [0 1 2 3 4]\n",
      " [0 1 2 3 4]\n",
      " [0 1 2 3 4]]\n"
     ]
    }
   ],
   "source": [
    "# np.mgrid(): devuelve una malla de malla densa (o desarrollada) cuando se indexa,\n",
    "# de modo que cada argumento devuelto tiene la misma forma. \n",
    "# Las dimensiones y el número de las matrices de salida son iguales al número de dimensiones de indexación. \n",
    "# Si la longitud del paso no es un número complejo, entonces la parada no es inclusiva.\n",
    "\n",
    "x, y = np.mgrid[0:5, 0:5] \n",
    "\n",
    "print(x)\n",
    "\n",
    "print(\"---\")\n",
    "\n",
    "print(y)"
   ]
  },
  {
   "cell_type": "code",
   "execution_count": 57,
   "metadata": {},
   "outputs": [
    {
     "name": "stdout",
     "output_type": "stream",
     "text": [
      "[[0.8794274  0.         0.         0.         0.         0.        ]\n",
      " [0.92523878 0.         0.         0.         0.         0.        ]\n",
      " [0.         0.         0.         0.         0.         0.        ]\n",
      " [0.         0.         0.         0.98149701 0.901075   0.        ]\n",
      " [0.9577774  0.90323881 0.         0.         0.         0.        ]]\n",
      "  (0, 0)\t0.879427401022772\n",
      "  (1, 0)\t0.9252387771426219\n",
      "  (3, 3)\t0.9814970130117243\n",
      "  (3, 4)\t0.9010749973495815\n",
      "  (4, 0)\t0.9577774040855614\n",
      "  (4, 1)\t0.9032388059069186\n"
     ]
    }
   ],
   "source": [
    "from scipy import sparse\n",
    "\n",
    "# np.random.random(): devuelve flotaciones aleatorias en el intervalo medio abierto [0.0, 1.0).\n",
    "# Los resultados son de la distribución \"uniforme continuo\" durante el intervalo establecido.\n",
    "# Para muestrear Unif [a, b), b> a, multiplique la salida de random_samplepor (ba) y agregue a\n",
    "# ( b  -  a )  *  random_sample ()  +  a\n",
    "\n",
    "x = np.random.random((5, 6))\n",
    "\n",
    "x[x < 0.85] = 0\n",
    "\n",
    "print(x)\n",
    "\n",
    "x_csr = sparse.csr_matrix(x)\n",
    "\n",
    "print(x_csr)"
   ]
  },
  {
   "cell_type": "code",
   "execution_count": 59,
   "metadata": {},
   "outputs": [
    {
     "name": "stdout",
     "output_type": "stream",
     "text": [
      "[[0.8794274  0.         0.         0.         0.         0.        ]\n",
      " [0.92523878 0.         0.         0.         0.         0.        ]\n",
      " [0.         0.         0.         0.         0.         0.        ]\n",
      " [0.         0.         0.         0.98149701 0.901075   0.        ]\n",
      " [0.9577774  0.90323881 0.         0.         0.         0.        ]]\n"
     ]
    }
   ],
   "source": [
    "# toarray(): convertirá en un arreglo definido la enterior expresión\n",
    "print(x_csr.toarray())\n"
   ]
  },
  {
   "cell_type": "code",
   "execution_count": 60,
   "metadata": {},
   "outputs": [
    {
     "data": {
      "text/plain": [
       "array([[0.92961609, 0.31637555, 0.18391881, 0.20456028, 0.56772503],\n",
       "       [0.5955447 , 0.96451452, 0.6531771 , 0.74890664, 0.65356987],\n",
       "       [0.74771481, 0.96130674, 0.0083883 , 0.10644438, 0.29870371],\n",
       "       [0.65641118, 0.80981255, 0.87217591, 0.9646476 , 0.72368535]])"
      ]
     },
     "execution_count": 60,
     "metadata": {},
     "output_type": "execute_result"
    }
   ],
   "source": [
    "# Numpy permite la generación de número aleatorios en base a una semilla previamente especificada \n",
    "np.random.seed(12345)\n",
    "\n",
    "np.random.rand(4, 5)\n"
   ]
  },
  {
   "cell_type": "code",
   "execution_count": 64,
   "metadata": {},
   "outputs": [
    {
     "data": {
      "text/plain": [
       "array([[ 1.34974221,  0.06987669,  0.24667411, -0.0118616 ],\n",
       "       [ 1.00481159,  1.32719461, -0.91926156, -1.54910644],\n",
       "       [ 0.0221846 ,  0.75836315, -0.66052433,  0.86258008],\n",
       "       [-0.0100319 ,  0.05000936,  0.67021559,  0.85296503]])"
      ]
     },
     "execution_count": 64,
     "metadata": {},
     "output_type": "execute_result"
    }
   ],
   "source": [
    "np.random.randn(4, 4)"
   ]
  },
  {
   "cell_type": "code",
   "execution_count": 67,
   "metadata": {},
   "outputs": [
    {
     "data": {
      "text/plain": [
       "array([1, 7, 1, 1])"
      ]
     },
     "execution_count": 67,
     "metadata": {},
     "output_type": "execute_result"
    }
   ],
   "source": [
    "# De la siguiente forma podemos hacer una tranformación del tipo de valor que se encuentra dentro del arreglo\n",
    "a = np.array([1,7, 1.2, 1.6])\n",
    "\n",
    "b = a.astype(int)\n",
    "\n",
    "b"
   ]
  },
  {
   "cell_type": "code",
   "execution_count": 71,
   "metadata": {},
   "outputs": [
    {
     "name": "stdout",
     "output_type": "stream",
     "text": [
      "[1 2 2 2 4 4 4]\n"
     ]
    }
   ],
   "source": [
    "# Realizamos un aproximación a los valores tipo fload del arreglo a\n",
    "a = np.array([1.2, 1.5, 1.6, 2.5, 3.5, 4.5, 4.5])\n",
    "\n",
    "b = np.around(a)\n",
    "\n",
    "c = np.around(a).astype(int)\n",
    "\n",
    "# El resultado será mostrado con los valores con tipo de dato entero\n",
    "print(c)"
   ]
  },
  {
   "cell_type": "code",
   "execution_count": 74,
   "metadata": {},
   "outputs": [
    {
     "data": {
      "text/plain": [
       "array([[ 1.,  2.,  3.],\n",
       "       [11., 12., 13.],\n",
       "       [21., 22., 23.],\n",
       "       [31., 32., 33.]])"
      ]
     },
     "execution_count": 74,
     "metadata": {},
     "output_type": "execute_result"
    }
   ],
   "source": [
    "# importamos la array de numpy\n",
    "from numpy import array\n",
    "\n",
    "# Declaramos 2 arreglos diferente dentro de 2 variables\n",
    "a = array([1.0, 2.0, 3.0])\n",
    "\n",
    "b = array([2.0, 2.0, 2.0])\n",
    "\n",
    "a = b\n",
    "\n",
    "from numpy import array\n",
    "\n",
    "a = array([[0.0, 0.0, 0.0,],\n",
    "           [10.0, 10.0, 10.0],\n",
    "           [20.0, 20.0, 20.0],\n",
    "           [30.0, 30.0, 30.0]])\n",
    "\n",
    "b = array([1.0, 2.0, 3.0])\n",
    "\n",
    "# De esta manera obtendremos la suma de arreglos a y b\n",
    "a + b\n",
    "\n"
   ]
  },
  {
   "cell_type": "code",
   "execution_count": 75,
   "metadata": {},
   "outputs": [
    {
     "name": "stdout",
     "output_type": "stream",
     "text": [
      "[[0.8794274  0.92523878 0.         0.         0.9577774 ]\n",
      " [0.         0.         0.         0.         0.90323881]\n",
      " [0.         0.         0.         0.         0.        ]\n",
      " [0.         0.         0.         0.98149701 0.        ]\n",
      " [0.         0.         0.         0.901075   0.        ]\n",
      " [0.         0.         0.         0.         0.        ]]\n"
     ]
    }
   ],
   "source": [
    "# Matris transpuesta\n",
    "print(x.T)\n",
    "# try x.min(), x.max(), x.mean(), x.cumsum()\n"
   ]
  },
  {
   "cell_type": "code",
   "execution_count": 82,
   "metadata": {},
   "outputs": [
    {
     "data": {
      "text/plain": [
       "0.0"
      ]
     },
     "execution_count": 82,
     "metadata": {},
     "output_type": "execute_result"
    }
   ],
   "source": [
    "# La min(): función devuelve el elemento con el valor más bajo o el elemento con el valor más bajo en un iterable,\n",
    "# en este caso  del arreglo\n",
    "\n",
    "x.min()\n"
   ]
  },
  {
   "cell_type": "code",
   "execution_count": 79,
   "metadata": {},
   "outputs": [
    {
     "data": {
      "text/plain": [
       "0.9814970130117243"
      ]
     },
     "execution_count": 79,
     "metadata": {},
     "output_type": "execute_result"
    }
   ],
   "source": [
    "# La función max(): La max()función devuelve el elemento con el valor más alto o el elemento con el valor más alto en un iterable,\n",
    "# en este caso  del arreglo\n",
    "\n",
    "x.max()\n"
   ]
  },
  {
   "cell_type": "code",
   "execution_count": 80,
   "metadata": {},
   "outputs": [
    {
     "data": {
      "text/plain": [
       "0.1849418132839727"
      ]
     },
     "execution_count": 80,
     "metadata": {},
     "output_type": "execute_result"
    }
   ],
   "source": [
    "# La función mean(): devuelve el promedio de los elementos de la matriz. El promedio se toma sobre la matriz aplanada por defecto, \n",
    "# de lo contrario sobre el eje especificado\n",
    "\n",
    "x.mean()\n"
   ]
  },
  {
   "cell_type": "code",
   "execution_count": 81,
   "metadata": {},
   "outputs": [
    {
     "data": {
      "text/plain": [
       "array([0.8794274 , 0.8794274 , 0.8794274 , 0.8794274 , 0.8794274 ,\n",
       "       0.8794274 , 1.80466618, 1.80466618, 1.80466618, 1.80466618,\n",
       "       1.80466618, 1.80466618, 1.80466618, 1.80466618, 1.80466618,\n",
       "       1.80466618, 1.80466618, 1.80466618, 1.80466618, 1.80466618,\n",
       "       1.80466618, 2.78616319, 3.68723819, 3.68723819, 4.64501559,\n",
       "       5.5482544 , 5.5482544 , 5.5482544 , 5.5482544 , 5.5482544 ])"
      ]
     },
     "execution_count": 81,
     "metadata": {},
     "output_type": "execute_result"
    }
   ],
   "source": [
    "# La función cumsum(): devuelve la suma acumulativa de los elementos a lo largo de un eje dado.\n",
    "\n",
    "x.cumsum()\n"
   ]
  },
  {
   "cell_type": "code",
   "execution_count": 84,
   "metadata": {},
   "outputs": [
    {
     "name": "stdout",
     "output_type": "stream",
     "text": [
      "[[4.39713701 0.         0.         0.         0.         0.        ]\n",
      " [4.62619389 0.         0.         0.         0.         0.        ]\n",
      " [0.         0.         0.         0.         0.         0.        ]\n",
      " [0.         0.         0.         4.90748507 4.50537499 0.        ]\n",
      " [4.78888702 4.51619403 0.         0.         0.         0.        ]]\n"
     ]
    }
   ],
   "source": [
    "# Multiplicamos la matriz por el valor de 5\n",
    "\n",
    "print(x * 5)\n"
   ]
  },
  {
   "cell_type": "code",
   "execution_count": 85,
   "metadata": {},
   "outputs": [
    {
     "name": "stdout",
     "output_type": "stream",
     "text": [
      "[[3.8794274  3.         3.         3.         3.         3.        ]\n",
      " [3.92523878 3.         3.         3.         3.         3.        ]\n",
      " [3.         3.         3.         3.         3.         3.        ]\n",
      " [3.         3.         3.         3.98149701 3.901075   3.        ]\n",
      " [3.9577774  3.90323881 3.         3.         3.         3.        ]]\n"
     ]
    }
   ],
   "source": [
    "# Sumamos a la matriz el valor de 3 \n",
    "\n",
    "print(x + 3)\n"
   ]
  },
  {
   "cell_type": "code",
   "execution_count": 91,
   "metadata": {},
   "outputs": [
    {
     "name": "stdout",
     "output_type": "stream",
     "text": [
      "[[0.8794274  0.         0.         0.         0.         0.        ]\n",
      " [0.92523878 0.         0.         0.         0.         0.        ]\n",
      " [0.         0.         0.         0.         0.         0.        ]\n",
      " [0.         0.         0.         0.98149701 0.901075   0.        ]\n",
      " [0.9577774  0.90323881 0.         0.         0.         0.        ]] [[0.8794274  0.92523878 0.         0.         0.9577774 ]\n",
      " [0.         0.         0.         0.         0.90323881]\n",
      " [0.         0.         0.         0.         0.        ]\n",
      " [0.         0.         0.         0.98149701 0.        ]\n",
      " [0.         0.         0.         0.901075   0.        ]\n",
      " [0.         0.         0.         0.         0.        ]]\n",
      "[[0.77339255 0.81368033 0.         0.         0.84229569]\n",
      " [0.81368033 0.85606679 0.         0.         0.88617279]\n",
      " [0.         0.         0.         0.         0.        ]\n",
      " [0.         0.         0.         1.77527254 0.        ]\n",
      " [0.84229569 0.88617279 0.         0.         1.7331779 ]]\n"
     ]
    }
   ],
   "source": [
    "# x.T La matriz transpuesta.\n",
    "\n",
    "print(x, x.T)\n",
    "\n",
    "#  Producto de puntos de dos matrices.\n",
    "\n",
    "print(np.dot(x, x.T))\n"
   ]
  },
  {
   "cell_type": "code",
   "execution_count": 92,
   "metadata": {},
   "outputs": [
    {
     "data": {
      "text/plain": [
       "-2.0"
      ]
     },
     "execution_count": 92,
     "metadata": {},
     "output_type": "execute_result"
    }
   ],
   "source": [
    "# Para el cálculo del determinante y de la matriz inversa hay que acudir a una librería SciPy\n",
    "from scipy import linalg\n",
    "\n",
    "arr = np.array([[1, 2], [3,4]])\n",
    "\n",
    "linalg.det(arr)\n"
   ]
  },
  {
   "cell_type": "code",
   "execution_count": 93,
   "metadata": {},
   "outputs": [
    {
     "name": "stdout",
     "output_type": "stream",
     "text": [
      "[[-2.   1. ]\n",
      " [ 1.5 -0.5]]\n"
     ]
    }
   ],
   "source": [
    "# Las funciones de álgebra lineal de NumPy se basan en BLAS y LAPACK para proporcionar implementaciones eficientes\n",
    "# de bajo nivel de algoritmos de álgebra lineal estándar. NumPy puede proporcionar esas bibliotecas utilizando versiones\n",
    "# C de un subconjunto de sus implementaciones de referencia, pero, cuando sea posible, se prefieren las bibliotecas altamente\n",
    "# optimizadas que aprovechan la funcionalidad del procesador especializado. Ejemplos de tales bibliotecas son OpenBLAS ,\n",
    "# MKL (TM) y ATLAS. Debido a que esas bibliotecas son multiproceso y dependen del procesador, es posible que se necesiten \n",
    "# variables ambientales y paquetes externos como threadpoolctl para controlar el número de subprocesos\n",
    "# o especificar la arquitectura del procesador.\n",
    "\n",
    "print(linalg.inv(arr))\n"
   ]
  },
  {
   "cell_type": "code",
   "execution_count": null,
   "metadata": {},
   "outputs": [],
   "source": [
    "print(b[0, 0])\n",
    "print(b[-1, -1])\n",
    "print(b[:, 1])"
   ]
  },
  {
   "cell_type": "code",
   "execution_count": 97,
   "metadata": {},
   "outputs": [],
   "source": [
    "# Declaramos un arreglo genereado atravez de un for\n",
    "\n",
    "a = np.array([[10*j+i for i in range(6)] for j in range(6)])\n"
   ]
  },
  {
   "cell_type": "code",
   "execution_count": 98,
   "metadata": {},
   "outputs": [
    {
     "name": "stdout",
     "output_type": "stream",
     "text": [
      "[[ 0  1  2  3  4  5]\n",
      " [10 11 12 13 14 15]\n",
      " [20 21 22 23 24 25]\n",
      " [30 31 32 33 34 35]\n",
      " [40 41 42 43 44 45]\n",
      " [50 51 52 53 54 55]]\n"
     ]
    }
   ],
   "source": [
    "# Imprimimos el arreglo generado anteriormente\n",
    "\n",
    "print(a)\n"
   ]
  },
  {
   "cell_type": "code",
   "execution_count": 99,
   "metadata": {},
   "outputs": [
    {
     "name": "stdout",
     "output_type": "stream",
     "text": [
      "[3 4]\n"
     ]
    }
   ],
   "source": [
    "# Imprimimos el arreglo fila 0 con indice 3 al 5\n",
    "\n",
    "print(a[0, 3:5])\n"
   ]
  },
  {
   "cell_type": "code",
   "execution_count": 100,
   "metadata": {},
   "outputs": [
    {
     "name": "stdout",
     "output_type": "stream",
     "text": [
      "[[44 45]\n",
      " [54 55]]\n"
     ]
    }
   ],
   "source": [
    "#Imprimimos el arreglo fila 4 con indice del 4 en adelante\n",
    "\n",
    "print(a[4:, 4:])\n"
   ]
  },
  {
   "cell_type": "code",
   "execution_count": 101,
   "metadata": {},
   "outputs": [
    {
     "name": "stdout",
     "output_type": "stream",
     "text": [
      "[ 2 12 22 32 42 52]\n"
     ]
    }
   ],
   "source": [
    "# Imprimimos el arreglo columna 2 y sin limites (toda la columna)\n",
    "\n",
    "print(a[:, 2])\n"
   ]
  },
  {
   "cell_type": "code",
   "execution_count": 102,
   "metadata": {},
   "outputs": [
    {
     "name": "stdout",
     "output_type": "stream",
     "text": [
      "[[20 22 24]\n",
      " [40 42 44]]\n"
     ]
    }
   ],
   "source": [
    "# Imprimimos el arreglo columna 2 y sin limites (toda la columna)\n",
    "\n",
    "print(a[2::2, ::2])\n"
   ]
  },
  {
   "cell_type": "code",
   "execution_count": 104,
   "metadata": {},
   "outputs": [
    {
     "name": "stdout",
     "output_type": "stream",
     "text": [
      "[[ 0  1  2  3  4  5]\n",
      " [10 11 12 13 14 15]\n",
      " [20 21 22 23 24 25]\n",
      " [30 31 32 33 34 35]\n",
      " [40 41 42 43 44 45]\n",
      " [50 51 52 53 54 55]]\n"
     ]
    }
   ],
   "source": [
    "# a la hora de copiar una matriz con todos sus atributos, se puede ejecutar la siguiente instrucción:\n",
    "\n",
    "c = np.array(a, copy=True)\n",
    "\n",
    "# Imprimimos el arreglo copiado\n",
    "\n",
    "print(c)"
   ]
  },
  {
   "cell_type": "markdown",
   "metadata": {},
   "source": [
    "# Trabajando con Pandas"
   ]
  },
  {
   "cell_type": "code",
   "execution_count": 11,
   "metadata": {},
   "outputs": [
    {
     "data": {
      "text/plain": [
       "0    1.0\n",
       "1    3.0\n",
       "2    5.0\n",
       "3    NaN\n",
       "4    6.0\n",
       "5    8.0\n",
       "dtype: float64"
      ]
     },
     "execution_count": 11,
     "metadata": {},
     "output_type": "execute_result"
    }
   ],
   "source": [
    "# es muy importante a la hora de trabajar con pandas hacer la respectiva importación \n",
    "import pandas as pd\n",
    "import numpy as np\n",
    "\n",
    "# Declarando un objeto de la calse pandas \n",
    "s = pd.Series([1, 3, 5, np.nan, 6, 8])\n",
    "\n",
    "s"
   ]
  },
  {
   "cell_type": "code",
   "execution_count": 15,
   "metadata": {},
   "outputs": [
    {
     "data": {
      "text/plain": [
       "DatetimeIndex(['2020-01-01', '2020-01-02', '2020-01-03', '2020-01-04',\n",
       "               '2020-01-05', '2020-01-06'],\n",
       "              dtype='datetime64[ns]', freq='D')"
      ]
     },
     "execution_count": 15,
     "metadata": {},
     "output_type": "execute_result"
    }
   ],
   "source": [
    "# pd.date_range(): evuelve una frecuencia fija DatetimeIndex\n",
    "\n",
    "dates = pd.date_range('20200101', periods = 6)\n",
    "\n",
    "dates"
   ]
  },
  {
   "cell_type": "code",
   "execution_count": 18,
   "metadata": {},
   "outputs": [
    {
     "data": {
      "text/html": [
       "<div>\n",
       "<style scoped>\n",
       "    .dataframe tbody tr th:only-of-type {\n",
       "        vertical-align: middle;\n",
       "    }\n",
       "\n",
       "    .dataframe tbody tr th {\n",
       "        vertical-align: top;\n",
       "    }\n",
       "\n",
       "    .dataframe thead th {\n",
       "        text-align: right;\n",
       "    }\n",
       "</style>\n",
       "<table border=\"1\" class=\"dataframe\">\n",
       "  <thead>\n",
       "    <tr style=\"text-align: right;\">\n",
       "      <th></th>\n",
       "      <th>A</th>\n",
       "      <th>B</th>\n",
       "      <th>C</th>\n",
       "      <th>D</th>\n",
       "    </tr>\n",
       "  </thead>\n",
       "  <tbody>\n",
       "    <tr>\n",
       "      <th>2020-01-01</th>\n",
       "      <td>-1.301049</td>\n",
       "      <td>1.200909</td>\n",
       "      <td>-1.206538</td>\n",
       "      <td>-0.190326</td>\n",
       "    </tr>\n",
       "    <tr>\n",
       "      <th>2020-01-02</th>\n",
       "      <td>1.441891</td>\n",
       "      <td>-0.670338</td>\n",
       "      <td>-0.480695</td>\n",
       "      <td>2.324189</td>\n",
       "    </tr>\n",
       "    <tr>\n",
       "      <th>2020-01-03</th>\n",
       "      <td>2.094697</td>\n",
       "      <td>-1.630105</td>\n",
       "      <td>1.049553</td>\n",
       "      <td>0.816077</td>\n",
       "    </tr>\n",
       "    <tr>\n",
       "      <th>2020-01-04</th>\n",
       "      <td>-0.312574</td>\n",
       "      <td>-0.191367</td>\n",
       "      <td>-0.425907</td>\n",
       "      <td>1.487474</td>\n",
       "    </tr>\n",
       "    <tr>\n",
       "      <th>2020-01-05</th>\n",
       "      <td>-1.334538</td>\n",
       "      <td>1.317744</td>\n",
       "      <td>-1.553607</td>\n",
       "      <td>0.980485</td>\n",
       "    </tr>\n",
       "    <tr>\n",
       "      <th>2020-01-06</th>\n",
       "      <td>0.229658</td>\n",
       "      <td>-1.290763</td>\n",
       "      <td>-0.700799</td>\n",
       "      <td>-0.428626</td>\n",
       "    </tr>\n",
       "  </tbody>\n",
       "</table>\n",
       "</div>"
      ],
      "text/plain": [
       "                   A         B         C         D\n",
       "2020-01-01 -1.301049  1.200909 -1.206538 -0.190326\n",
       "2020-01-02  1.441891 -0.670338 -0.480695  2.324189\n",
       "2020-01-03  2.094697 -1.630105  1.049553  0.816077\n",
       "2020-01-04 -0.312574 -0.191367 -0.425907  1.487474\n",
       "2020-01-05 -1.334538  1.317744 -1.553607  0.980485\n",
       "2020-01-06  0.229658 -1.290763 -0.700799 -0.428626"
      ]
     },
     "execution_count": 18,
     "metadata": {},
     "output_type": "execute_result"
    }
   ],
   "source": [
    "# Datos tabulares bidimensionales, de tamaño variable y potencialmente heterogéneos.\n",
    "\n",
    "# La estructura de datos también contiene ejes etiquetados (filas y columnas). \n",
    "# Las operaciones aritméticas se alinean en las etiquetas de fila y columna.\n",
    "# Puede considerarse como un contenedor tipo dict para objetos de la serie.\n",
    "# La estructura de datos primaria de los pandas.\n",
    "\n",
    "df = pd.DataFrame(np.random.randn(6, 4), index = dates, columns = list('ABCD'))\n",
    "\n",
    "df"
   ]
  },
  {
   "cell_type": "code",
   "execution_count": 29,
   "metadata": {},
   "outputs": [
    {
     "data": {
      "text/html": [
       "<div>\n",
       "<style scoped>\n",
       "    .dataframe tbody tr th:only-of-type {\n",
       "        vertical-align: middle;\n",
       "    }\n",
       "\n",
       "    .dataframe tbody tr th {\n",
       "        vertical-align: top;\n",
       "    }\n",
       "\n",
       "    .dataframe thead th {\n",
       "        text-align: right;\n",
       "    }\n",
       "</style>\n",
       "<table border=\"1\" class=\"dataframe\">\n",
       "  <thead>\n",
       "    <tr style=\"text-align: right;\">\n",
       "      <th></th>\n",
       "      <th>A</th>\n",
       "      <th>B</th>\n",
       "      <th>C</th>\n",
       "      <th>D</th>\n",
       "      <th>E</th>\n",
       "      <th>F</th>\n",
       "    </tr>\n",
       "  </thead>\n",
       "  <tbody>\n",
       "    <tr>\n",
       "      <th>0</th>\n",
       "      <td>1.0</td>\n",
       "      <td>2020-01-02</td>\n",
       "      <td>1.0</td>\n",
       "      <td>3</td>\n",
       "      <td>aprobado</td>\n",
       "      <td>completado</td>\n",
       "    </tr>\n",
       "    <tr>\n",
       "      <th>1</th>\n",
       "      <td>1.0</td>\n",
       "      <td>2020-01-02</td>\n",
       "      <td>1.0</td>\n",
       "      <td>3</td>\n",
       "      <td>rechazado</td>\n",
       "      <td>completado</td>\n",
       "    </tr>\n",
       "    <tr>\n",
       "      <th>2</th>\n",
       "      <td>1.0</td>\n",
       "      <td>2020-01-02</td>\n",
       "      <td>1.0</td>\n",
       "      <td>3</td>\n",
       "      <td>aprobado</td>\n",
       "      <td>completado</td>\n",
       "    </tr>\n",
       "    <tr>\n",
       "      <th>3</th>\n",
       "      <td>1.0</td>\n",
       "      <td>2020-01-02</td>\n",
       "      <td>1.0</td>\n",
       "      <td>3</td>\n",
       "      <td>rechazado</td>\n",
       "      <td>completado</td>\n",
       "    </tr>\n",
       "  </tbody>\n",
       "</table>\n",
       "</div>"
      ],
      "text/plain": [
       "     A          B    C  D          E           F\n",
       "0  1.0 2020-01-02  1.0  3   aprobado  completado\n",
       "1  1.0 2020-01-02  1.0  3  rechazado  completado\n",
       "2  1.0 2020-01-02  1.0  3   aprobado  completado\n",
       "3  1.0 2020-01-02  1.0  3  rechazado  completado"
      ]
     },
     "execution_count": 29,
     "metadata": {},
     "output_type": "execute_result"
    }
   ],
   "source": [
    "# Datos tabulares bidimensionales, de tamaño variable y potencialmente heterogéneos.\n",
    "# El sisguiente es un ejemplo de un dataFrame con tipos de datos variados\n",
    "\n",
    "df2 = pd.DataFrame({'A': 1.,\n",
    "                    'B':pd.Timestamp('20200102'),\n",
    "                    'C':pd.Series(1, index = list(range(4)), dtype = 'float32'),\n",
    "                    'D':np.array([3] * 4, dtype = 'int32'),\n",
    "                    'E':pd.Categorical([\"aprobado\", \"rechazado\", \"aprobado\", \"rechazado\"]),\n",
    "                    'F':'completado'})\n",
    "df2"
   ]
  },
  {
   "cell_type": "code",
   "execution_count": 30,
   "metadata": {},
   "outputs": [
    {
     "data": {
      "text/plain": [
       "DatetimeIndex(['2020-01-01', '2020-01-02', '2020-01-03', '2020-01-04',\n",
       "               '2020-01-05', '2020-01-06'],\n",
       "              dtype='datetime64[ns]', freq='D')"
      ]
     },
     "execution_count": 30,
     "metadata": {},
     "output_type": "execute_result"
    }
   ],
   "source": [
    "# A continuación se muestran diversas funciones útiles para acceder a las características de un DataFrame\n",
    "\n",
    "df.index"
   ]
  },
  {
   "cell_type": "code",
   "execution_count": 32,
   "metadata": {},
   "outputs": [
    {
     "data": {
      "text/plain": [
       "Index(['A', 'B', 'C', 'D'], dtype='object')"
      ]
     },
     "execution_count": 32,
     "metadata": {},
     "output_type": "execute_result"
    }
   ],
   "source": [
    "# Las etiquetas de columna del DataFrame.\n",
    "\n",
    "df.columns\n"
   ]
  },
  {
   "cell_type": "code",
   "execution_count": 33,
   "metadata": {},
   "outputs": [
    {
     "data": {
      "text/plain": [
       "array([[-1.30104869,  1.20090941, -1.20653846, -0.1903258 ],\n",
       "       [ 1.44189085, -0.67033834, -0.48069479,  2.32418857],\n",
       "       [ 2.09469668, -1.63010476,  1.04955349,  0.8160767 ],\n",
       "       [-0.31257427, -0.19136707, -0.42590746,  1.4874738 ],\n",
       "       [-1.33453784,  1.31774364, -1.55360725,  0.98048536],\n",
       "       [ 0.22965835, -1.29076315, -0.70079928, -0.42862604]])"
      ]
     },
     "execution_count": 33,
     "metadata": {},
     "output_type": "execute_result"
    }
   ],
   "source": [
    "# Solo se devolverán los valores en el DataFrame, se eliminarán las etiquetas de los ejes.\n",
    "\n",
    "df.values\n"
   ]
  },
  {
   "cell_type": "code",
   "execution_count": 35,
   "metadata": {},
   "outputs": [
    {
     "data": {
      "text/html": [
       "<div>\n",
       "<style scoped>\n",
       "    .dataframe tbody tr th:only-of-type {\n",
       "        vertical-align: middle;\n",
       "    }\n",
       "\n",
       "    .dataframe tbody tr th {\n",
       "        vertical-align: top;\n",
       "    }\n",
       "\n",
       "    .dataframe thead th {\n",
       "        text-align: right;\n",
       "    }\n",
       "</style>\n",
       "<table border=\"1\" class=\"dataframe\">\n",
       "  <thead>\n",
       "    <tr style=\"text-align: right;\">\n",
       "      <th></th>\n",
       "      <th>A</th>\n",
       "      <th>B</th>\n",
       "      <th>C</th>\n",
       "      <th>D</th>\n",
       "    </tr>\n",
       "  </thead>\n",
       "  <tbody>\n",
       "    <tr>\n",
       "      <th>count</th>\n",
       "      <td>6.000000</td>\n",
       "      <td>6.000000</td>\n",
       "      <td>6.000000</td>\n",
       "      <td>6.000000</td>\n",
       "    </tr>\n",
       "    <tr>\n",
       "      <th>mean</th>\n",
       "      <td>0.136348</td>\n",
       "      <td>-0.210653</td>\n",
       "      <td>-0.552999</td>\n",
       "      <td>0.831545</td>\n",
       "    </tr>\n",
       "    <tr>\n",
       "      <th>std</th>\n",
       "      <td>1.412758</td>\n",
       "      <td>1.242712</td>\n",
       "      <td>0.898858</td>\n",
       "      <td>1.030815</td>\n",
       "    </tr>\n",
       "    <tr>\n",
       "      <th>min</th>\n",
       "      <td>-1.334538</td>\n",
       "      <td>-1.630105</td>\n",
       "      <td>-1.553607</td>\n",
       "      <td>-0.428626</td>\n",
       "    </tr>\n",
       "    <tr>\n",
       "      <th>25%</th>\n",
       "      <td>-1.053930</td>\n",
       "      <td>-1.135657</td>\n",
       "      <td>-1.080104</td>\n",
       "      <td>0.061275</td>\n",
       "    </tr>\n",
       "    <tr>\n",
       "      <th>50%</th>\n",
       "      <td>-0.041458</td>\n",
       "      <td>-0.430853</td>\n",
       "      <td>-0.590747</td>\n",
       "      <td>0.898281</td>\n",
       "    </tr>\n",
       "    <tr>\n",
       "      <th>75%</th>\n",
       "      <td>1.138833</td>\n",
       "      <td>0.852840</td>\n",
       "      <td>-0.439604</td>\n",
       "      <td>1.360727</td>\n",
       "    </tr>\n",
       "    <tr>\n",
       "      <th>max</th>\n",
       "      <td>2.094697</td>\n",
       "      <td>1.317744</td>\n",
       "      <td>1.049553</td>\n",
       "      <td>2.324189</td>\n",
       "    </tr>\n",
       "  </tbody>\n",
       "</table>\n",
       "</div>"
      ],
      "text/plain": [
       "              A         B         C         D\n",
       "count  6.000000  6.000000  6.000000  6.000000\n",
       "mean   0.136348 -0.210653 -0.552999  0.831545\n",
       "std    1.412758  1.242712  0.898858  1.030815\n",
       "min   -1.334538 -1.630105 -1.553607 -0.428626\n",
       "25%   -1.053930 -1.135657 -1.080104  0.061275\n",
       "50%   -0.041458 -0.430853 -0.590747  0.898281\n",
       "75%    1.138833  0.852840 -0.439604  1.360727\n",
       "max    2.094697  1.317744  1.049553  2.324189"
      ]
     },
     "execution_count": 35,
     "metadata": {},
     "output_type": "execute_result"
    }
   ],
   "source": [
    "# Generar estadísticas descriptivas.\n",
    "# Las estadísticas descriptivas incluyen aquellas que resumen la tendencia central, \n",
    "# la dispersión y la forma de la distribución de un conjunto de datos, excluyendo los NaNvalores.\n",
    "\n",
    "df.describe()\n"
   ]
  },
  {
   "cell_type": "code",
   "execution_count": 36,
   "metadata": {},
   "outputs": [
    {
     "data": {
      "text/html": [
       "<div>\n",
       "<style scoped>\n",
       "    .dataframe tbody tr th:only-of-type {\n",
       "        vertical-align: middle;\n",
       "    }\n",
       "\n",
       "    .dataframe tbody tr th {\n",
       "        vertical-align: top;\n",
       "    }\n",
       "\n",
       "    .dataframe thead th {\n",
       "        text-align: right;\n",
       "    }\n",
       "</style>\n",
       "<table border=\"1\" class=\"dataframe\">\n",
       "  <thead>\n",
       "    <tr style=\"text-align: right;\">\n",
       "      <th></th>\n",
       "      <th>2020-01-01</th>\n",
       "      <th>2020-01-02</th>\n",
       "      <th>2020-01-03</th>\n",
       "      <th>2020-01-04</th>\n",
       "      <th>2020-01-05</th>\n",
       "      <th>2020-01-06</th>\n",
       "    </tr>\n",
       "  </thead>\n",
       "  <tbody>\n",
       "    <tr>\n",
       "      <th>A</th>\n",
       "      <td>-1.301049</td>\n",
       "      <td>1.441891</td>\n",
       "      <td>2.094697</td>\n",
       "      <td>-0.312574</td>\n",
       "      <td>-1.334538</td>\n",
       "      <td>0.229658</td>\n",
       "    </tr>\n",
       "    <tr>\n",
       "      <th>B</th>\n",
       "      <td>1.200909</td>\n",
       "      <td>-0.670338</td>\n",
       "      <td>-1.630105</td>\n",
       "      <td>-0.191367</td>\n",
       "      <td>1.317744</td>\n",
       "      <td>-1.290763</td>\n",
       "    </tr>\n",
       "    <tr>\n",
       "      <th>C</th>\n",
       "      <td>-1.206538</td>\n",
       "      <td>-0.480695</td>\n",
       "      <td>1.049553</td>\n",
       "      <td>-0.425907</td>\n",
       "      <td>-1.553607</td>\n",
       "      <td>-0.700799</td>\n",
       "    </tr>\n",
       "    <tr>\n",
       "      <th>D</th>\n",
       "      <td>-0.190326</td>\n",
       "      <td>2.324189</td>\n",
       "      <td>0.816077</td>\n",
       "      <td>1.487474</td>\n",
       "      <td>0.980485</td>\n",
       "      <td>-0.428626</td>\n",
       "    </tr>\n",
       "  </tbody>\n",
       "</table>\n",
       "</div>"
      ],
      "text/plain": [
       "   2020-01-01  2020-01-02  2020-01-03  2020-01-04  2020-01-05  2020-01-06\n",
       "A   -1.301049    1.441891    2.094697   -0.312574   -1.334538    0.229658\n",
       "B    1.200909   -0.670338   -1.630105   -0.191367    1.317744   -1.290763\n",
       "C   -1.206538   -0.480695    1.049553   -0.425907   -1.553607   -0.700799\n",
       "D   -0.190326    2.324189    0.816077    1.487474    0.980485   -0.428626"
      ]
     },
     "execution_count": 36,
     "metadata": {},
     "output_type": "execute_result"
    }
   ],
   "source": [
    "# Realizar la transposición del DataFrame y ordenar son algunas de las funcionalidades más recurrentes:\n",
    "\n",
    "df.T"
   ]
  },
  {
   "cell_type": "code",
   "execution_count": 37,
   "metadata": {},
   "outputs": [
    {
     "data": {
      "text/html": [
       "<div>\n",
       "<style scoped>\n",
       "    .dataframe tbody tr th:only-of-type {\n",
       "        vertical-align: middle;\n",
       "    }\n",
       "\n",
       "    .dataframe tbody tr th {\n",
       "        vertical-align: top;\n",
       "    }\n",
       "\n",
       "    .dataframe thead th {\n",
       "        text-align: right;\n",
       "    }\n",
       "</style>\n",
       "<table border=\"1\" class=\"dataframe\">\n",
       "  <thead>\n",
       "    <tr style=\"text-align: right;\">\n",
       "      <th></th>\n",
       "      <th>D</th>\n",
       "      <th>C</th>\n",
       "      <th>B</th>\n",
       "      <th>A</th>\n",
       "    </tr>\n",
       "  </thead>\n",
       "  <tbody>\n",
       "    <tr>\n",
       "      <th>2020-01-01</th>\n",
       "      <td>-0.190326</td>\n",
       "      <td>-1.206538</td>\n",
       "      <td>1.200909</td>\n",
       "      <td>-1.301049</td>\n",
       "    </tr>\n",
       "    <tr>\n",
       "      <th>2020-01-02</th>\n",
       "      <td>2.324189</td>\n",
       "      <td>-0.480695</td>\n",
       "      <td>-0.670338</td>\n",
       "      <td>1.441891</td>\n",
       "    </tr>\n",
       "    <tr>\n",
       "      <th>2020-01-03</th>\n",
       "      <td>0.816077</td>\n",
       "      <td>1.049553</td>\n",
       "      <td>-1.630105</td>\n",
       "      <td>2.094697</td>\n",
       "    </tr>\n",
       "    <tr>\n",
       "      <th>2020-01-04</th>\n",
       "      <td>1.487474</td>\n",
       "      <td>-0.425907</td>\n",
       "      <td>-0.191367</td>\n",
       "      <td>-0.312574</td>\n",
       "    </tr>\n",
       "    <tr>\n",
       "      <th>2020-01-05</th>\n",
       "      <td>0.980485</td>\n",
       "      <td>-1.553607</td>\n",
       "      <td>1.317744</td>\n",
       "      <td>-1.334538</td>\n",
       "    </tr>\n",
       "    <tr>\n",
       "      <th>2020-01-06</th>\n",
       "      <td>-0.428626</td>\n",
       "      <td>-0.700799</td>\n",
       "      <td>-1.290763</td>\n",
       "      <td>0.229658</td>\n",
       "    </tr>\n",
       "  </tbody>\n",
       "</table>\n",
       "</div>"
      ],
      "text/plain": [
       "                   D         C         B         A\n",
       "2020-01-01 -0.190326 -1.206538  1.200909 -1.301049\n",
       "2020-01-02  2.324189 -0.480695 -0.670338  1.441891\n",
       "2020-01-03  0.816077  1.049553 -1.630105  2.094697\n",
       "2020-01-04  1.487474 -0.425907 -0.191367 -0.312574\n",
       "2020-01-05  0.980485 -1.553607  1.317744 -1.334538\n",
       "2020-01-06 -0.428626 -0.700799 -1.290763  0.229658"
      ]
     },
     "execution_count": 37,
     "metadata": {},
     "output_type": "execute_result"
    }
   ],
   "source": [
    "# Ordenar objetos por etiquetas (a lo largo de un eje).\n",
    "\n",
    "df.sort_index(axis = 1, ascending = False)\n"
   ]
  },
  {
   "cell_type": "code",
   "execution_count": 39,
   "metadata": {},
   "outputs": [
    {
     "data": {
      "text/html": [
       "<div>\n",
       "<style scoped>\n",
       "    .dataframe tbody tr th:only-of-type {\n",
       "        vertical-align: middle;\n",
       "    }\n",
       "\n",
       "    .dataframe tbody tr th {\n",
       "        vertical-align: top;\n",
       "    }\n",
       "\n",
       "    .dataframe thead th {\n",
       "        text-align: right;\n",
       "    }\n",
       "</style>\n",
       "<table border=\"1\" class=\"dataframe\">\n",
       "  <thead>\n",
       "    <tr style=\"text-align: right;\">\n",
       "      <th></th>\n",
       "      <th>A</th>\n",
       "      <th>B</th>\n",
       "      <th>C</th>\n",
       "      <th>D</th>\n",
       "    </tr>\n",
       "  </thead>\n",
       "  <tbody>\n",
       "    <tr>\n",
       "      <th>2020-01-01</th>\n",
       "      <td>-1.301049</td>\n",
       "      <td>1.200909</td>\n",
       "      <td>-1.206538</td>\n",
       "      <td>-0.190326</td>\n",
       "    </tr>\n",
       "    <tr>\n",
       "      <th>2020-01-02</th>\n",
       "      <td>1.441891</td>\n",
       "      <td>-0.670338</td>\n",
       "      <td>-0.480695</td>\n",
       "      <td>2.324189</td>\n",
       "    </tr>\n",
       "    <tr>\n",
       "      <th>2020-01-03</th>\n",
       "      <td>2.094697</td>\n",
       "      <td>-1.630105</td>\n",
       "      <td>1.049553</td>\n",
       "      <td>0.816077</td>\n",
       "    </tr>\n",
       "    <tr>\n",
       "      <th>2020-01-04</th>\n",
       "      <td>-0.312574</td>\n",
       "      <td>-0.191367</td>\n",
       "      <td>-0.425907</td>\n",
       "      <td>1.487474</td>\n",
       "    </tr>\n",
       "    <tr>\n",
       "      <th>2020-01-05</th>\n",
       "      <td>-1.334538</td>\n",
       "      <td>1.317744</td>\n",
       "      <td>-1.553607</td>\n",
       "      <td>0.980485</td>\n",
       "    </tr>\n",
       "  </tbody>\n",
       "</table>\n",
       "</div>"
      ],
      "text/plain": [
       "                   A         B         C         D\n",
       "2020-01-01 -1.301049  1.200909 -1.206538 -0.190326\n",
       "2020-01-02  1.441891 -0.670338 -0.480695  2.324189\n",
       "2020-01-03  2.094697 -1.630105  1.049553  0.816077\n",
       "2020-01-04 -0.312574 -0.191367 -0.425907  1.487474\n",
       "2020-01-05 -1.334538  1.317744 -1.553607  0.980485"
      ]
     },
     "execution_count": 39,
     "metadata": {},
     "output_type": "execute_result"
    }
   ],
   "source": [
    "# El acceso a los datos guarda similtudes con lo visto con la librería Numpy. Las funciones head() y tail()\n",
    "# nos proporcionan una visión de los datos de cabeza y del final de la estructura.\n",
    "\n",
    "df.head()\n"
   ]
  },
  {
   "cell_type": "code",
   "execution_count": 40,
   "metadata": {},
   "outputs": [
    {
     "data": {
      "text/html": [
       "<div>\n",
       "<style scoped>\n",
       "    .dataframe tbody tr th:only-of-type {\n",
       "        vertical-align: middle;\n",
       "    }\n",
       "\n",
       "    .dataframe tbody tr th {\n",
       "        vertical-align: top;\n",
       "    }\n",
       "\n",
       "    .dataframe thead th {\n",
       "        text-align: right;\n",
       "    }\n",
       "</style>\n",
       "<table border=\"1\" class=\"dataframe\">\n",
       "  <thead>\n",
       "    <tr style=\"text-align: right;\">\n",
       "      <th></th>\n",
       "      <th>A</th>\n",
       "      <th>B</th>\n",
       "      <th>C</th>\n",
       "      <th>D</th>\n",
       "    </tr>\n",
       "  </thead>\n",
       "  <tbody>\n",
       "    <tr>\n",
       "      <th>2020-01-04</th>\n",
       "      <td>-0.312574</td>\n",
       "      <td>-0.191367</td>\n",
       "      <td>-0.425907</td>\n",
       "      <td>1.487474</td>\n",
       "    </tr>\n",
       "    <tr>\n",
       "      <th>2020-01-05</th>\n",
       "      <td>-1.334538</td>\n",
       "      <td>1.317744</td>\n",
       "      <td>-1.553607</td>\n",
       "      <td>0.980485</td>\n",
       "    </tr>\n",
       "    <tr>\n",
       "      <th>2020-01-06</th>\n",
       "      <td>0.229658</td>\n",
       "      <td>-1.290763</td>\n",
       "      <td>-0.700799</td>\n",
       "      <td>-0.428626</td>\n",
       "    </tr>\n",
       "  </tbody>\n",
       "</table>\n",
       "</div>"
      ],
      "text/plain": [
       "                   A         B         C         D\n",
       "2020-01-04 -0.312574 -0.191367 -0.425907  1.487474\n",
       "2020-01-05 -1.334538  1.317744 -1.553607  0.980485\n",
       "2020-01-06  0.229658 -1.290763 -0.700799 -0.428626"
      ]
     },
     "execution_count": 40,
     "metadata": {},
     "output_type": "execute_result"
    }
   ],
   "source": [
    "df.tail(3)"
   ]
  },
  {
   "cell_type": "code",
   "execution_count": 41,
   "metadata": {},
   "outputs": [
    {
     "data": {
      "text/plain": [
       "2020-01-01   -1.301049\n",
       "2020-01-02    1.441891\n",
       "2020-01-03    2.094697\n",
       "2020-01-04   -0.312574\n",
       "2020-01-05   -1.334538\n",
       "2020-01-06    0.229658\n",
       "Freq: D, Name: A, dtype: float64"
      ]
     },
     "execution_count": 41,
     "metadata": {},
     "output_type": "execute_result"
    }
   ],
   "source": [
    "# Para acceder a los valores individuales por columna, fila,\n",
    "# rango de columnas o filas hay varias opciones disponibles que se muestren\n",
    "# en los ejemplos siguientes.\n",
    "\n",
    "df['A']"
   ]
  },
  {
   "cell_type": "code",
   "execution_count": 42,
   "metadata": {},
   "outputs": [
    {
     "data": {
      "text/html": [
       "<div>\n",
       "<style scoped>\n",
       "    .dataframe tbody tr th:only-of-type {\n",
       "        vertical-align: middle;\n",
       "    }\n",
       "\n",
       "    .dataframe tbody tr th {\n",
       "        vertical-align: top;\n",
       "    }\n",
       "\n",
       "    .dataframe thead th {\n",
       "        text-align: right;\n",
       "    }\n",
       "</style>\n",
       "<table border=\"1\" class=\"dataframe\">\n",
       "  <thead>\n",
       "    <tr style=\"text-align: right;\">\n",
       "      <th></th>\n",
       "      <th>A</th>\n",
       "      <th>B</th>\n",
       "      <th>C</th>\n",
       "      <th>D</th>\n",
       "    </tr>\n",
       "  </thead>\n",
       "  <tbody>\n",
       "    <tr>\n",
       "      <th>2020-01-01</th>\n",
       "      <td>-1.301049</td>\n",
       "      <td>1.200909</td>\n",
       "      <td>-1.206538</td>\n",
       "      <td>-0.190326</td>\n",
       "    </tr>\n",
       "    <tr>\n",
       "      <th>2020-01-02</th>\n",
       "      <td>1.441891</td>\n",
       "      <td>-0.670338</td>\n",
       "      <td>-0.480695</td>\n",
       "      <td>2.324189</td>\n",
       "    </tr>\n",
       "    <tr>\n",
       "      <th>2020-01-03</th>\n",
       "      <td>2.094697</td>\n",
       "      <td>-1.630105</td>\n",
       "      <td>1.049553</td>\n",
       "      <td>0.816077</td>\n",
       "    </tr>\n",
       "  </tbody>\n",
       "</table>\n",
       "</div>"
      ],
      "text/plain": [
       "                   A         B         C         D\n",
       "2020-01-01 -1.301049  1.200909 -1.206538 -0.190326\n",
       "2020-01-02  1.441891 -0.670338 -0.480695  2.324189\n",
       "2020-01-03  2.094697 -1.630105  1.049553  0.816077"
      ]
     },
     "execution_count": 42,
     "metadata": {},
     "output_type": "execute_result"
    }
   ],
   "source": [
    "# Especificando el inicio y el fin de las filas\n",
    "\n",
    "df[0:3]\n"
   ]
  },
  {
   "cell_type": "code",
   "execution_count": 43,
   "metadata": {},
   "outputs": [
    {
     "data": {
      "text/html": [
       "<div>\n",
       "<style scoped>\n",
       "    .dataframe tbody tr th:only-of-type {\n",
       "        vertical-align: middle;\n",
       "    }\n",
       "\n",
       "    .dataframe tbody tr th {\n",
       "        vertical-align: top;\n",
       "    }\n",
       "\n",
       "    .dataframe thead th {\n",
       "        text-align: right;\n",
       "    }\n",
       "</style>\n",
       "<table border=\"1\" class=\"dataframe\">\n",
       "  <thead>\n",
       "    <tr style=\"text-align: right;\">\n",
       "      <th></th>\n",
       "      <th>A</th>\n",
       "      <th>B</th>\n",
       "      <th>C</th>\n",
       "      <th>D</th>\n",
       "    </tr>\n",
       "  </thead>\n",
       "  <tbody>\n",
       "    <tr>\n",
       "      <th>2020-01-02</th>\n",
       "      <td>1.441891</td>\n",
       "      <td>-0.670338</td>\n",
       "      <td>-0.480695</td>\n",
       "      <td>2.324189</td>\n",
       "    </tr>\n",
       "    <tr>\n",
       "      <th>2020-01-03</th>\n",
       "      <td>2.094697</td>\n",
       "      <td>-1.630105</td>\n",
       "      <td>1.049553</td>\n",
       "      <td>0.816077</td>\n",
       "    </tr>\n",
       "    <tr>\n",
       "      <th>2020-01-04</th>\n",
       "      <td>-0.312574</td>\n",
       "      <td>-0.191367</td>\n",
       "      <td>-0.425907</td>\n",
       "      <td>1.487474</td>\n",
       "    </tr>\n",
       "  </tbody>\n",
       "</table>\n",
       "</div>"
      ],
      "text/plain": [
       "                   A         B         C         D\n",
       "2020-01-02  1.441891 -0.670338 -0.480695  2.324189\n",
       "2020-01-03  2.094697 -1.630105  1.049553  0.816077\n",
       "2020-01-04 -0.312574 -0.191367 -0.425907  1.487474"
      ]
     },
     "execution_count": 43,
     "metadata": {},
     "output_type": "execute_result"
    }
   ],
   "source": [
    "# Especificando las finals y columnas acorde a los datos presentes dentro del arreglo \n",
    "\n",
    "df['20200102' : '20200104']"
   ]
  },
  {
   "cell_type": "code",
   "execution_count": 47,
   "metadata": {},
   "outputs": [],
   "source": [
    "# Si queremos realizar una selección a través del índice deberemos emplear la función .loc()\n",
    "\n",
    "df.loc(dates[1])\n"
   ]
  },
  {
   "cell_type": "code",
   "execution_count": null,
   "metadata": {},
   "outputs": [],
   "source": [
    "df.loc[:, 'A', 'B']"
   ]
  },
  {
   "cell_type": "code",
   "execution_count": 49,
   "metadata": {},
   "outputs": [
    {
     "data": {
      "text/html": [
       "<div>\n",
       "<style scoped>\n",
       "    .dataframe tbody tr th:only-of-type {\n",
       "        vertical-align: middle;\n",
       "    }\n",
       "\n",
       "    .dataframe tbody tr th {\n",
       "        vertical-align: top;\n",
       "    }\n",
       "\n",
       "    .dataframe thead th {\n",
       "        text-align: right;\n",
       "    }\n",
       "</style>\n",
       "<table border=\"1\" class=\"dataframe\">\n",
       "  <thead>\n",
       "    <tr style=\"text-align: right;\">\n",
       "      <th></th>\n",
       "      <th>A</th>\n",
       "      <th>B</th>\n",
       "      <th>C</th>\n",
       "      <th>D</th>\n",
       "    </tr>\n",
       "  </thead>\n",
       "  <tbody>\n",
       "    <tr>\n",
       "      <th>2020-01-02</th>\n",
       "      <td>1.441891</td>\n",
       "      <td>-0.670338</td>\n",
       "      <td>-0.480695</td>\n",
       "      <td>2.324189</td>\n",
       "    </tr>\n",
       "    <tr>\n",
       "      <th>2020-01-03</th>\n",
       "      <td>2.094697</td>\n",
       "      <td>-1.630105</td>\n",
       "      <td>1.049553</td>\n",
       "      <td>0.816077</td>\n",
       "    </tr>\n",
       "    <tr>\n",
       "      <th>2020-01-06</th>\n",
       "      <td>0.229658</td>\n",
       "      <td>-1.290763</td>\n",
       "      <td>-0.700799</td>\n",
       "      <td>-0.428626</td>\n",
       "    </tr>\n",
       "  </tbody>\n",
       "</table>\n",
       "</div>"
      ],
      "text/plain": [
       "                   A         B         C         D\n",
       "2020-01-02  1.441891 -0.670338 -0.480695  2.324189\n",
       "2020-01-03  2.094697 -1.630105  1.049553  0.816077\n",
       "2020-01-06  0.229658 -1.290763 -0.700799 -0.428626"
      ]
     },
     "execution_count": 49,
     "metadata": {},
     "output_type": "execute_result"
    }
   ],
   "source": [
    "# Tambíen tenemos la opción de filtrar y seleccionar únicamente los valores que\n",
    "# cumplan unadeterminada condición.\n",
    "\n",
    "df[df.A > 0]\n"
   ]
  },
  {
   "cell_type": "code",
   "execution_count": 51,
   "metadata": {},
   "outputs": [
    {
     "data": {
      "text/html": [
       "<div>\n",
       "<style scoped>\n",
       "    .dataframe tbody tr th:only-of-type {\n",
       "        vertical-align: middle;\n",
       "    }\n",
       "\n",
       "    .dataframe tbody tr th {\n",
       "        vertical-align: top;\n",
       "    }\n",
       "\n",
       "    .dataframe thead th {\n",
       "        text-align: right;\n",
       "    }\n",
       "</style>\n",
       "<table border=\"1\" class=\"dataframe\">\n",
       "  <thead>\n",
       "    <tr style=\"text-align: right;\">\n",
       "      <th></th>\n",
       "      <th>A</th>\n",
       "      <th>B</th>\n",
       "      <th>C</th>\n",
       "      <th>D</th>\n",
       "    </tr>\n",
       "  </thead>\n",
       "  <tbody>\n",
       "    <tr>\n",
       "      <th>2020-01-01</th>\n",
       "      <td>NaN</td>\n",
       "      <td>1.200909</td>\n",
       "      <td>NaN</td>\n",
       "      <td>NaN</td>\n",
       "    </tr>\n",
       "    <tr>\n",
       "      <th>2020-01-02</th>\n",
       "      <td>1.441891</td>\n",
       "      <td>NaN</td>\n",
       "      <td>NaN</td>\n",
       "      <td>2.324189</td>\n",
       "    </tr>\n",
       "    <tr>\n",
       "      <th>2020-01-03</th>\n",
       "      <td>2.094697</td>\n",
       "      <td>NaN</td>\n",
       "      <td>1.049553</td>\n",
       "      <td>0.816077</td>\n",
       "    </tr>\n",
       "    <tr>\n",
       "      <th>2020-01-04</th>\n",
       "      <td>NaN</td>\n",
       "      <td>NaN</td>\n",
       "      <td>NaN</td>\n",
       "      <td>1.487474</td>\n",
       "    </tr>\n",
       "    <tr>\n",
       "      <th>2020-01-05</th>\n",
       "      <td>NaN</td>\n",
       "      <td>1.317744</td>\n",
       "      <td>NaN</td>\n",
       "      <td>0.980485</td>\n",
       "    </tr>\n",
       "    <tr>\n",
       "      <th>2020-01-06</th>\n",
       "      <td>0.229658</td>\n",
       "      <td>NaN</td>\n",
       "      <td>NaN</td>\n",
       "      <td>NaN</td>\n",
       "    </tr>\n",
       "  </tbody>\n",
       "</table>\n",
       "</div>"
      ],
      "text/plain": [
       "                   A         B         C         D\n",
       "2020-01-01       NaN  1.200909       NaN       NaN\n",
       "2020-01-02  1.441891       NaN       NaN  2.324189\n",
       "2020-01-03  2.094697       NaN  1.049553  0.816077\n",
       "2020-01-04       NaN       NaN       NaN  1.487474\n",
       "2020-01-05       NaN  1.317744       NaN  0.980485\n",
       "2020-01-06  0.229658       NaN       NaN       NaN"
      ]
     },
     "execution_count": 51,
     "metadata": {},
     "output_type": "execute_result"
    }
   ],
   "source": [
    "df[df > 0]"
   ]
  },
  {
   "cell_type": "code",
   "execution_count": 62,
   "metadata": {},
   "outputs": [
    {
     "data": {
      "text/html": [
       "<div>\n",
       "<style scoped>\n",
       "    .dataframe tbody tr th:only-of-type {\n",
       "        vertical-align: middle;\n",
       "    }\n",
       "\n",
       "    .dataframe tbody tr th {\n",
       "        vertical-align: top;\n",
       "    }\n",
       "\n",
       "    .dataframe thead th {\n",
       "        text-align: right;\n",
       "    }\n",
       "</style>\n",
       "<table border=\"1\" class=\"dataframe\">\n",
       "  <thead>\n",
       "    <tr style=\"text-align: right;\">\n",
       "      <th></th>\n",
       "      <th>key</th>\n",
       "      <th>completado</th>\n",
       "    </tr>\n",
       "  </thead>\n",
       "  <tbody>\n",
       "    <tr>\n",
       "      <th>0</th>\n",
       "      <td>completado</td>\n",
       "      <td>1</td>\n",
       "    </tr>\n",
       "    <tr>\n",
       "      <th>1</th>\n",
       "      <td>completado</td>\n",
       "      <td>2</td>\n",
       "    </tr>\n",
       "  </tbody>\n",
       "</table>\n",
       "</div>"
      ],
      "text/plain": [
       "          key  completado\n",
       "0  completado           1\n",
       "1  completado           2"
      ]
     },
     "execution_count": 62,
     "metadata": {},
     "output_type": "execute_result"
    }
   ],
   "source": [
    "# Similar al lenguaje SQL podemos unir 2 DataFrames en este caso mediante la función join()\n",
    "\n",
    "left = pd.DataFrame({'key': ['completado', 'completado'], 'completado': [1, 2]})\n",
    "\n",
    "left"
   ]
  },
  {
   "cell_type": "code",
   "execution_count": 64,
   "metadata": {},
   "outputs": [
    {
     "data": {
      "text/html": [
       "<div>\n",
       "<style scoped>\n",
       "    .dataframe tbody tr th:only-of-type {\n",
       "        vertical-align: middle;\n",
       "    }\n",
       "\n",
       "    .dataframe tbody tr th {\n",
       "        vertical-align: top;\n",
       "    }\n",
       "\n",
       "    .dataframe thead th {\n",
       "        text-align: right;\n",
       "    }\n",
       "</style>\n",
       "<table border=\"1\" class=\"dataframe\">\n",
       "  <thead>\n",
       "    <tr style=\"text-align: right;\">\n",
       "      <th></th>\n",
       "      <th>key</th>\n",
       "      <th>rval</th>\n",
       "    </tr>\n",
       "  </thead>\n",
       "  <tbody>\n",
       "    <tr>\n",
       "      <th>0</th>\n",
       "      <td>completado</td>\n",
       "      <td>4</td>\n",
       "    </tr>\n",
       "    <tr>\n",
       "      <th>1</th>\n",
       "      <td>completado</td>\n",
       "      <td>5</td>\n",
       "    </tr>\n",
       "  </tbody>\n",
       "</table>\n",
       "</div>"
      ],
      "text/plain": [
       "          key  rval\n",
       "0  completado     4\n",
       "1  completado     5"
      ]
     },
     "execution_count": 64,
     "metadata": {},
     "output_type": "execute_result"
    }
   ],
   "source": [
    "right = pd.DataFrame({'key': ['completado', 'completado'], 'rval': [4, 5]})\n",
    ", ''\n",
    "right"
   ]
  },
  {
   "cell_type": "code",
   "execution_count": 67,
   "metadata": {},
   "outputs": [
    {
     "data": {
      "text/html": [
       "<div>\n",
       "<style scoped>\n",
       "    .dataframe tbody tr th:only-of-type {\n",
       "        vertical-align: middle;\n",
       "    }\n",
       "\n",
       "    .dataframe tbody tr th {\n",
       "        vertical-align: top;\n",
       "    }\n",
       "\n",
       "    .dataframe thead th {\n",
       "        text-align: right;\n",
       "    }\n",
       "</style>\n",
       "<table border=\"1\" class=\"dataframe\">\n",
       "  <thead>\n",
       "    <tr style=\"text-align: right;\">\n",
       "      <th></th>\n",
       "      <th>key</th>\n",
       "      <th>completado</th>\n",
       "      <th>rval</th>\n",
       "    </tr>\n",
       "  </thead>\n",
       "  <tbody>\n",
       "    <tr>\n",
       "      <th>0</th>\n",
       "      <td>completado</td>\n",
       "      <td>1</td>\n",
       "      <td>4</td>\n",
       "    </tr>\n",
       "    <tr>\n",
       "      <th>1</th>\n",
       "      <td>completado</td>\n",
       "      <td>1</td>\n",
       "      <td>5</td>\n",
       "    </tr>\n",
       "    <tr>\n",
       "      <th>2</th>\n",
       "      <td>completado</td>\n",
       "      <td>2</td>\n",
       "      <td>4</td>\n",
       "    </tr>\n",
       "    <tr>\n",
       "      <th>3</th>\n",
       "      <td>completado</td>\n",
       "      <td>2</td>\n",
       "      <td>5</td>\n",
       "    </tr>\n",
       "  </tbody>\n",
       "</table>\n",
       "</div>"
      ],
      "text/plain": [
       "          key  completado  rval\n",
       "0  completado           1     4\n",
       "1  completado           1     5\n",
       "2  completado           2     4\n",
       "3  completado           2     5"
      ]
     },
     "execution_count": 67,
     "metadata": {},
     "output_type": "execute_result"
    }
   ],
   "source": [
    "pd.merge(left, right, on = 'key')"
   ]
  },
  {
   "cell_type": "code",
   "execution_count": 70,
   "metadata": {},
   "outputs": [],
   "source": [
    "# También tenemos la posiblidad de ejecutar funciones de agrupación al estilo de SQL\n",
    "# como se muestra en el siguiente ejemplo\n",
    "\n",
    "df = pd.DataFrame({'A': ['completado', 'aceptado', 'completado', 'aceptado', 'completado', 'aceptado', 'completado', 'completado'],\n",
    "                   'B': ['uno', 'uno', 'dos', 'tres', 'dos', 'dos', 'uno', 'tres'],\n",
    "                   'C': np.random.randn(8),\n",
    "                   'D': np.random.randn(8)})"
   ]
  },
  {
   "cell_type": "code",
   "execution_count": 71,
   "metadata": {},
   "outputs": [
    {
     "data": {
      "text/html": [
       "<div>\n",
       "<style scoped>\n",
       "    .dataframe tbody tr th:only-of-type {\n",
       "        vertical-align: middle;\n",
       "    }\n",
       "\n",
       "    .dataframe tbody tr th {\n",
       "        vertical-align: top;\n",
       "    }\n",
       "\n",
       "    .dataframe thead th {\n",
       "        text-align: right;\n",
       "    }\n",
       "</style>\n",
       "<table border=\"1\" class=\"dataframe\">\n",
       "  <thead>\n",
       "    <tr style=\"text-align: right;\">\n",
       "      <th></th>\n",
       "      <th>A</th>\n",
       "      <th>B</th>\n",
       "      <th>C</th>\n",
       "      <th>D</th>\n",
       "    </tr>\n",
       "  </thead>\n",
       "  <tbody>\n",
       "    <tr>\n",
       "      <th>0</th>\n",
       "      <td>completado</td>\n",
       "      <td>uno</td>\n",
       "      <td>-0.131653</td>\n",
       "      <td>-0.716538</td>\n",
       "    </tr>\n",
       "    <tr>\n",
       "      <th>1</th>\n",
       "      <td>aceptado</td>\n",
       "      <td>uno</td>\n",
       "      <td>-0.557614</td>\n",
       "      <td>1.321956</td>\n",
       "    </tr>\n",
       "    <tr>\n",
       "      <th>2</th>\n",
       "      <td>completado</td>\n",
       "      <td>dos</td>\n",
       "      <td>0.209291</td>\n",
       "      <td>-0.385098</td>\n",
       "    </tr>\n",
       "    <tr>\n",
       "      <th>3</th>\n",
       "      <td>aceptado</td>\n",
       "      <td>tres</td>\n",
       "      <td>-1.310820</td>\n",
       "      <td>0.251172</td>\n",
       "    </tr>\n",
       "    <tr>\n",
       "      <th>4</th>\n",
       "      <td>completado</td>\n",
       "      <td>dos</td>\n",
       "      <td>0.800520</td>\n",
       "      <td>-0.388496</td>\n",
       "    </tr>\n",
       "    <tr>\n",
       "      <th>5</th>\n",
       "      <td>aceptado</td>\n",
       "      <td>dos</td>\n",
       "      <td>-0.167362</td>\n",
       "      <td>-0.933169</td>\n",
       "    </tr>\n",
       "    <tr>\n",
       "      <th>6</th>\n",
       "      <td>completado</td>\n",
       "      <td>uno</td>\n",
       "      <td>0.393326</td>\n",
       "      <td>-2.209292</td>\n",
       "    </tr>\n",
       "    <tr>\n",
       "      <th>7</th>\n",
       "      <td>completado</td>\n",
       "      <td>tres</td>\n",
       "      <td>0.217880</td>\n",
       "      <td>0.191239</td>\n",
       "    </tr>\n",
       "  </tbody>\n",
       "</table>\n",
       "</div>"
      ],
      "text/plain": [
       "            A     B         C         D\n",
       "0  completado   uno -0.131653 -0.716538\n",
       "1    aceptado   uno -0.557614  1.321956\n",
       "2  completado   dos  0.209291 -0.385098\n",
       "3    aceptado  tres -1.310820  0.251172\n",
       "4  completado   dos  0.800520 -0.388496\n",
       "5    aceptado   dos -0.167362 -0.933169\n",
       "6  completado   uno  0.393326 -2.209292\n",
       "7  completado  tres  0.217880  0.191239"
      ]
     },
     "execution_count": 71,
     "metadata": {},
     "output_type": "execute_result"
    }
   ],
   "source": [
    "df"
   ]
  },
  {
   "cell_type": "code",
   "execution_count": 73,
   "metadata": {},
   "outputs": [
    {
     "data": {
      "text/html": [
       "<div>\n",
       "<style scoped>\n",
       "    .dataframe tbody tr th:only-of-type {\n",
       "        vertical-align: middle;\n",
       "    }\n",
       "\n",
       "    .dataframe tbody tr th {\n",
       "        vertical-align: top;\n",
       "    }\n",
       "\n",
       "    .dataframe thead th {\n",
       "        text-align: right;\n",
       "    }\n",
       "</style>\n",
       "<table border=\"1\" class=\"dataframe\">\n",
       "  <thead>\n",
       "    <tr style=\"text-align: right;\">\n",
       "      <th></th>\n",
       "      <th>C</th>\n",
       "      <th>D</th>\n",
       "    </tr>\n",
       "    <tr>\n",
       "      <th>A</th>\n",
       "      <th></th>\n",
       "      <th></th>\n",
       "    </tr>\n",
       "  </thead>\n",
       "  <tbody>\n",
       "    <tr>\n",
       "      <th>aceptado</th>\n",
       "      <td>-2.035796</td>\n",
       "      <td>0.639960</td>\n",
       "    </tr>\n",
       "    <tr>\n",
       "      <th>completado</th>\n",
       "      <td>1.489364</td>\n",
       "      <td>-3.508184</td>\n",
       "    </tr>\n",
       "  </tbody>\n",
       "</table>\n",
       "</div>"
      ],
      "text/plain": [
       "                   C         D\n",
       "A                             \n",
       "aceptado   -2.035796  0.639960\n",
       "completado  1.489364 -3.508184"
      ]
     },
     "execution_count": 73,
     "metadata": {},
     "output_type": "execute_result"
    }
   ],
   "source": [
    "# Agrupe DataFrame usando un mapeador o por una serie de columnas.\n",
    "\n",
    "# Una operación groupby implica una combinación de dividir el objeto, aplicar una función y \n",
    "# combinar los resultados. Esto se puede usar para agrupar grandes cantidades de datos \n",
    "# y operaciones de cálculo en estos grupos.\n",
    "\n",
    "df.groupby('A').sum()"
   ]
  },
  {
   "cell_type": "code",
   "execution_count": null,
   "metadata": {},
   "outputs": [],
   "source": []
  }
 ],
 "metadata": {
  "kernelspec": {
   "display_name": "Python 3",
   "language": "python",
   "name": "python3"
  },
  "language_info": {
   "codemirror_mode": {
    "name": "ipython",
    "version": 3
   },
   "file_extension": ".py",
   "mimetype": "text/x-python",
   "name": "python",
   "nbconvert_exporter": "python",
   "pygments_lexer": "ipython3",
   "version": "3.7.6"
  }
 },
 "nbformat": 4,
 "nbformat_minor": 4
}
