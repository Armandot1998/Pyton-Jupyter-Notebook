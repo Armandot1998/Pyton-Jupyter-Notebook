{
  "nbformat": 4,
  "nbformat_minor": 0,
  "metadata": {
    "colab": {
      "name": "Clase1IA.ipynb",
      "provenance": [],
      "collapsed_sections": [],
      "authorship_tag": "ABX9TyPSHEYeBHfnuUNdiGT0WFEu",
      "include_colab_link": true
    },
    "kernelspec": {
      "name": "python3",
      "display_name": "Python 3"
    }
  },
  "cells": [
    {
      "cell_type": "markdown",
      "metadata": {
        "id": "view-in-github",
        "colab_type": "text"
      },
      "source": [
        "<a href=\"https://colab.research.google.com/github/Armandot1998/Pyton-Jupyter-Notebook/blob/master/Clase1IA.ipynb\" target=\"_parent\"><img src=\"https://colab.research.google.com/assets/colab-badge.svg\" alt=\"Open In Colab\"/></a>"
      ]
    },
    {
      "cell_type": "code",
      "metadata": {
        "id": "aprpXSqIWbbh",
        "colab_type": "code",
        "colab": {}
      },
      "source": [
        "import torch; "
      ],
      "execution_count": 5,
      "outputs": []
    },
    {
      "cell_type": "code",
      "metadata": {
        "id": "OALBl0eKWoIY",
        "colab_type": "code",
        "colab": {
          "base_uri": "https://localhost:8080/",
          "height": 35
        },
        "outputId": "35f7be1b-868b-4be4-925a-d4b1ee259acc"
      },
      "source": [
        "torch.__version__"
      ],
      "execution_count": 6,
      "outputs": [
        {
          "output_type": "execute_result",
          "data": {
            "application/vnd.google.colaboratory.intrinsic+json": {
              "type": "string"
            },
            "text/plain": [
              "'1.6.0+cu101'"
            ]
          },
          "metadata": {
            "tags": []
          },
          "execution_count": 6
        }
      ]
    },
    {
      "cell_type": "code",
      "metadata": {
        "id": "qlvVFJzXWwXe",
        "colab_type": "code",
        "colab": {
          "base_uri": "https://localhost:8080/",
          "height": 90
        },
        "outputId": "0183fc21-4560-48ed-d980-db4f9bf694b2"
      },
      "source": [
        "# funcion ones sirve para llenar un tensor\n",
        "tensor_a = torch.ones(4, 4);\n",
        "tensor_a"
      ],
      "execution_count": 7,
      "outputs": [
        {
          "output_type": "execute_result",
          "data": {
            "text/plain": [
              "tensor([[1., 1., 1., 1.],\n",
              "        [1., 1., 1., 1.],\n",
              "        [1., 1., 1., 1.],\n",
              "        [1., 1., 1., 1.]])"
            ]
          },
          "metadata": {
            "tags": []
          },
          "execution_count": 7
        }
      ]
    },
    {
      "cell_type": "code",
      "metadata": {
        "id": "IfBwq3NDXBR-",
        "colab_type": "code",
        "colab": {
          "base_uri": "https://localhost:8080/",
          "height": 72
        },
        "outputId": "83fe9b57-e03e-4552-8eb2-ba3f360160c1"
      },
      "source": [
        "tensor_p = torch.ones(3, 3);\n",
        "print(tensor_p);"
      ],
      "execution_count": 8,
      "outputs": [
        {
          "output_type": "stream",
          "text": [
            "tensor([[1., 1., 1.],\n",
            "        [1., 1., 1.],\n",
            "        [1., 1., 1.]])\n"
          ],
          "name": "stdout"
        }
      ]
    },
    {
      "cell_type": "code",
      "metadata": {
        "id": "fZDVdUUMX4kL",
        "colab_type": "code",
        "colab": {
          "base_uri": "https://localhost:8080/",
          "height": 72
        },
        "outputId": "c82cbf1d-19a0-4e0f-b095-ef184da9d505"
      },
      "source": [
        "# tensor != tensor ==> datos aleatorios en un tensor\n",
        "tensor_b = torch.Tensor(3, 3);\n",
        "tensor_b"
      ],
      "execution_count": 9,
      "outputs": [
        {
          "output_type": "execute_result",
          "data": {
            "text/plain": [
              "tensor([[2.2309e-35, 0.0000e+00, 3.7835e-44],\n",
              "        [0.0000e+00,        nan, 0.0000e+00],\n",
              "        [1.3733e-14, 6.4069e+02, 4.3066e+21]])"
            ]
          },
          "metadata": {
            "tags": []
          },
          "execution_count": 9
        }
      ]
    },
    {
      "cell_type": "code",
      "metadata": {
        "id": "A3-pfJ9cXRxo",
        "colab_type": "code",
        "colab": {
          "base_uri": "https://localhost:8080/",
          "height": 90
        },
        "outputId": "e04164ac-c048-4f24-f6a9-240f13680371"
      },
      "source": [
        "tensor_1 = torch.Tensor(4, 4);\n",
        "tensor_1"
      ],
      "execution_count": 10,
      "outputs": [
        {
          "output_type": "execute_result",
          "data": {
            "text/plain": [
              "tensor([[2.2309e-35, 0.0000e+00, 1.2612e-44, 0.0000e+00],\n",
              "        [1.4013e-45, 0.0000e+00, 0.0000e+00, 0.0000e+00],\n",
              "        [0.0000e+00, 0.0000e+00, 0.0000e+00, 0.0000e+00],\n",
              "        [0.0000e+00, 0.0000e+00, 0.0000e+00, 0.0000e+00]])"
            ]
          },
          "metadata": {
            "tags": []
          },
          "execution_count": 10
        }
      ]
    },
    {
      "cell_type": "code",
      "metadata": {
        "id": "-w0gwdzuX0rG",
        "colab_type": "code",
        "colab": {
          "base_uri": "https://localhost:8080/",
          "height": 90
        },
        "outputId": "626708e4-3392-4d91-aba5-26a0fc3e589b"
      },
      "source": [
        "# .uniform --> limita en uso dedatos a usar (max / min)\n",
        "tensor_b = torch.Tensor(4, 4);\n",
        "print(tensor_b);\n",
        "tensor_b.uniform_(0, 1);"
      ],
      "execution_count": 11,
      "outputs": [
        {
          "output_type": "stream",
          "text": [
            "tensor([[2.2309e-35, 0.0000e+00, 2.2421e-44, 0.0000e+00],\n",
            "        [1.4013e-45, 0.0000e+00, 0.0000e+00, 0.0000e+00],\n",
            "        [0.0000e+00, 0.0000e+00, 0.0000e+00, 0.0000e+00],\n",
            "        [0.0000e+00, 0.0000e+00, 0.0000e+00, 0.0000e+00]])\n"
          ],
          "name": "stdout"
        }
      ]
    },
    {
      "cell_type": "code",
      "metadata": {
        "id": "HtR4cG4LYmZZ",
        "colab_type": "code",
        "colab": {
          "base_uri": "https://localhost:8080/",
          "height": 90
        },
        "outputId": "6cf819b1-20ab-4a83-eee5-ad6d8f8dfd28"
      },
      "source": [
        "print(tensor_1);\n",
        "tensor_1.uniform_(0, 1);"
      ],
      "execution_count": 12,
      "outputs": [
        {
          "output_type": "stream",
          "text": [
            "tensor([[2.2309e-35, 0.0000e+00, 1.2612e-44, 0.0000e+00],\n",
            "        [1.4013e-45, 0.0000e+00, 0.0000e+00, 0.0000e+00],\n",
            "        [0.0000e+00, 0.0000e+00, 0.0000e+00, 0.0000e+00],\n",
            "        [0.0000e+00, 0.0000e+00, 0.0000e+00, 0.0000e+00]])\n"
          ],
          "name": "stdout"
        }
      ]
    },
    {
      "cell_type": "code",
      "metadata": {
        "id": "SQKHRx4IY9Eo",
        "colab_type": "code",
        "colab": {
          "base_uri": "https://localhost:8080/",
          "height": 72
        },
        "outputId": "667695f9-eefb-4217-85f4-7b2d5eaee2cf"
      },
      "source": [
        "# .rand --> numeros aleatorios entre 0 y 1\n",
        "tensor_c = torch.rand(3, 3);\n",
        "tensor_c"
      ],
      "execution_count": 13,
      "outputs": [
        {
          "output_type": "execute_result",
          "data": {
            "text/plain": [
              "tensor([[0.3935, 0.2063, 0.4747],\n",
              "        [0.7012, 0.1046, 0.5110],\n",
              "        [0.3229, 0.3645, 0.8218]])"
            ]
          },
          "metadata": {
            "tags": []
          },
          "execution_count": 13
        }
      ]
    },
    {
      "cell_type": "code",
      "metadata": {
        "id": "m6-0TZKLZRHn",
        "colab_type": "code",
        "colab": {
          "base_uri": "https://localhost:8080/",
          "height": 90
        },
        "outputId": "44b63ba9-7011-4d07-fb3f-5cffd95331f4"
      },
      "source": [
        "tensor_2 = torch.rand(4, 4);\n",
        "tensor_2"
      ],
      "execution_count": 14,
      "outputs": [
        {
          "output_type": "execute_result",
          "data": {
            "text/plain": [
              "tensor([[0.3557, 0.9509, 0.9560, 0.1895],\n",
              "        [0.6581, 0.0943, 0.8215, 0.3000],\n",
              "        [0.2315, 0.4024, 0.5607, 0.1361],\n",
              "        [0.9844, 0.6962, 0.3433, 0.3900]])"
            ]
          },
          "metadata": {
            "tags": []
          },
          "execution_count": 14
        }
      ]
    },
    {
      "cell_type": "code",
      "metadata": {
        "id": "4HCfzT1fZasP",
        "colab_type": "code",
        "colab": {
          "base_uri": "https://localhost:8080/",
          "height": 90
        },
        "outputId": "7650b29b-a651-4e65-8558-2517faac0fa8"
      },
      "source": [
        "# las operaciones con tensores se pueden realizar siempre y cuando sean matematicamente correctas\n",
        "result = tensor_a + tensor_b\n",
        "result"
      ],
      "execution_count": 15,
      "outputs": [
        {
          "output_type": "execute_result",
          "data": {
            "text/plain": [
              "tensor([[1.4053, 1.0643, 1.7002, 1.1793],\n",
              "        [1.7292, 1.9217, 1.3235, 1.5652],\n",
              "        [1.5755, 1.2736, 1.1655, 1.9351],\n",
              "        [1.7835, 1.8550, 1.8781, 1.0872]])"
            ]
          },
          "metadata": {
            "tags": []
          },
          "execution_count": 15
        }
      ]
    },
    {
      "cell_type": "code",
      "metadata": {
        "id": "rViYq9r1ZzKl",
        "colab_type": "code",
        "colab": {
          "base_uri": "https://localhost:8080/",
          "height": 90
        },
        "outputId": "5a3611ce-2d6c-4a60-b9a8-5542a5451a87"
      },
      "source": [
        "result2 = tensor_a - tensor_b\n",
        "result2"
      ],
      "execution_count": 16,
      "outputs": [
        {
          "output_type": "execute_result",
          "data": {
            "text/plain": [
              "tensor([[0.5947, 0.9357, 0.2998, 0.8207],\n",
              "        [0.2708, 0.0783, 0.6765, 0.4348],\n",
              "        [0.4245, 0.7264, 0.8345, 0.0649],\n",
              "        [0.2165, 0.1450, 0.1219, 0.9128]])"
            ]
          },
          "metadata": {
            "tags": []
          },
          "execution_count": 16
        }
      ]
    },
    {
      "cell_type": "code",
      "metadata": {
        "id": "Wc-VYUO9Z6Cs",
        "colab_type": "code",
        "colab": {
          "base_uri": "https://localhost:8080/",
          "height": 363
        },
        "outputId": "d8c6b421-ffeb-4acb-daf9-18a42d5f3607"
      },
      "source": [
        "# shape --> las dimensiones del tensor\n",
        "# .view --> transforma un tensor en caso de ser posible\n",
        "\n",
        "result.shape\n",
        "print(result.shape);\n",
        "resshaped = result.view (1, 16);\n",
        "print(resshaped);\n",
        "deresult = result.view(16, 1);\n",
        "print(deresult);"
      ],
      "execution_count": 17,
      "outputs": [
        {
          "output_type": "stream",
          "text": [
            "torch.Size([4, 4])\n",
            "tensor([[1.4053, 1.0643, 1.7002, 1.1793, 1.7292, 1.9217, 1.3235, 1.5652, 1.5755,\n",
            "         1.2736, 1.1655, 1.9351, 1.7835, 1.8550, 1.8781, 1.0872]])\n",
            "tensor([[1.4053],\n",
            "        [1.0643],\n",
            "        [1.7002],\n",
            "        [1.1793],\n",
            "        [1.7292],\n",
            "        [1.9217],\n",
            "        [1.3235],\n",
            "        [1.5652],\n",
            "        [1.5755],\n",
            "        [1.2736],\n",
            "        [1.1655],\n",
            "        [1.9351],\n",
            "        [1.7835],\n",
            "        [1.8550],\n",
            "        [1.8781],\n",
            "        [1.0872]])\n"
          ],
          "name": "stdout"
        }
      ]
    },
    {
      "cell_type": "code",
      "metadata": {
        "id": "Qqg0W_CrbIZs",
        "colab_type": "code",
        "colab": {
          "base_uri": "https://localhost:8080/",
          "height": 363
        },
        "outputId": "0e14ab58-08f3-40bd-9f7a-7b2822ed6b5e"
      },
      "source": [
        "result2.shape\n",
        "print(result2.shape);\n",
        "resshaped = result2.view (1, 16);\n",
        "print(resshaped);\n",
        "deresult = result2.view(16, 1);\n",
        "print(deresult);"
      ],
      "execution_count": 18,
      "outputs": [
        {
          "output_type": "stream",
          "text": [
            "torch.Size([4, 4])\n",
            "tensor([[0.5947, 0.9357, 0.2998, 0.8207, 0.2708, 0.0783, 0.6765, 0.4348, 0.4245,\n",
            "         0.7264, 0.8345, 0.0649, 0.2165, 0.1450, 0.1219, 0.9128]])\n",
            "tensor([[0.5947],\n",
            "        [0.9357],\n",
            "        [0.2998],\n",
            "        [0.8207],\n",
            "        [0.2708],\n",
            "        [0.0783],\n",
            "        [0.6765],\n",
            "        [0.4348],\n",
            "        [0.4245],\n",
            "        [0.7264],\n",
            "        [0.8345],\n",
            "        [0.0649],\n",
            "        [0.2165],\n",
            "        [0.1450],\n",
            "        [0.1219],\n",
            "        [0.9128]])\n"
          ],
          "name": "stdout"
        }
      ]
    },
    {
      "cell_type": "code",
      "metadata": {
        "id": "uDhgA3gtbfaH",
        "colab_type": "code",
        "colab": {
          "base_uri": "https://localhost:8080/",
          "height": 181
        },
        "outputId": "2eec7f31-9ddb-45b9-936a-9b42df3a0c4b"
      },
      "source": [
        "#.tensor --> da la capacidad de poner los datos en un tensor en base a lo que un autor desea o necesite.\n",
        "tensor_d = torch.tensor([[1.0, 2.0], [3.4, 4.6], [1.1, 6.3], [2.1, 6.5]])\n",
        "print(tensor_d);\n",
        "\n",
        "# para llamar un dato especifico se lo llama en base a su ubicacion\n",
        "# en el tensor como si se trataese de una matriz. De la misma manera se lo pude modificar.\n",
        "print(tensor_d [0] [1]);\n",
        "tensor_d [0] [1] = 4.7\n",
        "print(tensor_d);\n",
        "\n",
        "# .storage() --> La manera en que especificamente se guarda un espacio de memoria.\n",
        "tensor_d.storage();"
      ],
      "execution_count": 19,
      "outputs": [
        {
          "output_type": "stream",
          "text": [
            "tensor([[1.0000, 2.0000],\n",
            "        [3.4000, 4.6000],\n",
            "        [1.1000, 6.3000],\n",
            "        [2.1000, 6.5000]])\n",
            "tensor(2.)\n",
            "tensor([[1.0000, 4.7000],\n",
            "        [3.4000, 4.6000],\n",
            "        [1.1000, 6.3000],\n",
            "        [2.1000, 6.5000]])\n"
          ],
          "name": "stdout"
        }
      ]
    },
    {
      "cell_type": "code",
      "metadata": {
        "id": "PIvk0DV6crV_",
        "colab_type": "code",
        "colab": {
          "base_uri": "https://localhost:8080/",
          "height": 181
        },
        "outputId": "d5f1fd3e-700e-448c-ad43-9cb9c65b3f4a"
      },
      "source": [
        "tensor_3 = torch.tensor([[1.0, 2.0, 3.3], [3.4, 4.6, 6.6], [1.1, 6.3, 5.5], [2.1, 6.5, 4.5]])\n",
        "print(tensor_3);\n",
        "\n",
        "print(tensor_d [0] [1]);\n",
        "tensor_3 [0] [1] = 4.7\n",
        "print(tensor_3);\n",
        "\n",
        "tensor_3.storage();"
      ],
      "execution_count": 20,
      "outputs": [
        {
          "output_type": "stream",
          "text": [
            "tensor([[1.0000, 2.0000, 3.3000],\n",
            "        [3.4000, 4.6000, 6.6000],\n",
            "        [1.1000, 6.3000, 5.5000],\n",
            "        [2.1000, 6.5000, 4.5000]])\n",
            "tensor(4.7000)\n",
            "tensor([[1.0000, 4.7000, 3.3000],\n",
            "        [3.4000, 4.6000, 6.6000],\n",
            "        [1.1000, 6.3000, 5.5000],\n",
            "        [2.1000, 6.5000, 4.5000]])\n"
          ],
          "name": "stdout"
        }
      ]
    },
    {
      "cell_type": "code",
      "metadata": {
        "id": "Yp0ytRTmd8mr",
        "colab_type": "code",
        "colab": {
          "base_uri": "https://localhost:8080/",
          "height": 90
        },
        "outputId": "55b67425-909e-4f6f-c821-378d7d2562aa"
      },
      "source": [
        "# .stride --> se refiere a como se pude mover de una serie de datos a la otra en base a las dimensiones del tensor\n",
        "\n",
        "\"\"\"la idea del stride es poder acceder al elemento de manera fisica en memoria,\n",
        "mas que del simple hecho de accederlo logicamente(por ejemplo point[0][1] ). y es ahi donde stride me dice como hacerlo.\n",
        " \"\"\"\n",
        "print(tensor_d, tensor_d.stride());\n"
      ],
      "execution_count": 21,
      "outputs": [
        {
          "output_type": "stream",
          "text": [
            "tensor([[1.0000, 4.7000],\n",
            "        [3.4000, 4.6000],\n",
            "        [1.1000, 6.3000],\n",
            "        [2.1000, 6.5000]]) (2, 1)\n"
          ],
          "name": "stdout"
        }
      ]
    },
    {
      "cell_type": "code",
      "metadata": {
        "id": "-dGr9QOwf8WV",
        "colab_type": "code",
        "colab": {
          "base_uri": "https://localhost:8080/",
          "height": 90
        },
        "outputId": "3123c9e2-f27a-4183-c360-f8415902574f"
      },
      "source": [
        "print(tensor_3, tensor_3.stride());"
      ],
      "execution_count": 22,
      "outputs": [
        {
          "output_type": "stream",
          "text": [
            "tensor([[1.0000, 4.7000, 3.3000],\n",
            "        [3.4000, 4.6000, 6.6000],\n",
            "        [1.1000, 6.3000, 5.5000],\n",
            "        [2.1000, 6.5000, 4.5000]]) (3, 1)\n"
          ],
          "name": "stdout"
        }
      ]
    },
    {
      "cell_type": "code",
      "metadata": {
        "id": "z6ZQByWTgHdb",
        "colab_type": "code",
        "colab": {
          "base_uri": "https://localhost:8080/",
          "height": 54
        },
        "outputId": "26ccd87b-ffb3-45db-8053-b676a590440c"
      },
      "source": [
        "# .t --> transpuesta de un tensor\n",
        "transpuesta = tensor_d.t();\n",
        "print(transpuesta, transpuesta.stride());"
      ],
      "execution_count": 23,
      "outputs": [
        {
          "output_type": "stream",
          "text": [
            "tensor([[1.0000, 3.4000, 1.1000, 2.1000],\n",
            "        [4.7000, 4.6000, 6.3000, 6.5000]]) (1, 2)\n"
          ],
          "name": "stdout"
        }
      ]
    },
    {
      "cell_type": "code",
      "metadata": {
        "id": "QBcHd9EqgXJf",
        "colab_type": "code",
        "colab": {
          "base_uri": "https://localhost:8080/",
          "height": 72
        },
        "outputId": "8463c4f2-968c-42e2-95ee-1d55c993b063"
      },
      "source": [
        "transpuesta = tensor_3.t();\n",
        "print(transpuesta, transpuesta.stride());"
      ],
      "execution_count": 24,
      "outputs": [
        {
          "output_type": "stream",
          "text": [
            "tensor([[1.0000, 3.4000, 1.1000, 2.1000],\n",
            "        [4.7000, 4.6000, 6.3000, 6.5000],\n",
            "        [3.3000, 6.6000, 5.5000, 4.5000]]) (1, 3)\n"
          ],
          "name": "stdout"
        }
      ]
    },
    {
      "cell_type": "code",
      "metadata": {
        "id": "34h6bDR9gcgg",
        "colab_type": "code",
        "colab": {
          "base_uri": "https://localhost:8080/",
          "height": 290
        },
        "outputId": "9acba13d-4bc2-4a47-a4af-0496ec1b07e9"
      },
      "source": [
        "# .unsqueese --> agrega una dimension a un tensor en caso de ser necesario\n",
        "tensor_x = torch.tensor([1, 2, 3, 4, 5, 6, 7, 8, 9, 10, 11, 12, 13, 14]);\n",
        "print(tensor_x), torch.unsqueeze(tensor_x, 1)"
      ],
      "execution_count": 25,
      "outputs": [
        {
          "output_type": "stream",
          "text": [
            "tensor([ 1,  2,  3,  4,  5,  6,  7,  8,  9, 10, 11, 12, 13, 14])\n"
          ],
          "name": "stdout"
        },
        {
          "output_type": "execute_result",
          "data": {
            "text/plain": [
              "(None, tensor([[ 1],\n",
              "         [ 2],\n",
              "         [ 3],\n",
              "         [ 4],\n",
              "         [ 5],\n",
              "         [ 6],\n",
              "         [ 7],\n",
              "         [ 8],\n",
              "         [ 9],\n",
              "         [10],\n",
              "         [11],\n",
              "         [12],\n",
              "         [13],\n",
              "         [14]]))"
            ]
          },
          "metadata": {
            "tags": []
          },
          "execution_count": 25
        }
      ]
    },
    {
      "cell_type": "code",
      "metadata": {
        "id": "93Svd6ptiPA0",
        "colab_type": "code",
        "colab": {}
      },
      "source": [
        "# biblioteca para el procesamiento de datos en ML, principalmente numericos\n",
        "import numpy as np"
      ],
      "execution_count": 26,
      "outputs": []
    },
    {
      "cell_type": "code",
      "metadata": {
        "id": "4GZNDJtnhlIf",
        "colab_type": "code",
        "colab": {
          "base_uri": "https://localhost:8080/",
          "height": 90
        },
        "outputId": "da401f0e-07c5-4067-f309-ec0fcd712270"
      },
      "source": [
        "\n",
        "\n",
        "# cambio de un array np a un tensor torch\n",
        "\n",
        "numpayArray = np.random.randn(4, 4);\n",
        "torch.from_numpy(numpayArray);\n",
        "print(numpayArray)"
      ],
      "execution_count": 27,
      "outputs": [
        {
          "output_type": "stream",
          "text": [
            "[[-0.9121034  -0.37324284 -0.02417181  0.68690566]\n",
            " [-1.24151641 -0.48830838  0.58157414  1.45321795]\n",
            " [ 0.74064683 -0.82868588  1.10897364 -0.3338142 ]\n",
            " [ 0.69983606 -0.14968185  1.06502188  0.41916078]]\n"
          ],
          "name": "stdout"
        }
      ]
    },
    {
      "cell_type": "code",
      "metadata": {
        "id": "l0G9qjfxib4r",
        "colab_type": "code",
        "colab": {
          "base_uri": "https://localhost:8080/",
          "height": 108
        },
        "outputId": "28ad23fa-2f2c-4b87-df77-00cbe359a45e"
      },
      "source": [
        "numpayArray = np.random.randn(5, 5);\n",
        "torch.from_numpy(numpayArray);\n",
        "print(numpayArray)"
      ],
      "execution_count": 28,
      "outputs": [
        {
          "output_type": "stream",
          "text": [
            "[[-0.19321285 -0.98801314  0.17253104  1.80944018  1.51505198]\n",
            " [-0.6458024  -0.70084236  0.82595685  0.77687201  0.59979213]\n",
            " [-0.51523297 -0.27571154 -1.51669638  0.12121215  0.25134947]\n",
            " [ 0.19704537  1.91545101 -0.54168933 -0.75918664  0.07813021]\n",
            " [-0.42011871 -0.72804763 -0.89096749 -2.01046885 -2.44301212]]\n"
          ],
          "name": "stdout"
        }
      ]
    },
    {
      "cell_type": "code",
      "metadata": {
        "id": "n93Z1qfwxlA2",
        "colab_type": "code",
        "colab": {
          "base_uri": "https://localhost:8080/",
          "height": 90
        },
        "outputId": "db8ecc8a-a451-445c-a2ae-d9d213753e69"
      },
      "source": [
        "nuevoArray = np.random.randn(4,4)\n",
        "from_numpy = torch.from_numpy(nuevoArray)\n",
        "print(from_numpy)"
      ],
      "execution_count": 33,
      "outputs": [
        {
          "output_type": "stream",
          "text": [
            "tensor([[ 0.6240,  1.6824, -1.7546,  0.7887],\n",
            "        [ 0.9776,  0.1363, -0.6348, -0.0461],\n",
            "        [-0.8434,  0.8558, -0.9931, -0.0286],\n",
            "        [ 0.6951,  0.1123,  0.0828, -0.4125]], dtype=torch.float64)\n"
          ],
          "name": "stdout"
        }
      ]
    },
    {
      "cell_type": "markdown",
      "metadata": {
        "id": "FDC55lH00aWH",
        "colab_type": "text"
      },
      "source": [
        "REPRESENTAR DATOS CON TENSORES\n"
      ]
    },
    {
      "cell_type": "code",
      "metadata": {
        "id": "Ws1sx7JLzTHo",
        "colab_type": "code",
        "colab": {
          "base_uri": "https://localhost:8080/",
          "height": 199
        },
        "outputId": "8cb0bb8b-6d39-49e7-f8fa-8295dd3bdafa"
      },
      "source": [
        "# torch.mean --> media de un tensor\n",
        "print(torch.mean(from_numpy))\n",
        "tensor_4 = torch.Tensor([[1.7, 2.4, 4.5, 6.0, 3.5], [1.7, 2.4, 4.5, 6.0, 3.5], [1.7, 2.4, 4.5, 6.0, 3.5],[1.7, 2.4, 4.5, 6.0, 3.5], [1.7, 2.4, 4.5, 6.0, 3.5]])\n",
        "print(tensor_4)\n",
        "\n",
        "# dim --> implica la dimension en la cual se va calcular la media\n",
        "print(torch.mean(tensor_4, dim=0))\n",
        "print(torch.mean(tensor_4, dim=1))\n",
        "\n",
        "print(torch.mean(tensor_4, dim=-1))\n",
        "print(torch.mean(tensor_4, dim=-2))"
      ],
      "execution_count": 39,
      "outputs": [
        {
          "output_type": "stream",
          "text": [
            "tensor(0.0776, dtype=torch.float64)\n",
            "tensor([[1.7000, 2.4000, 4.5000, 6.0000, 3.5000],\n",
            "        [1.7000, 2.4000, 4.5000, 6.0000, 3.5000],\n",
            "        [1.7000, 2.4000, 4.5000, 6.0000, 3.5000],\n",
            "        [1.7000, 2.4000, 4.5000, 6.0000, 3.5000],\n",
            "        [1.7000, 2.4000, 4.5000, 6.0000, 3.5000]])\n",
            "tensor([1.7000, 2.4000, 4.5000, 6.0000, 3.5000])\n",
            "tensor([3.6200, 3.6200, 3.6200, 3.6200, 3.6200])\n",
            "tensor([3.6200, 3.6200, 3.6200, 3.6200, 3.6200])\n",
            "tensor([1.7000, 2.4000, 4.5000, 6.0000, 3.5000])\n"
          ],
          "name": "stdout"
        }
      ]
    },
    {
      "cell_type": "code",
      "metadata": {
        "id": "3ax099la0eZi",
        "colab_type": "code",
        "colab": {
          "base_uri": "https://localhost:8080/",
          "height": 90
        },
        "outputId": "943299bd-df1d-47e9-82fd-0e3b7c4981d9"
      },
      "source": [
        "# torch.std --> la desviacion estandar de todo el tensor o solo en una de las dimensiones del mismo\n",
        "print(torch.std(tensor_4, dim=0))\n",
        "print(torch.std(tensor_4, dim=1))\n",
        "\n",
        "print(torch.std(tensor_4, dim=-1))\n",
        "print(torch.std(tensor_4, dim=-2))"
      ],
      "execution_count": 40,
      "outputs": [
        {
          "output_type": "stream",
          "text": [
            "tensor([0., 0., 0., 0., 0.])\n",
            "tensor([1.7050, 1.7050, 1.7050, 1.7050, 1.7050])\n",
            "tensor([1.7050, 1.7050, 1.7050, 1.7050, 1.7050])\n",
            "tensor([0., 0., 0., 0., 0.])\n"
          ],
          "name": "stdout"
        }
      ]
    },
    {
      "cell_type": "code",
      "metadata": {
        "id": "rH3tK6tP04Tc",
        "colab_type": "code",
        "colab": {}
      },
      "source": [
        "# torch.save --> se usa para llamarlos en el Disco archivos/tensores para luego llamarlos\n",
        "torch.save(tensor_4, 'tensor.t')"
      ],
      "execution_count": 41,
      "outputs": []
    },
    {
      "cell_type": "code",
      "metadata": {
        "id": "KQAMpUiX1Nuy",
        "colab_type": "code",
        "colab": {
          "base_uri": "https://localhost:8080/",
          "height": 108
        },
        "outputId": "bb4e8b3a-35f9-4686-f4b8-ec9434d5a0b2"
      },
      "source": [
        "# torch.load --> se usa para llamar a los tensores guardados\n",
        "load = torch.load('tensor.t')\n",
        "load\n"
      ],
      "execution_count": 42,
      "outputs": [
        {
          "output_type": "execute_result",
          "data": {
            "text/plain": [
              "tensor([[1.7000, 2.4000, 4.5000, 6.0000, 3.5000],\n",
              "        [1.7000, 2.4000, 4.5000, 6.0000, 3.5000],\n",
              "        [1.7000, 2.4000, 4.5000, 6.0000, 3.5000],\n",
              "        [1.7000, 2.4000, 4.5000, 6.0000, 3.5000],\n",
              "        [1.7000, 2.4000, 4.5000, 6.0000, 3.5000]])"
            ]
          },
          "metadata": {
            "tags": []
          },
          "execution_count": 42
        }
      ]
    },
    {
      "cell_type": "code",
      "metadata": {
        "id": "9wU7r9oU1bkC",
        "colab_type": "code",
        "colab": {}
      },
      "source": [
        "# pandas es una biblioteca que nos ayuda a traer datasets y manejarlos de la mejor manera\n",
        "import pandas as pd\n"
      ],
      "execution_count": 43,
      "outputs": []
    },
    {
      "cell_type": "code",
      "metadata": {
        "id": "xUzq8EhO6OIl",
        "colab_type": "code",
        "colab": {
          "base_uri": "https://localhost:8080/",
          "height": 427
        },
        "outputId": "8e4aa759-60aa-471e-8240-38dba48f9b60"
      },
      "source": [
        "# url nos deja importar un url desde algun lado para luego ultizarlo\n",
        "# pd.read_cvs --> funcion de pandas para leer un archivo csv y dar disposicion de esos datos\n",
        "url = 'http://ljz.gzd.mybluehost.me/ljz.gzd.mybluehost.me/players.csv'\n",
        "dataframe = pd.read_csv(url) \n",
        "dataframe"
      ],
      "execution_count": 50,
      "outputs": [
        {
          "output_type": "execute_result",
          "data": {
            "text/html": [
              "<div>\n",
              "<style scoped>\n",
              "    .dataframe tbody tr th:only-of-type {\n",
              "        vertical-align: middle;\n",
              "    }\n",
              "\n",
              "    .dataframe tbody tr th {\n",
              "        vertical-align: top;\n",
              "    }\n",
              "\n",
              "    .dataframe thead th {\n",
              "        text-align: right;\n",
              "    }\n",
              "</style>\n",
              "<table border=\"1\" class=\"dataframe\">\n",
              "  <thead>\n",
              "    <tr style=\"text-align: right;\">\n",
              "      <th></th>\n",
              "      <th>match_id</th>\n",
              "      <th>account_id</th>\n",
              "      <th>hero_id</th>\n",
              "      <th>player_slot</th>\n",
              "      <th>gold</th>\n",
              "      <th>gold_spent</th>\n",
              "      <th>gold_per_min</th>\n",
              "      <th>xp_per_min</th>\n",
              "      <th>kills</th>\n",
              "      <th>deaths</th>\n",
              "      <th>assists</th>\n",
              "      <th>denies</th>\n",
              "      <th>last_hits</th>\n",
              "      <th>stuns</th>\n",
              "      <th>hero_damage</th>\n",
              "      <th>hero_healing</th>\n",
              "      <th>tower_damage</th>\n",
              "      <th>item_0</th>\n",
              "      <th>item_1</th>\n",
              "      <th>item_2</th>\n",
              "      <th>item_3</th>\n",
              "      <th>item_4</th>\n",
              "      <th>item_5</th>\n",
              "      <th>level</th>\n",
              "      <th>leaver_status</th>\n",
              "      <th>xp_hero</th>\n",
              "      <th>xp_creep</th>\n",
              "      <th>xp_roshan</th>\n",
              "      <th>xp_other</th>\n",
              "      <th>gold_other</th>\n",
              "      <th>gold_death</th>\n",
              "      <th>gold_buyback</th>\n",
              "      <th>gold_abandon</th>\n",
              "      <th>gold_sell</th>\n",
              "      <th>gold_destroying_structure</th>\n",
              "      <th>gold_killing_heros</th>\n",
              "      <th>gold_killing_creeps</th>\n",
              "      <th>gold_killing_roshan</th>\n",
              "      <th>gold_killing_couriers</th>\n",
              "      <th>unit_order_none</th>\n",
              "      <th>unit_order_move_to_position</th>\n",
              "      <th>unit_order_move_to_target</th>\n",
              "      <th>unit_order_attack_move</th>\n",
              "      <th>unit_order_attack_target</th>\n",
              "      <th>unit_order_cast_position</th>\n",
              "      <th>unit_order_cast_target</th>\n",
              "      <th>unit_order_cast_target_tree</th>\n",
              "      <th>unit_order_cast_no_target</th>\n",
              "      <th>unit_order_cast_toggle</th>\n",
              "      <th>unit_order_hold_position</th>\n",
              "      <th>unit_order_train_ability</th>\n",
              "      <th>unit_order_drop_item</th>\n",
              "      <th>unit_order_give_item</th>\n",
              "      <th>unit_order_pickup_item</th>\n",
              "      <th>unit_order_pickup_rune</th>\n",
              "      <th>unit_order_purchase_item</th>\n",
              "      <th>unit_order_sell_item</th>\n",
              "      <th>unit_order_disassemble_item</th>\n",
              "      <th>unit_order_move_item</th>\n",
              "      <th>unit_order_cast_toggle_auto</th>\n",
              "      <th>unit_order_stop</th>\n",
              "      <th>unit_order_taunt</th>\n",
              "      <th>unit_order_buyback</th>\n",
              "      <th>unit_order_glyph</th>\n",
              "      <th>unit_order_eject_item_from_stash</th>\n",
              "      <th>unit_order_cast_rune</th>\n",
              "      <th>unit_order_ping_ability</th>\n",
              "      <th>unit_order_move_to_direction</th>\n",
              "      <th>unit_order_patrol</th>\n",
              "      <th>unit_order_vector_target_position</th>\n",
              "      <th>unit_order_radar</th>\n",
              "      <th>unit_order_set_item_combine_lock</th>\n",
              "      <th>unit_order_continue</th>\n",
              "    </tr>\n",
              "  </thead>\n",
              "  <tbody>\n",
              "    <tr>\n",
              "      <th>0</th>\n",
              "      <td>0</td>\n",
              "      <td>0</td>\n",
              "      <td>86</td>\n",
              "      <td>0</td>\n",
              "      <td>3261</td>\n",
              "      <td>10960</td>\n",
              "      <td>347</td>\n",
              "      <td>362</td>\n",
              "      <td>9</td>\n",
              "      <td>3</td>\n",
              "      <td>18</td>\n",
              "      <td>1</td>\n",
              "      <td>30</td>\n",
              "      <td>76.7356</td>\n",
              "      <td>8690</td>\n",
              "      <td>218</td>\n",
              "      <td>143</td>\n",
              "      <td>180</td>\n",
              "      <td>37</td>\n",
              "      <td>73</td>\n",
              "      <td>56</td>\n",
              "      <td>108</td>\n",
              "      <td>0</td>\n",
              "      <td>16</td>\n",
              "      <td>0</td>\n",
              "      <td>8840.0</td>\n",
              "      <td>5440.0</td>\n",
              "      <td>NaN</td>\n",
              "      <td>83.0</td>\n",
              "      <td>50.0</td>\n",
              "      <td>-957.0</td>\n",
              "      <td>NaN</td>\n",
              "      <td>NaN</td>\n",
              "      <td>212.0</td>\n",
              "      <td>3120.0</td>\n",
              "      <td>5145.0</td>\n",
              "      <td>1087.0</td>\n",
              "      <td>400.0</td>\n",
              "      <td>NaN</td>\n",
              "      <td>NaN</td>\n",
              "      <td>4070.0</td>\n",
              "      <td>1.0</td>\n",
              "      <td>25.0</td>\n",
              "      <td>416.0</td>\n",
              "      <td>51.0</td>\n",
              "      <td>144.0</td>\n",
              "      <td>3.0</td>\n",
              "      <td>71.0</td>\n",
              "      <td>NaN</td>\n",
              "      <td>188.0</td>\n",
              "      <td>16.0</td>\n",
              "      <td>NaN</td>\n",
              "      <td>NaN</td>\n",
              "      <td>NaN</td>\n",
              "      <td>2.0</td>\n",
              "      <td>35.0</td>\n",
              "      <td>2.0</td>\n",
              "      <td>NaN</td>\n",
              "      <td>11.0</td>\n",
              "      <td>NaN</td>\n",
              "      <td>NaN</td>\n",
              "      <td>NaN</td>\n",
              "      <td>NaN</td>\n",
              "      <td>NaN</td>\n",
              "      <td>NaN</td>\n",
              "      <td>NaN</td>\n",
              "      <td>6.0</td>\n",
              "      <td>NaN</td>\n",
              "      <td>NaN</td>\n",
              "      <td>NaN</td>\n",
              "      <td>NaN</td>\n",
              "      <td>NaN</td>\n",
              "      <td>NaN</td>\n",
              "    </tr>\n",
              "    <tr>\n",
              "      <th>1</th>\n",
              "      <td>0</td>\n",
              "      <td>1</td>\n",
              "      <td>51</td>\n",
              "      <td>1</td>\n",
              "      <td>2954</td>\n",
              "      <td>17760</td>\n",
              "      <td>494</td>\n",
              "      <td>659</td>\n",
              "      <td>13</td>\n",
              "      <td>3</td>\n",
              "      <td>18</td>\n",
              "      <td>9</td>\n",
              "      <td>109</td>\n",
              "      <td>87.4164</td>\n",
              "      <td>23747</td>\n",
              "      <td>0</td>\n",
              "      <td>423</td>\n",
              "      <td>46</td>\n",
              "      <td>63</td>\n",
              "      <td>119</td>\n",
              "      <td>102</td>\n",
              "      <td>24</td>\n",
              "      <td>108</td>\n",
              "      <td>22</td>\n",
              "      <td>0</td>\n",
              "      <td>14331.0</td>\n",
              "      <td>8440.0</td>\n",
              "      <td>2683.0</td>\n",
              "      <td>671.0</td>\n",
              "      <td>395.0</td>\n",
              "      <td>-1137.0</td>\n",
              "      <td>NaN</td>\n",
              "      <td>NaN</td>\n",
              "      <td>1650.0</td>\n",
              "      <td>3299.0</td>\n",
              "      <td>6676.0</td>\n",
              "      <td>4317.0</td>\n",
              "      <td>937.0</td>\n",
              "      <td>NaN</td>\n",
              "      <td>NaN</td>\n",
              "      <td>5894.0</td>\n",
              "      <td>214.0</td>\n",
              "      <td>165.0</td>\n",
              "      <td>1031.0</td>\n",
              "      <td>98.0</td>\n",
              "      <td>39.0</td>\n",
              "      <td>4.0</td>\n",
              "      <td>439.0</td>\n",
              "      <td>NaN</td>\n",
              "      <td>346.0</td>\n",
              "      <td>22.0</td>\n",
              "      <td>NaN</td>\n",
              "      <td>NaN</td>\n",
              "      <td>12.0</td>\n",
              "      <td>52.0</td>\n",
              "      <td>30.0</td>\n",
              "      <td>4.0</td>\n",
              "      <td>NaN</td>\n",
              "      <td>21.0</td>\n",
              "      <td>NaN</td>\n",
              "      <td>NaN</td>\n",
              "      <td>NaN</td>\n",
              "      <td>NaN</td>\n",
              "      <td>NaN</td>\n",
              "      <td>NaN</td>\n",
              "      <td>NaN</td>\n",
              "      <td>14.0</td>\n",
              "      <td>NaN</td>\n",
              "      <td>NaN</td>\n",
              "      <td>NaN</td>\n",
              "      <td>NaN</td>\n",
              "      <td>NaN</td>\n",
              "      <td>NaN</td>\n",
              "    </tr>\n",
              "    <tr>\n",
              "      <th>2</th>\n",
              "      <td>0</td>\n",
              "      <td>0</td>\n",
              "      <td>83</td>\n",
              "      <td>2</td>\n",
              "      <td>110</td>\n",
              "      <td>12195</td>\n",
              "      <td>350</td>\n",
              "      <td>385</td>\n",
              "      <td>0</td>\n",
              "      <td>4</td>\n",
              "      <td>15</td>\n",
              "      <td>1</td>\n",
              "      <td>58</td>\n",
              "      <td>None</td>\n",
              "      <td>4217</td>\n",
              "      <td>1595</td>\n",
              "      <td>399</td>\n",
              "      <td>48</td>\n",
              "      <td>60</td>\n",
              "      <td>59</td>\n",
              "      <td>108</td>\n",
              "      <td>65</td>\n",
              "      <td>0</td>\n",
              "      <td>17</td>\n",
              "      <td>0</td>\n",
              "      <td>6692.0</td>\n",
              "      <td>8112.0</td>\n",
              "      <td>NaN</td>\n",
              "      <td>453.0</td>\n",
              "      <td>259.0</td>\n",
              "      <td>-1436.0</td>\n",
              "      <td>-1015.0</td>\n",
              "      <td>NaN</td>\n",
              "      <td>NaN</td>\n",
              "      <td>3142.0</td>\n",
              "      <td>2418.0</td>\n",
              "      <td>3697.0</td>\n",
              "      <td>400.0</td>\n",
              "      <td>NaN</td>\n",
              "      <td>NaN</td>\n",
              "      <td>7053.0</td>\n",
              "      <td>3.0</td>\n",
              "      <td>132.0</td>\n",
              "      <td>645.0</td>\n",
              "      <td>36.0</td>\n",
              "      <td>160.0</td>\n",
              "      <td>20.0</td>\n",
              "      <td>373.0</td>\n",
              "      <td>NaN</td>\n",
              "      <td>643.0</td>\n",
              "      <td>17.0</td>\n",
              "      <td>5.0</td>\n",
              "      <td>NaN</td>\n",
              "      <td>7.0</td>\n",
              "      <td>8.0</td>\n",
              "      <td>28.0</td>\n",
              "      <td>NaN</td>\n",
              "      <td>1.0</td>\n",
              "      <td>18.0</td>\n",
              "      <td>NaN</td>\n",
              "      <td>NaN</td>\n",
              "      <td>NaN</td>\n",
              "      <td>1.0</td>\n",
              "      <td>NaN</td>\n",
              "      <td>NaN</td>\n",
              "      <td>NaN</td>\n",
              "      <td>17.0</td>\n",
              "      <td>NaN</td>\n",
              "      <td>NaN</td>\n",
              "      <td>NaN</td>\n",
              "      <td>NaN</td>\n",
              "      <td>NaN</td>\n",
              "      <td>NaN</td>\n",
              "    </tr>\n",
              "    <tr>\n",
              "      <th>3</th>\n",
              "      <td>0</td>\n",
              "      <td>2</td>\n",
              "      <td>11</td>\n",
              "      <td>3</td>\n",
              "      <td>1179</td>\n",
              "      <td>22505</td>\n",
              "      <td>599</td>\n",
              "      <td>605</td>\n",
              "      <td>8</td>\n",
              "      <td>4</td>\n",
              "      <td>19</td>\n",
              "      <td>6</td>\n",
              "      <td>271</td>\n",
              "      <td>None</td>\n",
              "      <td>14832</td>\n",
              "      <td>2714</td>\n",
              "      <td>6055</td>\n",
              "      <td>63</td>\n",
              "      <td>147</td>\n",
              "      <td>154</td>\n",
              "      <td>164</td>\n",
              "      <td>79</td>\n",
              "      <td>160</td>\n",
              "      <td>21</td>\n",
              "      <td>0</td>\n",
              "      <td>8583.0</td>\n",
              "      <td>14230.0</td>\n",
              "      <td>894.0</td>\n",
              "      <td>293.0</td>\n",
              "      <td>100.0</td>\n",
              "      <td>-2156.0</td>\n",
              "      <td>NaN</td>\n",
              "      <td>NaN</td>\n",
              "      <td>938.0</td>\n",
              "      <td>4714.0</td>\n",
              "      <td>4104.0</td>\n",
              "      <td>10432.0</td>\n",
              "      <td>400.0</td>\n",
              "      <td>NaN</td>\n",
              "      <td>NaN</td>\n",
              "      <td>4712.0</td>\n",
              "      <td>133.0</td>\n",
              "      <td>163.0</td>\n",
              "      <td>690.0</td>\n",
              "      <td>9.0</td>\n",
              "      <td>15.0</td>\n",
              "      <td>7.0</td>\n",
              "      <td>406.0</td>\n",
              "      <td>NaN</td>\n",
              "      <td>150.0</td>\n",
              "      <td>21.0</td>\n",
              "      <td>NaN</td>\n",
              "      <td>NaN</td>\n",
              "      <td>1.0</td>\n",
              "      <td>9.0</td>\n",
              "      <td>45.0</td>\n",
              "      <td>7.0</td>\n",
              "      <td>NaN</td>\n",
              "      <td>14.0</td>\n",
              "      <td>NaN</td>\n",
              "      <td>NaN</td>\n",
              "      <td>NaN</td>\n",
              "      <td>NaN</td>\n",
              "      <td>1.0</td>\n",
              "      <td>NaN</td>\n",
              "      <td>NaN</td>\n",
              "      <td>13.0</td>\n",
              "      <td>NaN</td>\n",
              "      <td>NaN</td>\n",
              "      <td>NaN</td>\n",
              "      <td>NaN</td>\n",
              "      <td>NaN</td>\n",
              "      <td>NaN</td>\n",
              "    </tr>\n",
              "    <tr>\n",
              "      <th>4</th>\n",
              "      <td>0</td>\n",
              "      <td>3</td>\n",
              "      <td>67</td>\n",
              "      <td>4</td>\n",
              "      <td>3307</td>\n",
              "      <td>23825</td>\n",
              "      <td>613</td>\n",
              "      <td>762</td>\n",
              "      <td>20</td>\n",
              "      <td>3</td>\n",
              "      <td>17</td>\n",
              "      <td>13</td>\n",
              "      <td>245</td>\n",
              "      <td>None</td>\n",
              "      <td>33740</td>\n",
              "      <td>243</td>\n",
              "      <td>1833</td>\n",
              "      <td>114</td>\n",
              "      <td>92</td>\n",
              "      <td>147</td>\n",
              "      <td>0</td>\n",
              "      <td>137</td>\n",
              "      <td>63</td>\n",
              "      <td>24</td>\n",
              "      <td>0</td>\n",
              "      <td>15814.0</td>\n",
              "      <td>14325.0</td>\n",
              "      <td>NaN</td>\n",
              "      <td>62.0</td>\n",
              "      <td>NaN</td>\n",
              "      <td>-1437.0</td>\n",
              "      <td>-1056.0</td>\n",
              "      <td>NaN</td>\n",
              "      <td>4194.0</td>\n",
              "      <td>3217.0</td>\n",
              "      <td>7467.0</td>\n",
              "      <td>9220.0</td>\n",
              "      <td>400.0</td>\n",
              "      <td>NaN</td>\n",
              "      <td>NaN</td>\n",
              "      <td>3853.0</td>\n",
              "      <td>7.0</td>\n",
              "      <td>7.0</td>\n",
              "      <td>1173.0</td>\n",
              "      <td>31.0</td>\n",
              "      <td>84.0</td>\n",
              "      <td>8.0</td>\n",
              "      <td>198.0</td>\n",
              "      <td>NaN</td>\n",
              "      <td>111.0</td>\n",
              "      <td>23.0</td>\n",
              "      <td>1.0</td>\n",
              "      <td>NaN</td>\n",
              "      <td>NaN</td>\n",
              "      <td>2.0</td>\n",
              "      <td>44.0</td>\n",
              "      <td>6.0</td>\n",
              "      <td>NaN</td>\n",
              "      <td>13.0</td>\n",
              "      <td>NaN</td>\n",
              "      <td>NaN</td>\n",
              "      <td>NaN</td>\n",
              "      <td>1.0</td>\n",
              "      <td>3.0</td>\n",
              "      <td>NaN</td>\n",
              "      <td>NaN</td>\n",
              "      <td>23.0</td>\n",
              "      <td>NaN</td>\n",
              "      <td>NaN</td>\n",
              "      <td>NaN</td>\n",
              "      <td>NaN</td>\n",
              "      <td>NaN</td>\n",
              "      <td>NaN</td>\n",
              "    </tr>\n",
              "    <tr>\n",
              "      <th>...</th>\n",
              "      <td>...</td>\n",
              "      <td>...</td>\n",
              "      <td>...</td>\n",
              "      <td>...</td>\n",
              "      <td>...</td>\n",
              "      <td>...</td>\n",
              "      <td>...</td>\n",
              "      <td>...</td>\n",
              "      <td>...</td>\n",
              "      <td>...</td>\n",
              "      <td>...</td>\n",
              "      <td>...</td>\n",
              "      <td>...</td>\n",
              "      <td>...</td>\n",
              "      <td>...</td>\n",
              "      <td>...</td>\n",
              "      <td>...</td>\n",
              "      <td>...</td>\n",
              "      <td>...</td>\n",
              "      <td>...</td>\n",
              "      <td>...</td>\n",
              "      <td>...</td>\n",
              "      <td>...</td>\n",
              "      <td>...</td>\n",
              "      <td>...</td>\n",
              "      <td>...</td>\n",
              "      <td>...</td>\n",
              "      <td>...</td>\n",
              "      <td>...</td>\n",
              "      <td>...</td>\n",
              "      <td>...</td>\n",
              "      <td>...</td>\n",
              "      <td>...</td>\n",
              "      <td>...</td>\n",
              "      <td>...</td>\n",
              "      <td>...</td>\n",
              "      <td>...</td>\n",
              "      <td>...</td>\n",
              "      <td>...</td>\n",
              "      <td>...</td>\n",
              "      <td>...</td>\n",
              "      <td>...</td>\n",
              "      <td>...</td>\n",
              "      <td>...</td>\n",
              "      <td>...</td>\n",
              "      <td>...</td>\n",
              "      <td>...</td>\n",
              "      <td>...</td>\n",
              "      <td>...</td>\n",
              "      <td>...</td>\n",
              "      <td>...</td>\n",
              "      <td>...</td>\n",
              "      <td>...</td>\n",
              "      <td>...</td>\n",
              "      <td>...</td>\n",
              "      <td>...</td>\n",
              "      <td>...</td>\n",
              "      <td>...</td>\n",
              "      <td>...</td>\n",
              "      <td>...</td>\n",
              "      <td>...</td>\n",
              "      <td>...</td>\n",
              "      <td>...</td>\n",
              "      <td>...</td>\n",
              "      <td>...</td>\n",
              "      <td>...</td>\n",
              "      <td>...</td>\n",
              "      <td>...</td>\n",
              "      <td>...</td>\n",
              "      <td>...</td>\n",
              "      <td>...</td>\n",
              "      <td>...</td>\n",
              "      <td>...</td>\n",
              "    </tr>\n",
              "    <tr>\n",
              "      <th>499995</th>\n",
              "      <td>49999</td>\n",
              "      <td>0</td>\n",
              "      <td>100</td>\n",
              "      <td>128</td>\n",
              "      <td>2718</td>\n",
              "      <td>17735</td>\n",
              "      <td>468</td>\n",
              "      <td>626</td>\n",
              "      <td>16</td>\n",
              "      <td>9</td>\n",
              "      <td>16</td>\n",
              "      <td>2</td>\n",
              "      <td>70</td>\n",
              "      <td>54.4912</td>\n",
              "      <td>22127</td>\n",
              "      <td>0</td>\n",
              "      <td>1227</td>\n",
              "      <td>249</td>\n",
              "      <td>41</td>\n",
              "      <td>0</td>\n",
              "      <td>50</td>\n",
              "      <td>141</td>\n",
              "      <td>168</td>\n",
              "      <td>23</td>\n",
              "      <td>0</td>\n",
              "      <td>21496.0</td>\n",
              "      <td>6025.0</td>\n",
              "      <td>596.0</td>\n",
              "      <td>1007.0</td>\n",
              "      <td>528.0</td>\n",
              "      <td>-4131.0</td>\n",
              "      <td>NaN</td>\n",
              "      <td>NaN</td>\n",
              "      <td>237.0</td>\n",
              "      <td>3860.0</td>\n",
              "      <td>9377.0</td>\n",
              "      <td>2940.0</td>\n",
              "      <td>400.0</td>\n",
              "      <td>NaN</td>\n",
              "      <td>NaN</td>\n",
              "      <td>4042.0</td>\n",
              "      <td>79.0</td>\n",
              "      <td>192.0</td>\n",
              "      <td>423.0</td>\n",
              "      <td>81.0</td>\n",
              "      <td>38.0</td>\n",
              "      <td>5.0</td>\n",
              "      <td>281.0</td>\n",
              "      <td>NaN</td>\n",
              "      <td>NaN</td>\n",
              "      <td>22.0</td>\n",
              "      <td>NaN</td>\n",
              "      <td>NaN</td>\n",
              "      <td>2.0</td>\n",
              "      <td>21.0</td>\n",
              "      <td>32.0</td>\n",
              "      <td>3.0</td>\n",
              "      <td>NaN</td>\n",
              "      <td>9.0</td>\n",
              "      <td>21.0</td>\n",
              "      <td>169.0</td>\n",
              "      <td>NaN</td>\n",
              "      <td>NaN</td>\n",
              "      <td>NaN</td>\n",
              "      <td>NaN</td>\n",
              "      <td>NaN</td>\n",
              "      <td>6.0</td>\n",
              "      <td>NaN</td>\n",
              "      <td>NaN</td>\n",
              "      <td>NaN</td>\n",
              "      <td>NaN</td>\n",
              "      <td>NaN</td>\n",
              "      <td>NaN</td>\n",
              "    </tr>\n",
              "    <tr>\n",
              "      <th>499996</th>\n",
              "      <td>49999</td>\n",
              "      <td>0</td>\n",
              "      <td>9</td>\n",
              "      <td>129</td>\n",
              "      <td>3755</td>\n",
              "      <td>20815</td>\n",
              "      <td>507</td>\n",
              "      <td>607</td>\n",
              "      <td>12</td>\n",
              "      <td>6</td>\n",
              "      <td>11</td>\n",
              "      <td>7</td>\n",
              "      <td>115</td>\n",
              "      <td>43.0999</td>\n",
              "      <td>12381</td>\n",
              "      <td>0</td>\n",
              "      <td>2269</td>\n",
              "      <td>135</td>\n",
              "      <td>63</td>\n",
              "      <td>166</td>\n",
              "      <td>30</td>\n",
              "      <td>36</td>\n",
              "      <td>139</td>\n",
              "      <td>23</td>\n",
              "      <td>0</td>\n",
              "      <td>16360.0</td>\n",
              "      <td>9653.0</td>\n",
              "      <td>1490.0</td>\n",
              "      <td>740.0</td>\n",
              "      <td>329.0</td>\n",
              "      <td>-2274.0</td>\n",
              "      <td>NaN</td>\n",
              "      <td>NaN</td>\n",
              "      <td>1587.0</td>\n",
              "      <td>4945.0</td>\n",
              "      <td>8292.0</td>\n",
              "      <td>4346.0</td>\n",
              "      <td>857.0</td>\n",
              "      <td>175.0</td>\n",
              "      <td>NaN</td>\n",
              "      <td>4412.0</td>\n",
              "      <td>NaN</td>\n",
              "      <td>89.0</td>\n",
              "      <td>625.0</td>\n",
              "      <td>75.0</td>\n",
              "      <td>NaN</td>\n",
              "      <td>4.0</td>\n",
              "      <td>162.0</td>\n",
              "      <td>2.0</td>\n",
              "      <td>224.0</td>\n",
              "      <td>21.0</td>\n",
              "      <td>NaN</td>\n",
              "      <td>NaN</td>\n",
              "      <td>NaN</td>\n",
              "      <td>9.0</td>\n",
              "      <td>42.0</td>\n",
              "      <td>7.0</td>\n",
              "      <td>NaN</td>\n",
              "      <td>13.0</td>\n",
              "      <td>NaN</td>\n",
              "      <td>NaN</td>\n",
              "      <td>NaN</td>\n",
              "      <td>NaN</td>\n",
              "      <td>1.0</td>\n",
              "      <td>NaN</td>\n",
              "      <td>NaN</td>\n",
              "      <td>15.0</td>\n",
              "      <td>NaN</td>\n",
              "      <td>NaN</td>\n",
              "      <td>NaN</td>\n",
              "      <td>NaN</td>\n",
              "      <td>NaN</td>\n",
              "      <td>NaN</td>\n",
              "    </tr>\n",
              "    <tr>\n",
              "      <th>499997</th>\n",
              "      <td>49999</td>\n",
              "      <td>0</td>\n",
              "      <td>90</td>\n",
              "      <td>130</td>\n",
              "      <td>1059</td>\n",
              "      <td>16225</td>\n",
              "      <td>371</td>\n",
              "      <td>404</td>\n",
              "      <td>5</td>\n",
              "      <td>3</td>\n",
              "      <td>11</td>\n",
              "      <td>2</td>\n",
              "      <td>92</td>\n",
              "      <td>18.1353</td>\n",
              "      <td>7050</td>\n",
              "      <td>872</td>\n",
              "      <td>87</td>\n",
              "      <td>79</td>\n",
              "      <td>48</td>\n",
              "      <td>152</td>\n",
              "      <td>108</td>\n",
              "      <td>102</td>\n",
              "      <td>117</td>\n",
              "      <td>18</td>\n",
              "      <td>0</td>\n",
              "      <td>8205.0</td>\n",
              "      <td>10012.0</td>\n",
              "      <td>NaN</td>\n",
              "      <td>600.0</td>\n",
              "      <td>303.0</td>\n",
              "      <td>-1287.0</td>\n",
              "      <td>NaN</td>\n",
              "      <td>NaN</td>\n",
              "      <td>NaN</td>\n",
              "      <td>3860.0</td>\n",
              "      <td>4027.0</td>\n",
              "      <td>3833.0</td>\n",
              "      <td>400.0</td>\n",
              "      <td>175.0</td>\n",
              "      <td>NaN</td>\n",
              "      <td>4824.0</td>\n",
              "      <td>146.0</td>\n",
              "      <td>53.0</td>\n",
              "      <td>266.0</td>\n",
              "      <td>135.0</td>\n",
              "      <td>153.0</td>\n",
              "      <td>7.0</td>\n",
              "      <td>49.0</td>\n",
              "      <td>NaN</td>\n",
              "      <td>1.0</td>\n",
              "      <td>18.0</td>\n",
              "      <td>NaN</td>\n",
              "      <td>NaN</td>\n",
              "      <td>1.0</td>\n",
              "      <td>22.0</td>\n",
              "      <td>39.0</td>\n",
              "      <td>NaN</td>\n",
              "      <td>NaN</td>\n",
              "      <td>5.0</td>\n",
              "      <td>NaN</td>\n",
              "      <td>108.0</td>\n",
              "      <td>NaN</td>\n",
              "      <td>NaN</td>\n",
              "      <td>NaN</td>\n",
              "      <td>NaN</td>\n",
              "      <td>NaN</td>\n",
              "      <td>2.0</td>\n",
              "      <td>NaN</td>\n",
              "      <td>NaN</td>\n",
              "      <td>NaN</td>\n",
              "      <td>NaN</td>\n",
              "      <td>NaN</td>\n",
              "      <td>NaN</td>\n",
              "    </tr>\n",
              "    <tr>\n",
              "      <th>499998</th>\n",
              "      <td>49999</td>\n",
              "      <td>0</td>\n",
              "      <td>73</td>\n",
              "      <td>131</td>\n",
              "      <td>3165</td>\n",
              "      <td>31015</td>\n",
              "      <td>780</td>\n",
              "      <td>703</td>\n",
              "      <td>8</td>\n",
              "      <td>6</td>\n",
              "      <td>17</td>\n",
              "      <td>6</td>\n",
              "      <td>306</td>\n",
              "      <td>64.3631</td>\n",
              "      <td>16474</td>\n",
              "      <td>0</td>\n",
              "      <td>2851</td>\n",
              "      <td>249</td>\n",
              "      <td>154</td>\n",
              "      <td>112</td>\n",
              "      <td>48</td>\n",
              "      <td>114</td>\n",
              "      <td>137</td>\n",
              "      <td>25</td>\n",
              "      <td>0</td>\n",
              "      <td>11773.0</td>\n",
              "      <td>20005.0</td>\n",
              "      <td>596.0</td>\n",
              "      <td>327.0</td>\n",
              "      <td>8302.0</td>\n",
              "      <td>-3084.0</td>\n",
              "      <td>-1681.0</td>\n",
              "      <td>NaN</td>\n",
              "      <td>1107.0</td>\n",
              "      <td>4668.0</td>\n",
              "      <td>5152.0</td>\n",
              "      <td>12927.0</td>\n",
              "      <td>400.0</td>\n",
              "      <td>175.0</td>\n",
              "      <td>NaN</td>\n",
              "      <td>4111.0</td>\n",
              "      <td>67.0</td>\n",
              "      <td>172.0</td>\n",
              "      <td>785.0</td>\n",
              "      <td>75.0</td>\n",
              "      <td>37.0</td>\n",
              "      <td>6.0</td>\n",
              "      <td>349.0</td>\n",
              "      <td>2.0</td>\n",
              "      <td>NaN</td>\n",
              "      <td>25.0</td>\n",
              "      <td>2.0</td>\n",
              "      <td>NaN</td>\n",
              "      <td>2.0</td>\n",
              "      <td>15.0</td>\n",
              "      <td>38.0</td>\n",
              "      <td>3.0</td>\n",
              "      <td>NaN</td>\n",
              "      <td>7.0</td>\n",
              "      <td>NaN</td>\n",
              "      <td>75.0</td>\n",
              "      <td>NaN</td>\n",
              "      <td>1.0</td>\n",
              "      <td>NaN</td>\n",
              "      <td>NaN</td>\n",
              "      <td>NaN</td>\n",
              "      <td>4.0</td>\n",
              "      <td>NaN</td>\n",
              "      <td>NaN</td>\n",
              "      <td>NaN</td>\n",
              "      <td>NaN</td>\n",
              "      <td>NaN</td>\n",
              "      <td>NaN</td>\n",
              "    </tr>\n",
              "    <tr>\n",
              "      <th>499999</th>\n",
              "      <td>49999</td>\n",
              "      <td>158360</td>\n",
              "      <td>53</td>\n",
              "      <td>132</td>\n",
              "      <td>2972</td>\n",
              "      <td>21195</td>\n",
              "      <td>520</td>\n",
              "      <td>533</td>\n",
              "      <td>6</td>\n",
              "      <td>6</td>\n",
              "      <td>17</td>\n",
              "      <td>0</td>\n",
              "      <td>294</td>\n",
              "      <td>None</td>\n",
              "      <td>9822</td>\n",
              "      <td>0</td>\n",
              "      <td>5747</td>\n",
              "      <td>1</td>\n",
              "      <td>158</td>\n",
              "      <td>48</td>\n",
              "      <td>51</td>\n",
              "      <td>40</td>\n",
              "      <td>141</td>\n",
              "      <td>21</td>\n",
              "      <td>0</td>\n",
              "      <td>8210.0</td>\n",
              "      <td>15571.0</td>\n",
              "      <td>894.0</td>\n",
              "      <td>103.0</td>\n",
              "      <td>NaN</td>\n",
              "      <td>-2874.0</td>\n",
              "      <td>NaN</td>\n",
              "      <td>NaN</td>\n",
              "      <td>1207.0</td>\n",
              "      <td>4628.0</td>\n",
              "      <td>3442.0</td>\n",
              "      <td>10888.0</td>\n",
              "      <td>400.0</td>\n",
              "      <td>175.0</td>\n",
              "      <td>NaN</td>\n",
              "      <td>1209.0</td>\n",
              "      <td>1.0</td>\n",
              "      <td>NaN</td>\n",
              "      <td>448.0</td>\n",
              "      <td>131.0</td>\n",
              "      <td>37.0</td>\n",
              "      <td>NaN</td>\n",
              "      <td>27.0</td>\n",
              "      <td>NaN</td>\n",
              "      <td>6.0</td>\n",
              "      <td>21.0</td>\n",
              "      <td>1.0</td>\n",
              "      <td>NaN</td>\n",
              "      <td>1.0</td>\n",
              "      <td>1.0</td>\n",
              "      <td>28.0</td>\n",
              "      <td>4.0</td>\n",
              "      <td>NaN</td>\n",
              "      <td>7.0</td>\n",
              "      <td>NaN</td>\n",
              "      <td>NaN</td>\n",
              "      <td>NaN</td>\n",
              "      <td>NaN</td>\n",
              "      <td>1.0</td>\n",
              "      <td>NaN</td>\n",
              "      <td>NaN</td>\n",
              "      <td>NaN</td>\n",
              "      <td>NaN</td>\n",
              "      <td>NaN</td>\n",
              "      <td>NaN</td>\n",
              "      <td>NaN</td>\n",
              "      <td>NaN</td>\n",
              "      <td>NaN</td>\n",
              "    </tr>\n",
              "  </tbody>\n",
              "</table>\n",
              "<p>500000 rows × 73 columns</p>\n",
              "</div>"
            ],
            "text/plain": [
              "        match_id  ...  unit_order_continue\n",
              "0              0  ...                  NaN\n",
              "1              0  ...                  NaN\n",
              "2              0  ...                  NaN\n",
              "3              0  ...                  NaN\n",
              "4              0  ...                  NaN\n",
              "...          ...  ...                  ...\n",
              "499995     49999  ...                  NaN\n",
              "499996     49999  ...                  NaN\n",
              "499997     49999  ...                  NaN\n",
              "499998     49999  ...                  NaN\n",
              "499999     49999  ...                  NaN\n",
              "\n",
              "[500000 rows x 73 columns]"
            ]
          },
          "metadata": {
            "tags": []
          },
          "execution_count": 50
        }
      ]
    },
    {
      "cell_type": "code",
      "metadata": {
        "id": "34Sl5ao11tZN",
        "colab_type": "code",
        "colab": {
          "base_uri": "https://localhost:8080/",
          "height": 490
        },
        "outputId": "c0667a0b-dece-4c57-bf86-aa8f73ccfac6"
      },
      "source": [
        "dataframe.columns"
      ],
      "execution_count": 51,
      "outputs": [
        {
          "output_type": "execute_result",
          "data": {
            "text/plain": [
              "Index(['match_id', 'account_id', 'hero_id', 'player_slot', 'gold',\n",
              "       'gold_spent', 'gold_per_min', 'xp_per_min', 'kills', 'deaths',\n",
              "       'assists', 'denies', 'last_hits', 'stuns', 'hero_damage',\n",
              "       'hero_healing', 'tower_damage', 'item_0', 'item_1', 'item_2', 'item_3',\n",
              "       'item_4', 'item_5', 'level', 'leaver_status', 'xp_hero', 'xp_creep',\n",
              "       'xp_roshan', 'xp_other', 'gold_other', 'gold_death', 'gold_buyback',\n",
              "       'gold_abandon', 'gold_sell', 'gold_destroying_structure',\n",
              "       'gold_killing_heros', 'gold_killing_creeps', 'gold_killing_roshan',\n",
              "       'gold_killing_couriers', 'unit_order_none',\n",
              "       'unit_order_move_to_position', 'unit_order_move_to_target',\n",
              "       'unit_order_attack_move', 'unit_order_attack_target',\n",
              "       'unit_order_cast_position', 'unit_order_cast_target',\n",
              "       'unit_order_cast_target_tree', 'unit_order_cast_no_target',\n",
              "       'unit_order_cast_toggle', 'unit_order_hold_position',\n",
              "       'unit_order_train_ability', 'unit_order_drop_item',\n",
              "       'unit_order_give_item', 'unit_order_pickup_item',\n",
              "       'unit_order_pickup_rune', 'unit_order_purchase_item',\n",
              "       'unit_order_sell_item', 'unit_order_disassemble_item',\n",
              "       'unit_order_move_item', 'unit_order_cast_toggle_auto',\n",
              "       'unit_order_stop', 'unit_order_taunt', 'unit_order_buyback',\n",
              "       'unit_order_glyph', 'unit_order_eject_item_from_stash',\n",
              "       'unit_order_cast_rune', 'unit_order_ping_ability',\n",
              "       'unit_order_move_to_direction', 'unit_order_patrol',\n",
              "       'unit_order_vector_target_position', 'unit_order_radar',\n",
              "       'unit_order_set_item_combine_lock', 'unit_order_continue'],\n",
              "      dtype='object')"
            ]
          },
          "metadata": {
            "tags": []
          },
          "execution_count": 51
        }
      ]
    },
    {
      "cell_type": "code",
      "metadata": {
        "id": "48LG5v-h6xvY",
        "colab_type": "code",
        "colab": {
          "base_uri": "https://localhost:8080/",
          "height": 54
        },
        "outputId": "d1179aa7-5887-4631-844b-89a5d6b49c0b"
      },
      "source": [
        "# se puede armar una subseccion usando los corchetes, y llamandolos de un dataframe ya existente.\n",
        "#los subsets = datframe [[hero_id, gold, kills, deaths, assists]]\n",
        "# .dropna --> nos da la capacidad de eliminar ciertos tipos de columnas\n",
        "subset = dataframe [[ 'kills', 'deaths', 'assists']].dropna(axis=0, how='any')\n",
        "\n",
        "# se puede definir a travez de columns desde que columnas llamar despues. Exclusivos \"Overall\" porque no nos intereza explicarlo\n",
        "columns = subset.columns [:]\n",
        "print(columns)\n",
        "\n",
        "# .float --> fuerza a los datos a ser fotantes para facilitar operaciones\n",
        "players = torch.tensor(subset.values).float()\n",
        "players.shape, players.type()\n"
      ],
      "execution_count": 97,
      "outputs": [
        {
          "output_type": "stream",
          "text": [
            "Index(['kills', 'deaths', 'assists'], dtype='object')\n"
          ],
          "name": "stdout"
        },
        {
          "output_type": "execute_result",
          "data": {
            "text/plain": [
              "(torch.Size([500000, 3]), 'torch.FloatTensor')"
            ]
          },
          "metadata": {
            "tags": []
          },
          "execution_count": 97
        }
      ]
    },
    {
      "cell_type": "code",
      "metadata": {
        "id": "I6OxMp52CU-j",
        "colab_type": "code",
        "colab": {
          "base_uri": "https://localhost:8080/",
          "height": 145
        },
        "outputId": "3c09a3b8-38e5-4cc6-fa4f-3e5c1d5fe19a"
      },
      "source": [
        "# se puede eliminar una columna en especifico e este caso no eliminaremos ninguna\n",
        "data = players[:, 2:]\n",
        "data, data.shape"
      ],
      "execution_count": 91,
      "outputs": [
        {
          "output_type": "execute_result",
          "data": {
            "text/plain": [
              "(tensor([[ 3., 18.],\n",
              "         [ 3., 18.],\n",
              "         [ 4., 15.],\n",
              "         ...,\n",
              "         [ 3., 11.],\n",
              "         [ 6., 17.],\n",
              "         [ 6., 17.]]), torch.Size([500000, 2]))"
            ]
          },
          "metadata": {
            "tags": []
          },
          "execution_count": 91
        }
      ]
    },
    {
      "cell_type": "code",
      "metadata": {
        "id": "lmET9gfuByHe",
        "colab_type": "code",
        "colab": {
          "base_uri": "https://localhost:8080/",
          "height": 54
        },
        "outputId": "7f02a648-b5f7-4ea9-f322-2e2e51057cbb"
      },
      "source": [
        "# se puede escoger una columna en concreto para tensor\n",
        "target = players[:, 0]\n",
        "target, target.shape"
      ],
      "execution_count": 92,
      "outputs": [
        {
          "output_type": "execute_result",
          "data": {
            "text/plain": [
              "(tensor([3261., 2954.,  110.,  ..., 1059., 3165., 2972.]),\n",
              " torch.Size([500000]))"
            ]
          },
          "metadata": {
            "tags": []
          },
          "execution_count": 92
        }
      ]
    },
    {
      "cell_type": "code",
      "metadata": {
        "id": "QvTZcmL3DY9J",
        "colab_type": "code",
        "colab": {
          "base_uri": "https://localhost:8080/",
          "height": 35
        },
        "outputId": "275e5514-51ad-4ea7-ead8-761c3e55d5d8"
      },
      "source": [
        "media = torch.mean(data, dim=0)\n",
        "media"
      ],
      "execution_count": 93,
      "outputs": [
        {
          "output_type": "execute_result",
          "data": {
            "text/plain": [
              "tensor([ 7.6808, 11.7619])"
            ]
          },
          "metadata": {
            "tags": []
          },
          "execution_count": 93
        }
      ]
    },
    {
      "cell_type": "code",
      "metadata": {
        "id": "TtLP-YuoDiU5",
        "colab_type": "code",
        "colab": {
          "base_uri": "https://localhost:8080/",
          "height": 35
        },
        "outputId": "9ee4f8ae-c541-4c23-a26c-a2d04799750c"
      },
      "source": [
        "std = torch.std(data, dim=0)\n",
        "std"
      ],
      "execution_count": 94,
      "outputs": [
        {
          "output_type": "execute_result",
          "data": {
            "text/plain": [
              "tensor([3.8081, 6.3934])"
            ]
          },
          "metadata": {
            "tags": []
          },
          "execution_count": 94
        }
      ]
    },
    {
      "cell_type": "code",
      "metadata": {
        "id": "xEdK60RQDpju",
        "colab_type": "code",
        "colab": {
          "base_uri": "https://localhost:8080/",
          "height": 145
        },
        "outputId": "ff6ddc53-bb2e-4148-d0e5-f09b9ef109ed"
      },
      "source": [
        "# realizamos un proceso de noralizacion de datos en busqueda de z\n",
        "normal = (data-media)/std\n",
        "normal"
      ],
      "execution_count": 95,
      "outputs": [
        {
          "output_type": "execute_result",
          "data": {
            "text/plain": [
              "tensor([[-1.2292,  0.9757],\n",
              "        [-1.2292,  0.9757],\n",
              "        [-0.9666,  0.5065],\n",
              "        ...,\n",
              "        [-1.2292, -0.1192],\n",
              "        [-0.4414,  0.8193],\n",
              "        [-0.4414,  0.8193]])"
            ]
          },
          "metadata": {
            "tags": []
          },
          "execution_count": 95
        }
      ]
    },
    {
      "cell_type": "code",
      "metadata": {
        "id": "Ax5faQiZD9zF",
        "colab_type": "code",
        "colab": {
          "base_uri": "https://localhost:8080/",
          "height": 90
        },
        "outputId": "9c27005c-86fa-4bcd-cb9e-4d84f7c20475"
      },
      "source": [
        "''' torch.get() --> ge = GreaterEqual (>=)\n",
        "    torch.lt() --> lt = LowerThan (<)\n",
        "    toch.gt() --> gt = GreaterTha (>)'''\n",
        "\n",
        "    # creamos calsificaciones en base a los datos que tenemos\n",
        "\n",
        "buenos = data[torch.ge(target, 85)]\n",
        "normales = data[torch.gt(target, 70) & torch.lt(target, 85)]\n",
        "regulares = data[torch.le(target, 70)]\n",
        "\n",
        "    # creacion de medias de las cada clasificacion previamente creada\n",
        "\n",
        "mbuenos = torch.mean(buenos, dim=0)\n",
        "mnormales = torch.mean(normales, dim=0)\n",
        "mregulares = torch.mean(regulares, dim=0)\n",
        "\n",
        "columns, mbuenos, mnormales, mregulares\n",
        "\n",
        "    "
      ],
      "execution_count": 98,
      "outputs": [
        {
          "output_type": "execute_result",
          "data": {
            "text/plain": [
              "(Index(['kills', 'deaths', 'assists'], dtype='object'),\n",
              " tensor([ 7.6399, 11.9450]),\n",
              " tensor([9.3510, 9.0281]),\n",
              " tensor([8.4433, 7.4790]))"
            ]
          },
          "metadata": {
            "tags": []
          },
          "execution_count": 98
        }
      ]
    }
  ]
}