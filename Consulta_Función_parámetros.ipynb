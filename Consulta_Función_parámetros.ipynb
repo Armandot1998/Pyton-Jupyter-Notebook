{
 "cells": [
  {
   "cell_type": "markdown",
   "metadata": {},
   "source": [
    "# Inteligencia artificial "
   ]
  },
  {
   "cell_type": "markdown",
   "metadata": {},
   "source": [
    "### Como usar una función como parámetro en otra?"
   ]
  },
  {
   "cell_type": "code",
   "execution_count": 9,
   "metadata": {},
   "outputs": [],
   "source": [
    "# Por supuesto, en general todos los datos en Python están representados por objetos o relaciones entre objetos.\n",
    "# No hay nada particularmente especial en relación a las funciones, son objetos de primera clase y \n",
    "# puedes asignarlas a otra variable, almacenarlas en un contenedor (lista, diccionario...),\n",
    "# pasarlas como argumento, etc como cualquier otro objeto.\n",
    "\n",
    "def sumar_5(x): # Declaramos un funcion que recibe como parámetro un valor y lo sumará 5\n",
    "    return x + 5\n",
    "\n",
    "def restar_5(x): # Declaramos un funcion que recibe como parámetro un valor y lo restará 5\n",
    "    return x - 2\n",
    "\n",
    "def multiplicar_5(x): # Declaramos un funcion que recibe como parámetro un valor y lo multiplicará por 5\n",
    "    return x * 5\n",
    "\n",
    "def operar(func, *args): # Declaramos un funcion que recibe dos parámetros: recibe el nombre de la función y \"n\" valores \n",
    "# Esta función operar nos permite utilizar cualquiera de las las funciones y realizarlas para los n valores que ingresemos\n",
    "    \n",
    "    for n in args:\n",
    "        print(func(n))\n"
   ]
  },
  {
   "cell_type": "code",
   "execution_count": 8,
   "metadata": {},
   "outputs": [
    {
     "name": "stdout",
     "output_type": "stream",
     "text": [
      "7\n",
      "8\n",
      "10\n",
      "15\n",
      "50\n"
     ]
    }
   ],
   "source": [
    "# En este caso utilizamos la función operar y en sus parámetros especificamos que vamos a operar\n",
    "# en este caso sumaremos + 5 al valor escrito a continuación y a continuación, es decir podremos agregar \"n\" valores\n",
    "# operar a la función operar y realizara la operación especificada.\n",
    "\n",
    "operar(sumar_5, 2, 3, 5, 10, 45)"
   ]
  },
  {
   "cell_type": "code",
   "execution_count": 11,
   "metadata": {},
   "outputs": [
    {
     "name": "stdout",
     "output_type": "stream",
     "text": [
      "-1\n",
      "1\n",
      "2\n",
      "3\n",
      "4\n",
      "5\n"
     ]
    }
   ],
   "source": [
    "operar(restar_5, 1, 3, 4, 5, 6, 7)"
   ]
  },
  {
   "cell_type": "code",
   "execution_count": 12,
   "metadata": {},
   "outputs": [
    {
     "name": "stdout",
     "output_type": "stream",
     "text": [
      "5\n",
      "10\n",
      "15\n",
      "20\n",
      "25\n",
      "30\n",
      "35\n"
     ]
    }
   ],
   "source": [
    "operar(multiplicar_5, 1, 2, 3, 4, 5, 6, 7)"
   ]
  },
  {
   "cell_type": "code",
   "execution_count": null,
   "metadata": {},
   "outputs": [],
   "source": []
  }
 ],
 "metadata": {
  "kernelspec": {
   "display_name": "Python 3",
   "language": "python",
   "name": "python3"
  },
  "language_info": {
   "codemirror_mode": {
    "name": "ipython",
    "version": 3
   },
   "file_extension": ".py",
   "mimetype": "text/x-python",
   "name": "python",
   "nbconvert_exporter": "python",
   "pygments_lexer": "ipython3",
   "version": "3.7.6"
  }
 },
 "nbformat": 4,
 "nbformat_minor": 4
}
