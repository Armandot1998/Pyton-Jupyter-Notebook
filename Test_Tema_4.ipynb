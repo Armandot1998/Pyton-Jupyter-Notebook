{
  "nbformat": 4,
  "nbformat_minor": 0,
  "metadata": {
    "colab": {
      "name": "Test_Tema_4.ipynb",
      "provenance": [],
      "authorship_tag": "ABX9TyP9F2BxyG269yKEMxvhpmXP",
      "include_colab_link": true
    },
    "kernelspec": {
      "name": "python3",
      "display_name": "Python 3"
    }
  },
  "cells": [
    {
      "cell_type": "markdown",
      "metadata": {
        "id": "view-in-github",
        "colab_type": "text"
      },
      "source": [
        "<a href=\"https://colab.research.google.com/github/Armandot1998/Pyton-Jupyter-Notebook/blob/master/Test_Tema_4.ipynb\" target=\"_parent\"><img src=\"https://colab.research.google.com/assets/colab-badge.svg\" alt=\"Open In Colab\"/></a>"
      ]
    },
    {
      "cell_type": "markdown",
      "metadata": {
        "id": "A-c_i-bbQSwC",
        "colab_type": "text"
      },
      "source": [
        "**1. ¿Cuáles se pueden considerar definiciones de la «inteligencia artificial»?**                                           \n",
        "- El arte de desarrollar máquinas con capacidad para realizar funciones que\n",
        "cuando son realizadas por personas requieren de inteligencia.\n",
        "\n",
        "**2. Han contribuido a los fundamentos de la inteligencia artificial:**\n",
        "- La filosofía.\n",
        "- La economía.\n",
        "- Las matemáticas.\n",
        "\n",
        "**3. Los teoremas de incompletitud de Gödel:**\n",
        "- Demuestran que existen afirmaciones que no se pueden demostrar\n",
        "verdaderas ni falsas.  \n",
        "\n",
        "**4. La economía:**\n",
        "- La econometría ha aportado mucho conocimiento a ciertas técnicas de\n",
        "inteligencia artificial.\n",
        "\n",
        "**5. La historia de la inteligencia artificial:**\n",
        "- Ha sido un cambio continuo de éxitos desde los años 50.\n",
        "\n",
        "**6. Los sistemas expertos:**\n",
        "- A veces exigen el empleo de ontologías para representar y modelar el\n",
        "conocimiento disponible.\n",
        "\n",
        "**7. Las técnicas de procesamiento del lenguaje natural:**\n",
        "-  A veces requieren gran capacidad de cómputo para responder de forma muy\n",
        "breve al usuario.\n",
        "- Afrontan el reto de lidiar con varios idiomas y multitud de acentos.\n",
        "- pueden aplicarse al diseño de chatbot\n",
        "\n",
        "**8. Los algoritmos genéticos:**\n",
        "- Simulan las leyes de la evolución para intentar encontrar la mejor solución a\n",
        "problemas reales.\n",
        "\n",
        "**9. El aprendizaje automático:**\n",
        "- Consiste en compartir con la máquina una serie de reglas para que tome las\n",
        "decisiones más oportunas.\n",
        "\n",
        "**10. La computación cognitiva:**\n",
        "- Implica el uso de grandes volúmenes de datos proveyendo el adecuado\n",
        "contexto."
      ]
    }
  ]
}