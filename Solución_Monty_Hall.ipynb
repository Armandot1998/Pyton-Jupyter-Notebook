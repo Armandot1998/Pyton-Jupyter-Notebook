{
 "cells": [
  {
   "cell_type": "markdown",
   "metadata": {},
   "source": [
    "# Resolviendo el problema de Monty Hall"
   ]
  },
  {
   "cell_type": "markdown",
   "metadata": {},
   "source": [
    "## Problematica original de 3 puertas"
   ]
  },
  {
   "cell_type": "code",
   "execution_count": 69,
   "metadata": {},
   "outputs": [
    {
     "name": "stdout",
     "output_type": "stream",
     "text": [
      "Total de partidas =  10\n",
      "Puertas del juego =  3\n",
      " \n",
      "Numero de partidas ganadas con cambio =  5  es decir el  50.0 %\n",
      "Numero de partidas ganadas sin cambio =  5  es decir el  50.0 %\n",
      " \n",
      "La suma de ganadas cambiando de puerta  5  mas  las ganadas sin cambiar de puerta 5\n",
      "es =  10 , que es igual al numero de ciclos\n"
     ]
    }
   ],
   "source": [
    "# Como funciona el problema de las 3 puertas en este caso, al escoger una de 3 puertas tenemos una probabilidad 1/3 de ganar\n",
    "# si se habre una puerta de las otras 2 que quedan y esta esta con una cabra la probabilidad de la puerta habierta se tranfiere\n",
    "# a la otra puerta que queda dando una probaliddad de 2/3 de ganar si escogemos esa puerta es decir las probabilidades de ganar\n",
    "# al nosostros cambiar de puerta aumentan en casi el doble de probabilidad de si nos mantenemos con la puerta escogida al príncipio \n",
    "\n",
    "# Las tres puertas \n",
    "\n",
    "import random\n",
    "\n",
    "w=0; # Veces que ganas sin cambiar de puerta\n",
    "wc=0 # Veces que gana Cambiando de puerta\n",
    "vps=0 # Veces que Pierde sin cambiar de puerta\n",
    "vpc=0 # Veces que Pierde Vambiando de puerta\n",
    "p = 10 # Número de pertidas a jugar\n",
    "\n",
    "for i in range(p):\n",
    "    pe=random.randrange(1,4) # pe = Puerta escogida\n",
    "    pp=random.randrange(1,4) # pp = puerta premiada\n",
    "    \n",
    "    if pe == pp:\n",
    "        w=w+1\n",
    "    else:\n",
    "        vps =vps+1\n",
    "       \n",
    "    if pe == 1 and pp==1:\n",
    "        vpc=vpc+1\n",
    "    \n",
    "    if pe == 2 and pp==2:\n",
    "        vpc=vpc+1\n",
    "    \n",
    "    if pe == 3 and pp==3:\n",
    "        vpc=vpc+1\n",
    "\n",
    "    if pe == 2 and pp==1:\n",
    "        wc=wc+1\n",
    "    \n",
    "    if pe == 3 and pp==1:\n",
    "        wc=wc+1   \n",
    "        \n",
    "    if pe == 1 and pp==2:\n",
    "        wc=wc+1\n",
    "    \n",
    "    if pe == 3 and pp==2:\n",
    "        wc=wc+1\n",
    "     \n",
    "    if pe == 1 and pp==3:\n",
    "        wc=wc+1\n",
    "    \n",
    "    if pe == 2 and pp==3:\n",
    "        wc=wc+1\n",
    "\n",
    "print('Total de partidas = ', p)\n",
    "print('Puertas del juego = ', '3')\n",
    "print(' ')\n",
    "print('Numero de partidas ganadas con cambio = ',w, ' es decir el ', (w/p) * 100, '%')\n",
    "print('Numero de partidas ganadas sin cambio = ',wc, ' es decir el ', (wc/p) * 100, '%')\n",
    "print(' ')\n",
    "\n",
    "# Adeas se puede demosrar que la simulacion es conrecta en la suenguie linea.\n",
    "\n",
    "print('La suma de ganadas cambiando de puerta ',w,' mas  las ganadas sin cambiar de puerta',wc)\n",
    "print('es = ',w+wc,', que es igual al numero de ciclos')"
   ]
  },
  {
   "cell_type": "markdown",
   "metadata": {},
   "source": [
    "## Dando la opción de defnir el número de puertas"
   ]
  },
  {
   "cell_type": "code",
   "execution_count": 66,
   "metadata": {},
   "outputs": [
    {
     "name": "stdout",
     "output_type": "stream",
     "text": [
      "Total de partidas =  10\n",
      "Puertas del juego =  4\n",
      " \n",
      "Numero de partidas ganadas con cambio =  9  es decir el  90.0 %\n",
      "Numero de partidas ganadas sin cambio =  1  es decir el  10.0 %\n",
      " \n",
      "La suma de ganadas cambiando de puerta  9  mas  las ganadas sin cambiar de puerta 1\n",
      "es =  10 , que es igual al numero de ciclos\n"
     ]
    }
   ],
   "source": [
    "# La problematica es la misma que el primer ejemplo, pero en esta ocación podemos cambiar el número de puertas con las que se \n",
    "# realizará el juego\n",
    "\n",
    "import random\n",
    "\n",
    "numero_partidas = 10\n",
    "puertas = 4\n",
    "partidad_ganadas_cambio = 0\n",
    "partidad_ganadas_sin_cambio = 0\n",
    "\n",
    "for indice in range(0,numero_partidas):\n",
    "    puerta_premiada = random.randrange(0,puertas) #Colocar el premio en una puerta \n",
    "    puerta_escogida = random.randrange(0,puertas) #Escoger una puerta\n",
    "    \n",
    "#La puerta de premio y la puerta escogida nunca se van abrir \n",
    "    \n",
    "    if puerta_premiada != puerta_escogida:\n",
    "         partidad_ganadas_cambio = partidad_ganadas_cambio + 1\n",
    "           \n",
    "    else:\n",
    "        partidad_ganadas_sin_cambio= partidad_ganadas_sin_cambio + 1\n",
    "\n",
    "porcentaje_cambio = (partidad_ganadas_cambio / numero_partidas) * 100 #Obteninendo porcentaje de partidas ganadas con cambio\n",
    "porcentaje_sincambio = (partidad_ganadas_sin_cambio / numero_partidas) * 100 #Obteninendo porcentaje de partidas ganadas sin cambioprint('--------------------------------')\n",
    "\n",
    "print('Total de partidas = ', numero_partidas)\n",
    "print('Puertas del juego = ', puertas)\n",
    "print(' ')\n",
    "print('Numero de partidas ganadas con cambio = ' ,partidad_ganadas_cambio , ' es decir el ', porcentaje_cambio, '%')\n",
    "print('Numero de partidas ganadas sin cambio = ' ,partidad_ganadas_sin_cambio, ' es decir el ', porcentaje_sincambio,'%')\n",
    "\n",
    "# Adeas se puede demosrar que la simulacion es conrecta en la suenguie linea.\n",
    "print(' ')\n",
    "print('La suma de ganadas cambiando de puerta ',partidad_ganadas_cambio ,' mas  las ganadas sin cambiar de puerta',partidad_ganadas_sin_cambio)\n",
    "print('es = ',w+wc,', que es igual al numero de ciclos')"
   ]
  },
  {
   "cell_type": "code",
   "execution_count": null,
   "metadata": {},
   "outputs": [],
   "source": []
  }
 ],
 "metadata": {
  "kernelspec": {
   "display_name": "Python 3",
   "language": "python",
   "name": "python3"
  },
  "language_info": {
   "codemirror_mode": {
    "name": "ipython",
    "version": 3
   },
   "file_extension": ".py",
   "mimetype": "text/x-python",
   "name": "python",
   "nbconvert_exporter": "python",
   "pygments_lexer": "ipython3",
   "version": "3.7.6"
  }
 },
 "nbformat": 4,
 "nbformat_minor": 4
}
